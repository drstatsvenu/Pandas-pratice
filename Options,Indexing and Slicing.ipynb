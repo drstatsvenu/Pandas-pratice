{
 "cells": [
  {
   "cell_type": "code",
   "execution_count": 1,
   "metadata": {
    "collapsed": true
   },
   "outputs": [],
   "source": [
    "import numpy as np\n",
    "import pandas as pd"
   ]
  },
  {
   "cell_type": "code",
   "execution_count": 3,
   "metadata": {},
   "outputs": [
    {
     "data": {
      "text/plain": [
       "60"
      ]
     },
     "execution_count": 3,
     "metadata": {},
     "output_type": "execute_result"
    }
   ],
   "source": [
    "pd.options.display.max_rows"
   ]
  },
  {
   "cell_type": "code",
   "execution_count": 6,
   "metadata": {},
   "outputs": [],
   "source": [
    "pd.reset_option('display.max_rows')"
   ]
  },
  {
   "cell_type": "code",
   "execution_count": 7,
   "metadata": {},
   "outputs": [
    {
     "data": {
      "text/plain": [
       "60"
      ]
     },
     "execution_count": 7,
     "metadata": {},
     "output_type": "execute_result"
    }
   ],
   "source": [
    "pd.get_option('display.max_rows')"
   ]
  },
  {
   "cell_type": "code",
   "execution_count": 9,
   "metadata": {},
   "outputs": [],
   "source": [
    "pd.set_option('display.max_rows',100)"
   ]
  },
  {
   "cell_type": "code",
   "execution_count": 10,
   "metadata": {},
   "outputs": [
    {
     "data": {
      "text/plain": [
       "100"
      ]
     },
     "execution_count": 10,
     "metadata": {},
     "output_type": "execute_result"
    }
   ],
   "source": [
    "pd.get_option('display.max_rows')"
   ]
  },
  {
   "cell_type": "code",
   "execution_count": 13,
   "metadata": {},
   "outputs": [],
   "source": [
    "pd.reset_option('display.max_rows')\n",
    "#it is not necessary that you give display.max_rows everytime you can also give max_r or something like that but only thing is\n",
    "#that it should distinctly recognisable\n",
    "#max_col cannot be given shorthand because max_colwidth and max_columns two diff functions are there"
   ]
  },
  {
   "cell_type": "code",
   "execution_count": 14,
   "metadata": {},
   "outputs": [
    {
     "data": {
      "text/plain": [
       "60"
      ]
     },
     "execution_count": 14,
     "metadata": {},
     "output_type": "execute_result"
    }
   ],
   "source": [
    "pd.get_option('display.max_rows')"
   ]
  },
  {
   "cell_type": "code",
   "execution_count": null,
   "metadata": {
    "collapsed": true
   },
   "outputs": [],
   "source": [
    "#pandas.options.display.max_rows is a generic method but we have 5 methods which encompasses all the options like\n",
    "#get_option\n",
    "#set_option\n",
    "#reset_option\n",
    "#describe_option\n",
    "#option_context ; these revert back to original settings after a codebock is executed this generally started by with keyword"
   ]
  },
  {
   "cell_type": "code",
   "execution_count": 15,
   "metadata": {
    "collapsed": true
   },
   "outputs": [],
   "source": [
    "#get mode.sim_interactive it returns false by default"
   ]
  },
  {
   "cell_type": "code",
   "execution_count": null,
   "metadata": {
    "collapsed": true
   },
   "outputs": [],
   "source": [
    "#It is possible to deprecate multiple options at once \n",
    "pd.reset_option('^display')\n",
    "#it will reset all the options with display in command word"
   ]
  },
  {
   "cell_type": "code",
   "execution_count": null,
   "metadata": {
    "collapsed": true
   },
   "outputs": [],
   "source": [
    "set_option('max_rows')\n",
    "set_option('expand_frame_repr')  this means that it extends frame without giving any ellipsis(across multiple lines)"
   ]
  },
  {
   "cell_type": "code",
   "execution_count": 16,
   "metadata": {
    "collapsed": true
   },
   "outputs": [],
   "source": [
    "#max_colwidth\n",
    "#max_info_columns\n",
    "#you can set precision\n",
    "#chop_threshold to round every value to zero once it is below the threshold\n",
    "#there is colheader_justify option with arguments left and right where we can align the column label"
   ]
  },
  {
   "cell_type": "code",
   "execution_count": null,
   "metadata": {
    "collapsed": true
   },
   "outputs": [],
   "source": [
    "#mode.use_inf_as_null\n",
    "#mode.sim.interactive\n",
    "#mode.chained_assignment   It rsaises an exception if there is a chained assignment\n",
    "#io.excel.xlsx.writer"
   ]
  },
  {
   "cell_type": "code",
   "execution_count": null,
   "metadata": {
    "collapsed": true
   },
   "outputs": [],
   "source": [
    "#To produce a particular format we dont use set_options\n",
    "#but we use set_eng_float_format\n",
    "pd.set_eng_float_format(accuracy=3,use_eng_prefix - True)"
   ]
  },
  {
   "cell_type": "code",
   "execution_count": null,
   "metadata": {
    "collapsed": true
   },
   "outputs": [],
   "source": [
    "#indexing and slicing operations.\n",
    "#slicing operations can be done in using three commands such as loc,iloc and ix"
   ]
  },
  {
   "cell_type": "code",
   "execution_count": 19,
   "metadata": {},
   "outputs": [],
   "source": [
    "df1 = pd.DataFrame(np.random.randn(6,4),\n",
    "                index=list('abcdef'),\n",
    "                columns=list('ABCD'))"
   ]
  },
  {
   "cell_type": "code",
   "execution_count": 27,
   "metadata": {},
   "outputs": [
    {
     "data": {
      "text/plain": [
       "A    False\n",
       "B     True\n",
       "C    False\n",
       "D     True\n",
       "Name: a, dtype: bool"
      ]
     },
     "execution_count": 27,
     "metadata": {},
     "output_type": "execute_result"
    }
   ],
   "source": [
    "df1.loc['a']>0"
   ]
  },
  {
   "cell_type": "code",
   "execution_count": 26,
   "metadata": {
    "scrolled": true
   },
   "outputs": [
    {
     "data": {
      "text/html": [
       "<div>\n",
       "<style>\n",
       "    .dataframe thead tr:only-child th {\n",
       "        text-align: right;\n",
       "    }\n",
       "\n",
       "    .dataframe thead th {\n",
       "        text-align: left;\n",
       "    }\n",
       "\n",
       "    .dataframe tbody tr th {\n",
       "        vertical-align: top;\n",
       "    }\n",
       "</style>\n",
       "<table border=\"1\" class=\"dataframe\">\n",
       "  <thead>\n",
       "    <tr style=\"text-align: right;\">\n",
       "      <th></th>\n",
       "      <th>B</th>\n",
       "      <th>D</th>\n",
       "    </tr>\n",
       "  </thead>\n",
       "  <tbody>\n",
       "    <tr>\n",
       "      <th>a</th>\n",
       "      <td>0.624640</td>\n",
       "      <td>0.081354</td>\n",
       "    </tr>\n",
       "    <tr>\n",
       "      <th>b</th>\n",
       "      <td>-1.462823</td>\n",
       "      <td>0.346851</td>\n",
       "    </tr>\n",
       "    <tr>\n",
       "      <th>c</th>\n",
       "      <td>-0.694527</td>\n",
       "      <td>1.026340</td>\n",
       "    </tr>\n",
       "    <tr>\n",
       "      <th>d</th>\n",
       "      <td>-0.402420</td>\n",
       "      <td>-0.716460</td>\n",
       "    </tr>\n",
       "    <tr>\n",
       "      <th>e</th>\n",
       "      <td>1.098868</td>\n",
       "      <td>-0.642282</td>\n",
       "    </tr>\n",
       "    <tr>\n",
       "      <th>f</th>\n",
       "      <td>-0.755094</td>\n",
       "      <td>-0.354210</td>\n",
       "    </tr>\n",
       "  </tbody>\n",
       "</table>\n",
       "</div>"
      ],
      "text/plain": [
       "          B         D\n",
       "a  0.624640  0.081354\n",
       "b -1.462823  0.346851\n",
       "c -0.694527  1.026340\n",
       "d -0.402420 -0.716460\n",
       "e  1.098868 -0.642282\n",
       "f -0.755094 -0.354210"
      ]
     },
     "execution_count": 26,
     "metadata": {},
     "output_type": "execute_result"
    }
   ],
   "source": [
    "df1.loc[:,df1.loc['a']>0]"
   ]
  },
  {
   "cell_type": "code",
   "execution_count": 41,
   "metadata": {},
   "outputs": [],
   "source": [
    "data = np.random.randn(8,6)\n",
    "dates = pd.date_range('20170718',periods=8)\n",
    "df = pd.DataFrame(data,index = dates,columns=list('ABCDEF'))\n",
    "df.at[dates[-1]+1, 'F'] = 7"
   ]
  },
  {
   "cell_type": "code",
   "execution_count": 42,
   "metadata": {},
   "outputs": [
    {
     "data": {
      "text/html": [
       "<div>\n",
       "<style>\n",
       "    .dataframe thead tr:only-child th {\n",
       "        text-align: right;\n",
       "    }\n",
       "\n",
       "    .dataframe thead th {\n",
       "        text-align: left;\n",
       "    }\n",
       "\n",
       "    .dataframe tbody tr th {\n",
       "        vertical-align: top;\n",
       "    }\n",
       "</style>\n",
       "<table border=\"1\" class=\"dataframe\">\n",
       "  <thead>\n",
       "    <tr style=\"text-align: right;\">\n",
       "      <th></th>\n",
       "      <th>A</th>\n",
       "      <th>B</th>\n",
       "      <th>C</th>\n",
       "      <th>D</th>\n",
       "      <th>E</th>\n",
       "      <th>F</th>\n",
       "    </tr>\n",
       "  </thead>\n",
       "  <tbody>\n",
       "    <tr>\n",
       "      <th>2017-07-18</th>\n",
       "      <td>0.409704</td>\n",
       "      <td>0.889196</td>\n",
       "      <td>-1.665223</td>\n",
       "      <td>-0.880352</td>\n",
       "      <td>0.195487</td>\n",
       "      <td>0.778308</td>\n",
       "    </tr>\n",
       "    <tr>\n",
       "      <th>2017-07-19</th>\n",
       "      <td>-0.592070</td>\n",
       "      <td>0.087914</td>\n",
       "      <td>-1.560311</td>\n",
       "      <td>-0.441954</td>\n",
       "      <td>0.470480</td>\n",
       "      <td>-1.094389</td>\n",
       "    </tr>\n",
       "    <tr>\n",
       "      <th>2017-07-20</th>\n",
       "      <td>-0.119200</td>\n",
       "      <td>1.418550</td>\n",
       "      <td>-0.995983</td>\n",
       "      <td>-0.894691</td>\n",
       "      <td>-1.810315</td>\n",
       "      <td>0.748493</td>\n",
       "    </tr>\n",
       "    <tr>\n",
       "      <th>2017-07-21</th>\n",
       "      <td>-0.459559</td>\n",
       "      <td>0.103733</td>\n",
       "      <td>1.129121</td>\n",
       "      <td>0.861106</td>\n",
       "      <td>-1.615406</td>\n",
       "      <td>-0.908715</td>\n",
       "    </tr>\n",
       "    <tr>\n",
       "      <th>2017-07-22</th>\n",
       "      <td>2.456409</td>\n",
       "      <td>0.362164</td>\n",
       "      <td>1.770157</td>\n",
       "      <td>1.865132</td>\n",
       "      <td>-0.150394</td>\n",
       "      <td>-0.835452</td>\n",
       "    </tr>\n",
       "    <tr>\n",
       "      <th>2017-07-23</th>\n",
       "      <td>0.289703</td>\n",
       "      <td>0.712319</td>\n",
       "      <td>0.793701</td>\n",
       "      <td>-0.686576</td>\n",
       "      <td>-1.052401</td>\n",
       "      <td>-0.504742</td>\n",
       "    </tr>\n",
       "    <tr>\n",
       "      <th>2017-07-24</th>\n",
       "      <td>-0.306261</td>\n",
       "      <td>0.643465</td>\n",
       "      <td>-1.010891</td>\n",
       "      <td>0.022846</td>\n",
       "      <td>-0.031638</td>\n",
       "      <td>0.267424</td>\n",
       "    </tr>\n",
       "    <tr>\n",
       "      <th>2017-07-25</th>\n",
       "      <td>1.967351</td>\n",
       "      <td>1.644746</td>\n",
       "      <td>0.328611</td>\n",
       "      <td>-0.996275</td>\n",
       "      <td>-0.182435</td>\n",
       "      <td>-0.751108</td>\n",
       "    </tr>\n",
       "    <tr>\n",
       "      <th>2017-07-26</th>\n",
       "      <td>NaN</td>\n",
       "      <td>NaN</td>\n",
       "      <td>NaN</td>\n",
       "      <td>NaN</td>\n",
       "      <td>NaN</td>\n",
       "      <td>7.000000</td>\n",
       "    </tr>\n",
       "  </tbody>\n",
       "</table>\n",
       "</div>"
      ],
      "text/plain": [
       "                   A         B         C         D         E         F\n",
       "2017-07-18  0.409704  0.889196 -1.665223 -0.880352  0.195487  0.778308\n",
       "2017-07-19 -0.592070  0.087914 -1.560311 -0.441954  0.470480 -1.094389\n",
       "2017-07-20 -0.119200  1.418550 -0.995983 -0.894691 -1.810315  0.748493\n",
       "2017-07-21 -0.459559  0.103733  1.129121  0.861106 -1.615406 -0.908715\n",
       "2017-07-22  2.456409  0.362164  1.770157  1.865132 -0.150394 -0.835452\n",
       "2017-07-23  0.289703  0.712319  0.793701 -0.686576 -1.052401 -0.504742\n",
       "2017-07-24 -0.306261  0.643465 -1.010891  0.022846 -0.031638  0.267424\n",
       "2017-07-25  1.967351  1.644746  0.328611 -0.996275 -0.182435 -0.751108\n",
       "2017-07-26       NaN       NaN       NaN       NaN       NaN  7.000000"
      ]
     },
     "execution_count": 42,
     "metadata": {},
     "output_type": "execute_result"
    }
   ],
   "source": [
    "df"
   ]
  },
  {
   "cell_type": "code",
   "execution_count": 43,
   "metadata": {},
   "outputs": [
    {
     "data": {
      "text/plain": [
       "Timestamp('2017-07-25 00:00:00', freq='D')"
      ]
     },
     "execution_count": 43,
     "metadata": {},
     "output_type": "execute_result"
    }
   ],
   "source": [
    "dates[-1]"
   ]
  },
  {
   "cell_type": "code",
   "execution_count": 48,
   "metadata": {
    "collapsed": true
   },
   "outputs": [],
   "source": [
    "df = pd.DataFrame({'vls': [1, 2, 3, 4], 'ids': ['a', 'b', 'f', 'n'],'ids2': ['a', 'n', 'c', 'n']})"
   ]
  },
  {
   "cell_type": "code",
   "execution_count": 51,
   "metadata": {
    "collapsed": true
   },
   "outputs": [],
   "source": [
    "values = ['a','b']"
   ]
  },
  {
   "cell_type": "code",
   "execution_count": 58,
   "metadata": {},
   "outputs": [
    {
     "data": {
      "text/html": [
       "<div>\n",
       "<style>\n",
       "    .dataframe thead tr:only-child th {\n",
       "        text-align: right;\n",
       "    }\n",
       "\n",
       "    .dataframe thead th {\n",
       "        text-align: left;\n",
       "    }\n",
       "\n",
       "    .dataframe tbody tr th {\n",
       "        vertical-align: top;\n",
       "    }\n",
       "</style>\n",
       "<table border=\"1\" class=\"dataframe\">\n",
       "  <thead>\n",
       "    <tr style=\"text-align: right;\">\n",
       "      <th></th>\n",
       "      <th>ids</th>\n",
       "      <th>ids2</th>\n",
       "      <th>vls</th>\n",
       "    </tr>\n",
       "  </thead>\n",
       "  <tbody>\n",
       "    <tr>\n",
       "      <th>0</th>\n",
       "      <td>True</td>\n",
       "      <td>True</td>\n",
       "      <td>False</td>\n",
       "    </tr>\n",
       "    <tr>\n",
       "      <th>1</th>\n",
       "      <td>True</td>\n",
       "      <td>False</td>\n",
       "      <td>False</td>\n",
       "    </tr>\n",
       "    <tr>\n",
       "      <th>2</th>\n",
       "      <td>False</td>\n",
       "      <td>False</td>\n",
       "      <td>False</td>\n",
       "    </tr>\n",
       "    <tr>\n",
       "      <th>3</th>\n",
       "      <td>False</td>\n",
       "      <td>False</td>\n",
       "      <td>False</td>\n",
       "    </tr>\n",
       "  </tbody>\n",
       "</table>\n",
       "</div>"
      ],
      "text/plain": [
       "     ids   ids2    vls\n",
       "0   True   True  False\n",
       "1   True  False  False\n",
       "2  False  False  False\n",
       "3  False  False  False"
      ]
     },
     "execution_count": 58,
     "metadata": {},
     "output_type": "execute_result"
    }
   ],
   "source": [
    "df.isin(['a','b'])"
   ]
  },
  {
   "cell_type": "code",
   "execution_count": 68,
   "metadata": {
    "collapsed": true
   },
   "outputs": [],
   "source": [
    "values = {'ids': ['a', 'b','1'], 'vls': [1, 2,6,3]}"
   ]
  },
  {
   "cell_type": "code",
   "execution_count": 69,
   "metadata": {
    "scrolled": true
   },
   "outputs": [
    {
     "data": {
      "text/html": [
       "<div>\n",
       "<style>\n",
       "    .dataframe thead tr:only-child th {\n",
       "        text-align: right;\n",
       "    }\n",
       "\n",
       "    .dataframe thead th {\n",
       "        text-align: left;\n",
       "    }\n",
       "\n",
       "    .dataframe tbody tr th {\n",
       "        vertical-align: top;\n",
       "    }\n",
       "</style>\n",
       "<table border=\"1\" class=\"dataframe\">\n",
       "  <thead>\n",
       "    <tr style=\"text-align: right;\">\n",
       "      <th></th>\n",
       "      <th>ids</th>\n",
       "      <th>ids2</th>\n",
       "      <th>vls</th>\n",
       "    </tr>\n",
       "  </thead>\n",
       "  <tbody>\n",
       "    <tr>\n",
       "      <th>0</th>\n",
       "      <td>True</td>\n",
       "      <td>False</td>\n",
       "      <td>True</td>\n",
       "    </tr>\n",
       "    <tr>\n",
       "      <th>1</th>\n",
       "      <td>True</td>\n",
       "      <td>False</td>\n",
       "      <td>True</td>\n",
       "    </tr>\n",
       "    <tr>\n",
       "      <th>2</th>\n",
       "      <td>False</td>\n",
       "      <td>False</td>\n",
       "      <td>True</td>\n",
       "    </tr>\n",
       "    <tr>\n",
       "      <th>3</th>\n",
       "      <td>False</td>\n",
       "      <td>False</td>\n",
       "      <td>False</td>\n",
       "    </tr>\n",
       "  </tbody>\n",
       "</table>\n",
       "</div>"
      ],
      "text/plain": [
       "     ids   ids2    vls\n",
       "0   True  False   True\n",
       "1   True  False   True\n",
       "2  False  False   True\n",
       "3  False  False  False"
      ]
     },
     "execution_count": 69,
     "metadata": {},
     "output_type": "execute_result"
    }
   ],
   "source": [
    "df.isin(values)"
   ]
  },
  {
   "cell_type": "code",
   "execution_count": 75,
   "metadata": {},
   "outputs": [],
   "source": [
    "dflookup = pd.DataFrame(np.random.rand(20,4), columns = ['A','B','C','D'])"
   ]
  },
  {
   "cell_type": "code",
   "execution_count": 76,
   "metadata": {},
   "outputs": [
    {
     "data": {
      "text/html": [
       "<div>\n",
       "<style>\n",
       "    .dataframe thead tr:only-child th {\n",
       "        text-align: right;\n",
       "    }\n",
       "\n",
       "    .dataframe thead th {\n",
       "        text-align: left;\n",
       "    }\n",
       "\n",
       "    .dataframe tbody tr th {\n",
       "        vertical-align: top;\n",
       "    }\n",
       "</style>\n",
       "<table border=\"1\" class=\"dataframe\">\n",
       "  <thead>\n",
       "    <tr style=\"text-align: right;\">\n",
       "      <th></th>\n",
       "      <th>A</th>\n",
       "      <th>B</th>\n",
       "      <th>C</th>\n",
       "      <th>D</th>\n",
       "    </tr>\n",
       "  </thead>\n",
       "  <tbody>\n",
       "    <tr>\n",
       "      <th>0</th>\n",
       "      <td>0.966151</td>\n",
       "      <td>0.144825</td>\n",
       "      <td>0.359952</td>\n",
       "      <td>0.451164</td>\n",
       "    </tr>\n",
       "    <tr>\n",
       "      <th>1</th>\n",
       "      <td>0.364508</td>\n",
       "      <td>0.572750</td>\n",
       "      <td>0.599954</td>\n",
       "      <td>0.239236</td>\n",
       "    </tr>\n",
       "    <tr>\n",
       "      <th>2</th>\n",
       "      <td>0.488560</td>\n",
       "      <td>0.187765</td>\n",
       "      <td>0.744424</td>\n",
       "      <td>0.966398</td>\n",
       "    </tr>\n",
       "    <tr>\n",
       "      <th>3</th>\n",
       "      <td>0.273051</td>\n",
       "      <td>0.682516</td>\n",
       "      <td>0.133782</td>\n",
       "      <td>0.845412</td>\n",
       "    </tr>\n",
       "    <tr>\n",
       "      <th>4</th>\n",
       "      <td>0.479732</td>\n",
       "      <td>0.388902</td>\n",
       "      <td>0.645903</td>\n",
       "      <td>0.748864</td>\n",
       "    </tr>\n",
       "    <tr>\n",
       "      <th>5</th>\n",
       "      <td>0.763585</td>\n",
       "      <td>0.087284</td>\n",
       "      <td>0.917983</td>\n",
       "      <td>0.114684</td>\n",
       "    </tr>\n",
       "    <tr>\n",
       "      <th>6</th>\n",
       "      <td>0.040210</td>\n",
       "      <td>0.826135</td>\n",
       "      <td>0.639961</td>\n",
       "      <td>0.296665</td>\n",
       "    </tr>\n",
       "    <tr>\n",
       "      <th>7</th>\n",
       "      <td>0.810413</td>\n",
       "      <td>0.691797</td>\n",
       "      <td>0.732505</td>\n",
       "      <td>0.978592</td>\n",
       "    </tr>\n",
       "    <tr>\n",
       "      <th>8</th>\n",
       "      <td>0.648329</td>\n",
       "      <td>0.521198</td>\n",
       "      <td>0.462386</td>\n",
       "      <td>0.993225</td>\n",
       "    </tr>\n",
       "    <tr>\n",
       "      <th>9</th>\n",
       "      <td>0.672056</td>\n",
       "      <td>0.501061</td>\n",
       "      <td>0.071414</td>\n",
       "      <td>0.209038</td>\n",
       "    </tr>\n",
       "    <tr>\n",
       "      <th>10</th>\n",
       "      <td>0.048148</td>\n",
       "      <td>0.480832</td>\n",
       "      <td>0.527811</td>\n",
       "      <td>0.958793</td>\n",
       "    </tr>\n",
       "    <tr>\n",
       "      <th>11</th>\n",
       "      <td>0.838544</td>\n",
       "      <td>0.309546</td>\n",
       "      <td>0.180372</td>\n",
       "      <td>0.512872</td>\n",
       "    </tr>\n",
       "    <tr>\n",
       "      <th>12</th>\n",
       "      <td>0.922235</td>\n",
       "      <td>0.510989</td>\n",
       "      <td>0.099139</td>\n",
       "      <td>0.134909</td>\n",
       "    </tr>\n",
       "    <tr>\n",
       "      <th>13</th>\n",
       "      <td>0.815156</td>\n",
       "      <td>0.118472</td>\n",
       "      <td>0.025990</td>\n",
       "      <td>0.577208</td>\n",
       "    </tr>\n",
       "    <tr>\n",
       "      <th>14</th>\n",
       "      <td>0.071767</td>\n",
       "      <td>0.279856</td>\n",
       "      <td>0.314281</td>\n",
       "      <td>0.805722</td>\n",
       "    </tr>\n",
       "    <tr>\n",
       "      <th>15</th>\n",
       "      <td>0.762216</td>\n",
       "      <td>0.469866</td>\n",
       "      <td>0.844494</td>\n",
       "      <td>0.284625</td>\n",
       "    </tr>\n",
       "    <tr>\n",
       "      <th>16</th>\n",
       "      <td>0.570178</td>\n",
       "      <td>0.387342</td>\n",
       "      <td>0.532866</td>\n",
       "      <td>0.659963</td>\n",
       "    </tr>\n",
       "    <tr>\n",
       "      <th>17</th>\n",
       "      <td>0.621479</td>\n",
       "      <td>0.727998</td>\n",
       "      <td>0.506136</td>\n",
       "      <td>0.711176</td>\n",
       "    </tr>\n",
       "    <tr>\n",
       "      <th>18</th>\n",
       "      <td>0.472804</td>\n",
       "      <td>0.989084</td>\n",
       "      <td>0.312172</td>\n",
       "      <td>0.184190</td>\n",
       "    </tr>\n",
       "    <tr>\n",
       "      <th>19</th>\n",
       "      <td>0.073307</td>\n",
       "      <td>0.084569</td>\n",
       "      <td>0.945669</td>\n",
       "      <td>0.830286</td>\n",
       "    </tr>\n",
       "  </tbody>\n",
       "</table>\n",
       "</div>"
      ],
      "text/plain": [
       "           A         B         C         D\n",
       "0   0.966151  0.144825  0.359952  0.451164\n",
       "1   0.364508  0.572750  0.599954  0.239236\n",
       "2   0.488560  0.187765  0.744424  0.966398\n",
       "3   0.273051  0.682516  0.133782  0.845412\n",
       "4   0.479732  0.388902  0.645903  0.748864\n",
       "5   0.763585  0.087284  0.917983  0.114684\n",
       "6   0.040210  0.826135  0.639961  0.296665\n",
       "7   0.810413  0.691797  0.732505  0.978592\n",
       "8   0.648329  0.521198  0.462386  0.993225\n",
       "9   0.672056  0.501061  0.071414  0.209038\n",
       "10  0.048148  0.480832  0.527811  0.958793\n",
       "11  0.838544  0.309546  0.180372  0.512872\n",
       "12  0.922235  0.510989  0.099139  0.134909\n",
       "13  0.815156  0.118472  0.025990  0.577208\n",
       "14  0.071767  0.279856  0.314281  0.805722\n",
       "15  0.762216  0.469866  0.844494  0.284625\n",
       "16  0.570178  0.387342  0.532866  0.659963\n",
       "17  0.621479  0.727998  0.506136  0.711176\n",
       "18  0.472804  0.989084  0.312172  0.184190\n",
       "19  0.073307  0.084569  0.945669  0.830286"
      ]
     },
     "execution_count": 76,
     "metadata": {},
     "output_type": "execute_result"
    }
   ],
   "source": [
    "dflookup"
   ]
  },
  {
   "cell_type": "code",
   "execution_count": 77,
   "metadata": {},
   "outputs": [
    {
     "data": {
      "text/plain": [
       "array([ 0.57275013,  0.7444236 ,  0.27305087,  0.38890214,  0.11468383])"
      ]
     },
     "execution_count": 77,
     "metadata": {},
     "output_type": "execute_result"
    }
   ],
   "source": [
    "dflookup.lookup([1,2,3,4,5], ['B','C','A','B','D'])"
   ]
  },
  {
   "cell_type": "code",
   "execution_count": 82,
   "metadata": {},
   "outputs": [],
   "source": [
    "arrays = [['bar','bar','baz','baz','foo','foo','qux','qux'],['one','two','one','two','one','two','one','two']]"
   ]
  },
  {
   "cell_type": "code",
   "execution_count": 81,
   "metadata": {},
   "outputs": [
    {
     "data": {
      "text/plain": [
       "array([[1, 2, 3],\n",
       "       [1, 2, 3]])"
      ]
     },
     "execution_count": 81,
     "metadata": {},
     "output_type": "execute_result"
    }
   ],
   "source": [
    "np.array([[1,2,3],[1,2,3]])"
   ]
  },
  {
   "cell_type": "code",
   "execution_count": 84,
   "metadata": {},
   "outputs": [],
   "source": [
    "tuples = list(zip(*arrays))"
   ]
  },
  {
   "cell_type": "code",
   "execution_count": 87,
   "metadata": {},
   "outputs": [],
   "source": [
    "a = pd.MultiIndex.from_tuples(tuples,names = ['First','Second'])"
   ]
  },
  {
   "cell_type": "code",
   "execution_count": 89,
   "metadata": {
    "collapsed": true
   },
   "outputs": [],
   "source": [
    "df = pd.DataFrame(np.random.randn(8,4),index=a,columns = list('ABCD'))"
   ]
  },
  {
   "cell_type": "code",
   "execution_count": 90,
   "metadata": {},
   "outputs": [
    {
     "data": {
      "text/html": [
       "<div>\n",
       "<style>\n",
       "    .dataframe thead tr:only-child th {\n",
       "        text-align: right;\n",
       "    }\n",
       "\n",
       "    .dataframe thead th {\n",
       "        text-align: left;\n",
       "    }\n",
       "\n",
       "    .dataframe tbody tr th {\n",
       "        vertical-align: top;\n",
       "    }\n",
       "</style>\n",
       "<table border=\"1\" class=\"dataframe\">\n",
       "  <thead>\n",
       "    <tr style=\"text-align: right;\">\n",
       "      <th></th>\n",
       "      <th></th>\n",
       "      <th>A</th>\n",
       "      <th>B</th>\n",
       "      <th>C</th>\n",
       "      <th>D</th>\n",
       "    </tr>\n",
       "    <tr>\n",
       "      <th>First</th>\n",
       "      <th>Second</th>\n",
       "      <th></th>\n",
       "      <th></th>\n",
       "      <th></th>\n",
       "      <th></th>\n",
       "    </tr>\n",
       "  </thead>\n",
       "  <tbody>\n",
       "    <tr>\n",
       "      <th rowspan=\"2\" valign=\"top\">bar</th>\n",
       "      <th>one</th>\n",
       "      <td>-0.436389</td>\n",
       "      <td>-1.331700</td>\n",
       "      <td>0.123662</td>\n",
       "      <td>-0.241798</td>\n",
       "    </tr>\n",
       "    <tr>\n",
       "      <th>two</th>\n",
       "      <td>-0.943330</td>\n",
       "      <td>1.862383</td>\n",
       "      <td>0.761892</td>\n",
       "      <td>-0.864292</td>\n",
       "    </tr>\n",
       "    <tr>\n",
       "      <th rowspan=\"2\" valign=\"top\">baz</th>\n",
       "      <th>one</th>\n",
       "      <td>-0.332360</td>\n",
       "      <td>1.328466</td>\n",
       "      <td>-1.259500</td>\n",
       "      <td>-2.877741</td>\n",
       "    </tr>\n",
       "    <tr>\n",
       "      <th>two</th>\n",
       "      <td>0.815631</td>\n",
       "      <td>-1.164070</td>\n",
       "      <td>2.047427</td>\n",
       "      <td>-1.066927</td>\n",
       "    </tr>\n",
       "    <tr>\n",
       "      <th rowspan=\"2\" valign=\"top\">foo</th>\n",
       "      <th>one</th>\n",
       "      <td>1.231872</td>\n",
       "      <td>0.188374</td>\n",
       "      <td>0.608184</td>\n",
       "      <td>0.150260</td>\n",
       "    </tr>\n",
       "    <tr>\n",
       "      <th>two</th>\n",
       "      <td>-1.037964</td>\n",
       "      <td>0.077486</td>\n",
       "      <td>1.528084</td>\n",
       "      <td>1.294865</td>\n",
       "    </tr>\n",
       "    <tr>\n",
       "      <th rowspan=\"2\" valign=\"top\">qux</th>\n",
       "      <th>one</th>\n",
       "      <td>0.732887</td>\n",
       "      <td>1.555939</td>\n",
       "      <td>-0.825217</td>\n",
       "      <td>0.868703</td>\n",
       "    </tr>\n",
       "    <tr>\n",
       "      <th>two</th>\n",
       "      <td>-0.708098</td>\n",
       "      <td>1.255918</td>\n",
       "      <td>1.972392</td>\n",
       "      <td>-1.176472</td>\n",
       "    </tr>\n",
       "  </tbody>\n",
       "</table>\n",
       "</div>"
      ],
      "text/plain": [
       "                     A         B         C         D\n",
       "First Second                                        \n",
       "bar   one    -0.436389 -1.331700  0.123662 -0.241798\n",
       "      two    -0.943330  1.862383  0.761892 -0.864292\n",
       "baz   one    -0.332360  1.328466 -1.259500 -2.877741\n",
       "      two     0.815631 -1.164070  2.047427 -1.066927\n",
       "foo   one     1.231872  0.188374  0.608184  0.150260\n",
       "      two    -1.037964  0.077486  1.528084  1.294865\n",
       "qux   one     0.732887  1.555939 -0.825217  0.868703\n",
       "      two    -0.708098  1.255918  1.972392 -1.176472"
      ]
     },
     "execution_count": 90,
     "metadata": {},
     "output_type": "execute_result"
    }
   ],
   "source": [
    "df"
   ]
  },
  {
   "cell_type": "code",
   "execution_count": 91,
   "metadata": {
    "collapsed": true
   },
   "outputs": [],
   "source": [
    "ser = pd.Series(np.random.rand(8),index = tuples)"
   ]
  },
  {
   "cell_type": "code",
   "execution_count": 92,
   "metadata": {},
   "outputs": [
    {
     "data": {
      "text/plain": [
       "(bar, one)    0.895959\n",
       "(bar, two)    0.279682\n",
       "(baz, one)    0.883630\n",
       "(baz, two)    0.535333\n",
       "(foo, one)    0.983155\n",
       "(foo, two)    0.121304\n",
       "(qux, one)    0.828934\n",
       "(qux, two)    0.588413\n",
       "dtype: float64"
      ]
     },
     "execution_count": 92,
     "metadata": {},
     "output_type": "execute_result"
    }
   ],
   "source": [
    "ser"
   ]
  },
  {
   "cell_type": "code",
   "execution_count": 101,
   "metadata": {},
   "outputs": [],
   "source": [
    "pd.set_option('display.multi_sparse',False)"
   ]
  },
  {
   "cell_type": "code",
   "execution_count": 102,
   "metadata": {},
   "outputs": [
    {
     "data": {
      "text/html": [
       "<div>\n",
       "<style>\n",
       "    .dataframe thead tr:only-child th {\n",
       "        text-align: right;\n",
       "    }\n",
       "\n",
       "    .dataframe thead th {\n",
       "        text-align: left;\n",
       "    }\n",
       "\n",
       "    .dataframe tbody tr th {\n",
       "        vertical-align: top;\n",
       "    }\n",
       "</style>\n",
       "<table border=\"1\" class=\"dataframe\">\n",
       "  <thead>\n",
       "    <tr style=\"text-align: right;\">\n",
       "      <th></th>\n",
       "      <th></th>\n",
       "      <th>A</th>\n",
       "      <th>B</th>\n",
       "      <th>C</th>\n",
       "      <th>D</th>\n",
       "    </tr>\n",
       "    <tr>\n",
       "      <th>First</th>\n",
       "      <th>Second</th>\n",
       "      <th></th>\n",
       "      <th></th>\n",
       "      <th></th>\n",
       "      <th></th>\n",
       "    </tr>\n",
       "  </thead>\n",
       "  <tbody>\n",
       "    <tr>\n",
       "      <th>bar</th>\n",
       "      <th>one</th>\n",
       "      <td>-0.436389</td>\n",
       "      <td>-1.331700</td>\n",
       "      <td>0.123662</td>\n",
       "      <td>-0.241798</td>\n",
       "    </tr>\n",
       "    <tr>\n",
       "      <th>bar</th>\n",
       "      <th>two</th>\n",
       "      <td>-0.943330</td>\n",
       "      <td>1.862383</td>\n",
       "      <td>0.761892</td>\n",
       "      <td>-0.864292</td>\n",
       "    </tr>\n",
       "    <tr>\n",
       "      <th>baz</th>\n",
       "      <th>one</th>\n",
       "      <td>-0.332360</td>\n",
       "      <td>1.328466</td>\n",
       "      <td>-1.259500</td>\n",
       "      <td>-2.877741</td>\n",
       "    </tr>\n",
       "    <tr>\n",
       "      <th>baz</th>\n",
       "      <th>two</th>\n",
       "      <td>0.815631</td>\n",
       "      <td>-1.164070</td>\n",
       "      <td>2.047427</td>\n",
       "      <td>-1.066927</td>\n",
       "    </tr>\n",
       "    <tr>\n",
       "      <th>foo</th>\n",
       "      <th>one</th>\n",
       "      <td>1.231872</td>\n",
       "      <td>0.188374</td>\n",
       "      <td>0.608184</td>\n",
       "      <td>0.150260</td>\n",
       "    </tr>\n",
       "    <tr>\n",
       "      <th>foo</th>\n",
       "      <th>two</th>\n",
       "      <td>-1.037964</td>\n",
       "      <td>0.077486</td>\n",
       "      <td>1.528084</td>\n",
       "      <td>1.294865</td>\n",
       "    </tr>\n",
       "    <tr>\n",
       "      <th>qux</th>\n",
       "      <th>one</th>\n",
       "      <td>0.732887</td>\n",
       "      <td>1.555939</td>\n",
       "      <td>-0.825217</td>\n",
       "      <td>0.868703</td>\n",
       "    </tr>\n",
       "    <tr>\n",
       "      <th>qux</th>\n",
       "      <th>two</th>\n",
       "      <td>-0.708098</td>\n",
       "      <td>1.255918</td>\n",
       "      <td>1.972392</td>\n",
       "      <td>-1.176472</td>\n",
       "    </tr>\n",
       "  </tbody>\n",
       "</table>\n",
       "</div>"
      ],
      "text/plain": [
       "                     A         B         C         D\n",
       "First Second                                        \n",
       "bar   one    -0.436389 -1.331700  0.123662 -0.241798\n",
       "bar   two    -0.943330  1.862383  0.761892 -0.864292\n",
       "baz   one    -0.332360  1.328466 -1.259500 -2.877741\n",
       "baz   two     0.815631 -1.164070  2.047427 -1.066927\n",
       "foo   one     1.231872  0.188374  0.608184  0.150260\n",
       "foo   two    -1.037964  0.077486  1.528084  1.294865\n",
       "qux   one     0.732887  1.555939 -0.825217  0.868703\n",
       "qux   two    -0.708098  1.255918  1.972392 -1.176472"
      ]
     },
     "execution_count": 102,
     "metadata": {},
     "output_type": "execute_result"
    }
   ],
   "source": [
    "df"
   ]
  },
  {
   "cell_type": "code",
   "execution_count": 105,
   "metadata": {},
   "outputs": [
    {
     "data": {
      "text/plain": [
       "(bar, one)    0.895959\n",
       "(bar, two)    0.279682\n",
       "(baz, one)    0.883630\n",
       "(baz, two)    0.535333\n",
       "(foo, one)    0.983155\n",
       "(foo, two)    0.121304\n",
       "dtype: float64"
      ]
     },
     "execution_count": 105,
     "metadata": {},
     "output_type": "execute_result"
    }
   ],
   "source": [
    "ser[:-2]"
   ]
  },
  {
   "cell_type": "code",
   "execution_count": 107,
   "metadata": {},
   "outputs": [
    {
     "data": {
      "text/plain": [
       "(bar, one)    1.791918\n",
       "(bar, two)    0.559365\n",
       "(baz, one)    1.767261\n",
       "(baz, two)    1.070666\n",
       "(foo, one)    1.966309\n",
       "(foo, two)    0.242608\n",
       "(qux, one)         NaN\n",
       "(qux, two)         NaN\n",
       "dtype: float64"
      ]
     },
     "execution_count": 107,
     "metadata": {},
     "output_type": "execute_result"
    }
   ],
   "source": [
    "ser+ser[:-2]"
   ]
  },
  {
   "cell_type": "code",
   "execution_count": 108,
   "metadata": {},
   "outputs": [
    {
     "data": {
      "text/html": [
       "<div>\n",
       "<style>\n",
       "    .dataframe thead tr:only-child th {\n",
       "        text-align: right;\n",
       "    }\n",
       "\n",
       "    .dataframe thead th {\n",
       "        text-align: left;\n",
       "    }\n",
       "\n",
       "    .dataframe tbody tr th {\n",
       "        vertical-align: top;\n",
       "    }\n",
       "</style>\n",
       "<table border=\"1\" class=\"dataframe\">\n",
       "  <thead>\n",
       "    <tr style=\"text-align: right;\">\n",
       "      <th></th>\n",
       "      <th></th>\n",
       "      <th>A</th>\n",
       "      <th>B</th>\n",
       "      <th>C</th>\n",
       "      <th>D</th>\n",
       "    </tr>\n",
       "    <tr>\n",
       "      <th>First</th>\n",
       "      <th>Second</th>\n",
       "      <th></th>\n",
       "      <th></th>\n",
       "      <th></th>\n",
       "      <th></th>\n",
       "    </tr>\n",
       "  </thead>\n",
       "  <tbody>\n",
       "    <tr>\n",
       "      <th>bar</th>\n",
       "      <th>one</th>\n",
       "      <td>-0.436389</td>\n",
       "      <td>-1.331700</td>\n",
       "      <td>0.123662</td>\n",
       "      <td>-0.241798</td>\n",
       "    </tr>\n",
       "    <tr>\n",
       "      <th>bar</th>\n",
       "      <th>two</th>\n",
       "      <td>-0.943330</td>\n",
       "      <td>1.862383</td>\n",
       "      <td>0.761892</td>\n",
       "      <td>-0.864292</td>\n",
       "    </tr>\n",
       "    <tr>\n",
       "      <th>baz</th>\n",
       "      <th>one</th>\n",
       "      <td>-0.332360</td>\n",
       "      <td>1.328466</td>\n",
       "      <td>-1.259500</td>\n",
       "      <td>-2.877741</td>\n",
       "    </tr>\n",
       "    <tr>\n",
       "      <th>baz</th>\n",
       "      <th>two</th>\n",
       "      <td>0.815631</td>\n",
       "      <td>-1.164070</td>\n",
       "      <td>2.047427</td>\n",
       "      <td>-1.066927</td>\n",
       "    </tr>\n",
       "    <tr>\n",
       "      <th>foo</th>\n",
       "      <th>one</th>\n",
       "      <td>1.231872</td>\n",
       "      <td>0.188374</td>\n",
       "      <td>0.608184</td>\n",
       "      <td>0.150260</td>\n",
       "    </tr>\n",
       "    <tr>\n",
       "      <th>foo</th>\n",
       "      <th>two</th>\n",
       "      <td>-1.037964</td>\n",
       "      <td>0.077486</td>\n",
       "      <td>1.528084</td>\n",
       "      <td>1.294865</td>\n",
       "    </tr>\n",
       "  </tbody>\n",
       "</table>\n",
       "</div>"
      ],
      "text/plain": [
       "                     A         B         C         D\n",
       "First Second                                        \n",
       "bar   one    -0.436389 -1.331700  0.123662 -0.241798\n",
       "bar   two    -0.943330  1.862383  0.761892 -0.864292\n",
       "baz   one    -0.332360  1.328466 -1.259500 -2.877741\n",
       "baz   two     0.815631 -1.164070  2.047427 -1.066927\n",
       "foo   one     1.231872  0.188374  0.608184  0.150260\n",
       "foo   two    -1.037964  0.077486  1.528084  1.294865"
      ]
     },
     "execution_count": 108,
     "metadata": {},
     "output_type": "execute_result"
    }
   ],
   "source": [
    "df[:-2]"
   ]
  },
  {
   "cell_type": "code",
   "execution_count": 111,
   "metadata": {},
   "outputs": [],
   "source": [
    "pd.set_option('display.multi_sparse',True)"
   ]
  },
  {
   "cell_type": "code",
   "execution_count": 112,
   "metadata": {},
   "outputs": [
    {
     "data": {
      "text/html": [
       "<div>\n",
       "<style>\n",
       "    .dataframe thead tr:only-child th {\n",
       "        text-align: right;\n",
       "    }\n",
       "\n",
       "    .dataframe thead th {\n",
       "        text-align: left;\n",
       "    }\n",
       "\n",
       "    .dataframe tbody tr th {\n",
       "        vertical-align: top;\n",
       "    }\n",
       "</style>\n",
       "<table border=\"1\" class=\"dataframe\">\n",
       "  <thead>\n",
       "    <tr style=\"text-align: right;\">\n",
       "      <th></th>\n",
       "      <th></th>\n",
       "      <th>A</th>\n",
       "      <th>B</th>\n",
       "      <th>C</th>\n",
       "      <th>D</th>\n",
       "    </tr>\n",
       "    <tr>\n",
       "      <th>First</th>\n",
       "      <th>Second</th>\n",
       "      <th></th>\n",
       "      <th></th>\n",
       "      <th></th>\n",
       "      <th></th>\n",
       "    </tr>\n",
       "  </thead>\n",
       "  <tbody>\n",
       "    <tr>\n",
       "      <th rowspan=\"2\" valign=\"top\">bar</th>\n",
       "      <th>one</th>\n",
       "      <td>-0.436389</td>\n",
       "      <td>-1.331700</td>\n",
       "      <td>0.123662</td>\n",
       "      <td>-0.241798</td>\n",
       "    </tr>\n",
       "    <tr>\n",
       "      <th>two</th>\n",
       "      <td>-0.943330</td>\n",
       "      <td>1.862383</td>\n",
       "      <td>0.761892</td>\n",
       "      <td>-0.864292</td>\n",
       "    </tr>\n",
       "    <tr>\n",
       "      <th rowspan=\"2\" valign=\"top\">baz</th>\n",
       "      <th>one</th>\n",
       "      <td>-0.332360</td>\n",
       "      <td>1.328466</td>\n",
       "      <td>-1.259500</td>\n",
       "      <td>-2.877741</td>\n",
       "    </tr>\n",
       "    <tr>\n",
       "      <th>two</th>\n",
       "      <td>0.815631</td>\n",
       "      <td>-1.164070</td>\n",
       "      <td>2.047427</td>\n",
       "      <td>-1.066927</td>\n",
       "    </tr>\n",
       "    <tr>\n",
       "      <th rowspan=\"2\" valign=\"top\">foo</th>\n",
       "      <th>one</th>\n",
       "      <td>1.231872</td>\n",
       "      <td>0.188374</td>\n",
       "      <td>0.608184</td>\n",
       "      <td>0.150260</td>\n",
       "    </tr>\n",
       "    <tr>\n",
       "      <th>two</th>\n",
       "      <td>-1.037964</td>\n",
       "      <td>0.077486</td>\n",
       "      <td>1.528084</td>\n",
       "      <td>1.294865</td>\n",
       "    </tr>\n",
       "  </tbody>\n",
       "</table>\n",
       "</div>"
      ],
      "text/plain": [
       "                     A         B         C         D\n",
       "First Second                                        \n",
       "bar   one    -0.436389 -1.331700  0.123662 -0.241798\n",
       "      two    -0.943330  1.862383  0.761892 -0.864292\n",
       "baz   one    -0.332360  1.328466 -1.259500 -2.877741\n",
       "      two     0.815631 -1.164070  2.047427 -1.066927\n",
       "foo   one     1.231872  0.188374  0.608184  0.150260\n",
       "      two    -1.037964  0.077486  1.528084  1.294865"
      ]
     },
     "execution_count": 112,
     "metadata": {},
     "output_type": "execute_result"
    }
   ],
   "source": [
    "df[:-2]"
   ]
  },
  {
   "cell_type": "code",
   "execution_count": 115,
   "metadata": {},
   "outputs": [
    {
     "data": {
      "text/html": [
       "<div>\n",
       "<style>\n",
       "    .dataframe thead tr:only-child th {\n",
       "        text-align: right;\n",
       "    }\n",
       "\n",
       "    .dataframe thead th {\n",
       "        text-align: left;\n",
       "    }\n",
       "\n",
       "    .dataframe tbody tr th {\n",
       "        vertical-align: top;\n",
       "    }\n",
       "</style>\n",
       "<table border=\"1\" class=\"dataframe\">\n",
       "  <thead>\n",
       "    <tr style=\"text-align: right;\">\n",
       "      <th></th>\n",
       "      <th></th>\n",
       "      <th>A</th>\n",
       "      <th>B</th>\n",
       "      <th>C</th>\n",
       "      <th>D</th>\n",
       "    </tr>\n",
       "    <tr>\n",
       "      <th>First</th>\n",
       "      <th>Second</th>\n",
       "      <th></th>\n",
       "      <th></th>\n",
       "      <th></th>\n",
       "      <th></th>\n",
       "    </tr>\n",
       "  </thead>\n",
       "  <tbody>\n",
       "    <tr>\n",
       "      <th rowspan=\"2\" valign=\"top\">bar</th>\n",
       "      <th>one</th>\n",
       "      <td>-0.872778</td>\n",
       "      <td>-2.663400</td>\n",
       "      <td>0.247324</td>\n",
       "      <td>-0.483597</td>\n",
       "    </tr>\n",
       "    <tr>\n",
       "      <th>two</th>\n",
       "      <td>NaN</td>\n",
       "      <td>NaN</td>\n",
       "      <td>NaN</td>\n",
       "      <td>NaN</td>\n",
       "    </tr>\n",
       "    <tr>\n",
       "      <th rowspan=\"2\" valign=\"top\">baz</th>\n",
       "      <th>one</th>\n",
       "      <td>NaN</td>\n",
       "      <td>NaN</td>\n",
       "      <td>NaN</td>\n",
       "      <td>NaN</td>\n",
       "    </tr>\n",
       "    <tr>\n",
       "      <th>two</th>\n",
       "      <td>1.631262</td>\n",
       "      <td>-2.328140</td>\n",
       "      <td>4.094853</td>\n",
       "      <td>-2.133854</td>\n",
       "    </tr>\n",
       "    <tr>\n",
       "      <th rowspan=\"2\" valign=\"top\">foo</th>\n",
       "      <th>one</th>\n",
       "      <td>NaN</td>\n",
       "      <td>NaN</td>\n",
       "      <td>NaN</td>\n",
       "      <td>NaN</td>\n",
       "    </tr>\n",
       "    <tr>\n",
       "      <th>two</th>\n",
       "      <td>NaN</td>\n",
       "      <td>NaN</td>\n",
       "      <td>NaN</td>\n",
       "      <td>NaN</td>\n",
       "    </tr>\n",
       "    <tr>\n",
       "      <th rowspan=\"2\" valign=\"top\">qux</th>\n",
       "      <th>one</th>\n",
       "      <td>1.465773</td>\n",
       "      <td>3.111877</td>\n",
       "      <td>-1.650434</td>\n",
       "      <td>1.737406</td>\n",
       "    </tr>\n",
       "    <tr>\n",
       "      <th>two</th>\n",
       "      <td>NaN</td>\n",
       "      <td>NaN</td>\n",
       "      <td>NaN</td>\n",
       "      <td>NaN</td>\n",
       "    </tr>\n",
       "  </tbody>\n",
       "</table>\n",
       "</div>"
      ],
      "text/plain": [
       "                     A         B         C         D\n",
       "First Second                                        \n",
       "bar   one    -0.872778 -2.663400  0.247324 -0.483597\n",
       "      two          NaN       NaN       NaN       NaN\n",
       "baz   one          NaN       NaN       NaN       NaN\n",
       "      two     1.631262 -2.328140  4.094853 -2.133854\n",
       "foo   one          NaN       NaN       NaN       NaN\n",
       "      two          NaN       NaN       NaN       NaN\n",
       "qux   one     1.465773  3.111877 -1.650434  1.737406\n",
       "      two          NaN       NaN       NaN       NaN"
      ]
     },
     "execution_count": 115,
     "metadata": {},
     "output_type": "execute_result"
    }
   ],
   "source": [
    "df+df[::3]"
   ]
  },
  {
   "cell_type": "code",
   "execution_count": 116,
   "metadata": {},
   "outputs": [
    {
     "data": {
      "text/html": [
       "<div>\n",
       "<style>\n",
       "    .dataframe thead tr:only-child th {\n",
       "        text-align: right;\n",
       "    }\n",
       "\n",
       "    .dataframe thead th {\n",
       "        text-align: left;\n",
       "    }\n",
       "\n",
       "    .dataframe tbody tr th {\n",
       "        vertical-align: top;\n",
       "    }\n",
       "</style>\n",
       "<table border=\"1\" class=\"dataframe\">\n",
       "  <thead>\n",
       "    <tr>\n",
       "      <th>First</th>\n",
       "      <th colspan=\"2\" halign=\"left\">bar</th>\n",
       "      <th colspan=\"2\" halign=\"left\">baz</th>\n",
       "      <th colspan=\"2\" halign=\"left\">foo</th>\n",
       "      <th colspan=\"2\" halign=\"left\">qux</th>\n",
       "    </tr>\n",
       "    <tr>\n",
       "      <th>Second</th>\n",
       "      <th>one</th>\n",
       "      <th>two</th>\n",
       "      <th>one</th>\n",
       "      <th>two</th>\n",
       "      <th>one</th>\n",
       "      <th>two</th>\n",
       "      <th>one</th>\n",
       "      <th>two</th>\n",
       "    </tr>\n",
       "  </thead>\n",
       "  <tbody>\n",
       "    <tr>\n",
       "      <th>A</th>\n",
       "      <td>-0.436389</td>\n",
       "      <td>-0.943330</td>\n",
       "      <td>-0.332360</td>\n",
       "      <td>0.815631</td>\n",
       "      <td>1.231872</td>\n",
       "      <td>-1.037964</td>\n",
       "      <td>0.732887</td>\n",
       "      <td>-0.708098</td>\n",
       "    </tr>\n",
       "    <tr>\n",
       "      <th>B</th>\n",
       "      <td>-1.331700</td>\n",
       "      <td>1.862383</td>\n",
       "      <td>1.328466</td>\n",
       "      <td>-1.164070</td>\n",
       "      <td>0.188374</td>\n",
       "      <td>0.077486</td>\n",
       "      <td>1.555939</td>\n",
       "      <td>1.255918</td>\n",
       "    </tr>\n",
       "    <tr>\n",
       "      <th>C</th>\n",
       "      <td>0.123662</td>\n",
       "      <td>0.761892</td>\n",
       "      <td>-1.259500</td>\n",
       "      <td>2.047427</td>\n",
       "      <td>0.608184</td>\n",
       "      <td>1.528084</td>\n",
       "      <td>-0.825217</td>\n",
       "      <td>1.972392</td>\n",
       "    </tr>\n",
       "    <tr>\n",
       "      <th>D</th>\n",
       "      <td>-0.241798</td>\n",
       "      <td>-0.864292</td>\n",
       "      <td>-2.877741</td>\n",
       "      <td>-1.066927</td>\n",
       "      <td>0.150260</td>\n",
       "      <td>1.294865</td>\n",
       "      <td>0.868703</td>\n",
       "      <td>-1.176472</td>\n",
       "    </tr>\n",
       "  </tbody>\n",
       "</table>\n",
       "</div>"
      ],
      "text/plain": [
       "First        bar                 baz                 foo                 qux  \\\n",
       "Second       one       two       one       two       one       two       one   \n",
       "A      -0.436389 -0.943330 -0.332360  0.815631  1.231872 -1.037964  0.732887   \n",
       "B      -1.331700  1.862383  1.328466 -1.164070  0.188374  0.077486  1.555939   \n",
       "C       0.123662  0.761892 -1.259500  2.047427  0.608184  1.528084 -0.825217   \n",
       "D      -0.241798 -0.864292 -2.877741 -1.066927  0.150260  1.294865  0.868703   \n",
       "\n",
       "First             \n",
       "Second       two  \n",
       "A      -0.708098  \n",
       "B       1.255918  \n",
       "C       1.972392  \n",
       "D      -1.176472  "
      ]
     },
     "execution_count": 116,
     "metadata": {},
     "output_type": "execute_result"
    }
   ],
   "source": [
    "df.T"
   ]
  }
 ],
 "metadata": {
  "kernelspec": {
   "display_name": "Python 3",
   "language": "python",
   "name": "python3"
  },
  "language_info": {
   "codemirror_mode": {
    "name": "ipython",
    "version": 3
   },
   "file_extension": ".py",
   "mimetype": "text/x-python",
   "name": "python",
   "nbconvert_exporter": "python",
   "pygments_lexer": "ipython3",
   "version": "3.6.1"
  }
 },
 "nbformat": 4,
 "nbformat_minor": 2
}
