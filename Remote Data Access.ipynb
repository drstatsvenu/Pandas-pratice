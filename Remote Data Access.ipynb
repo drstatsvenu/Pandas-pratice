{
 "cells": [
  {
   "cell_type": "code",
   "execution_count": null,
   "metadata": {
    "collapsed": true
   },
   "outputs": [],
   "source": [
    "# Remote data access feature of pandas is now disabled and we have to import it as a separate module which is now named as \n",
    "# pandas_datareader\n",
    "\n",
    "#import pandas.io is now replaced by pandas_datareader module"
   ]
  },
  {
   "cell_type": "code",
   "execution_count": null,
   "metadata": {
    "collapsed": true
   },
   "outputs": [],
   "source": [
    "# This process always follows a similar syntax which is roughly in the following form\n",
    "\n",
    "import pandas.io.data as web                #now replaced\n",
    "import datetime\n",
    "start = datetime.datetime(2010,1,1)\n",
    "end = datetime.datetime(2010,3,1)\n",
    "f = web.DataReader('F','Yahoo',start,end)  #yahoo is the webpage we want read data ffrom\n",
    "f.ix['2010-2-1']                           #extracting a desired data column,index or item"
   ]
  }
 ],
 "metadata": {
  "kernelspec": {
   "display_name": "Python 3",
   "language": "python",
   "name": "python3"
  },
  "language_info": {
   "codemirror_mode": {
    "name": "ipython",
    "version": 3
   },
   "file_extension": ".py",
   "mimetype": "text/x-python",
   "name": "python",
   "nbconvert_exporter": "python",
   "pygments_lexer": "ipython3",
   "version": "3.6.1"
  }
 },
 "nbformat": 4,
 "nbformat_minor": 2
}
