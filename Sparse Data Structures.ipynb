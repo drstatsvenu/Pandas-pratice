{
 "cells": [
  {
   "cell_type": "code",
   "execution_count": 1,
   "metadata": {
    "collapsed": true
   },
   "outputs": [],
   "source": [
    "import numpy as np\n",
    "import pandas as pd"
   ]
  },
  {
   "cell_type": "code",
   "execution_count": 2,
   "metadata": {
    "collapsed": true
   },
   "outputs": [],
   "source": [
    "t = pd.Series(np.random.randn(10))"
   ]
  },
  {
   "cell_type": "code",
   "execution_count": 3,
   "metadata": {},
   "outputs": [
    {
     "data": {
      "text/plain": [
       "0    0.295602\n",
       "1    1.025389\n",
       "2    0.295315\n",
       "3   -0.031107\n",
       "4   -0.556406\n",
       "5   -0.943724\n",
       "6   -1.557968\n",
       "7   -1.424643\n",
       "8   -0.056233\n",
       "9   -0.039387\n",
       "dtype: float64"
      ]
     },
     "execution_count": 3,
     "metadata": {},
     "output_type": "execute_result"
    }
   ],
   "source": [
    "t"
   ]
  },
  {
   "cell_type": "code",
   "execution_count": 4,
   "metadata": {
    "collapsed": true
   },
   "outputs": [],
   "source": [
    "t[2:-2] = np.nan"
   ]
  },
  {
   "cell_type": "code",
   "execution_count": 5,
   "metadata": {},
   "outputs": [
    {
     "data": {
      "text/plain": [
       "0    0.295602\n",
       "1    1.025389\n",
       "2         NaN\n",
       "3         NaN\n",
       "4         NaN\n",
       "5         NaN\n",
       "6         NaN\n",
       "7         NaN\n",
       "8   -0.056233\n",
       "9   -0.039387\n",
       "dtype: float64"
      ]
     },
     "execution_count": 5,
     "metadata": {},
     "output_type": "execute_result"
    }
   ],
   "source": [
    "t"
   ]
  },
  {
   "cell_type": "code",
   "execution_count": 6,
   "metadata": {
    "scrolled": true
   },
   "outputs": [
    {
     "data": {
      "text/plain": [
       "0    0.295602\n",
       "1    1.025389\n",
       "2         NaN\n",
       "3         NaN\n",
       "4         NaN\n",
       "5         NaN\n",
       "6         NaN\n",
       "7         NaN\n",
       "8   -0.056233\n",
       "9   -0.039387\n",
       "dtype: float64\n",
       "BlockIndex\n",
       "Block locations: array([0, 8])\n",
       "Block lengths: array([2, 2])"
      ]
     },
     "execution_count": 6,
     "metadata": {},
     "output_type": "execute_result"
    }
   ],
   "source": [
    "#note that it is giving you the idea of where the elements are concentrated\n",
    "t.to_sparse()"
   ]
  },
  {
   "cell_type": "code",
   "execution_count": 7,
   "metadata": {},
   "outputs": [
    {
     "data": {
      "text/plain": [
       "0    0.295602\n",
       "1    1.025389\n",
       "2    0.000000\n",
       "3    0.000000\n",
       "4    0.000000\n",
       "5    0.000000\n",
       "6    0.000000\n",
       "7    0.000000\n",
       "8   -0.056233\n",
       "9   -0.039387\n",
       "dtype: float64"
      ]
     },
     "execution_count": 7,
     "metadata": {},
     "output_type": "execute_result"
    }
   ],
   "source": [
    "t.fillna(0)"
   ]
  },
  {
   "cell_type": "code",
   "execution_count": 8,
   "metadata": {},
   "outputs": [
    {
     "data": {
      "text/plain": [
       "0    0.295602\n",
       "1    1.025389\n",
       "2    0.000000\n",
       "3    0.000000\n",
       "4    0.000000\n",
       "5    0.000000\n",
       "6    0.000000\n",
       "7    0.000000\n",
       "8   -0.056233\n",
       "9   -0.039387\n",
       "dtype: float64\n",
       "BlockIndex\n",
       "Block locations: array([0])\n",
       "Block lengths: array([10])"
      ]
     },
     "execution_count": 8,
     "metadata": {},
     "output_type": "execute_result"
    }
   ],
   "source": [
    "t.fillna(0).to_sparse()"
   ]
  },
  {
   "cell_type": "code",
   "execution_count": 10,
   "metadata": {
    "scrolled": true
   },
   "outputs": [
    {
     "data": {
      "text/plain": [
       "0    0.295602\n",
       "1    1.025389\n",
       "2    0.000000\n",
       "3    0.000000\n",
       "4    0.000000\n",
       "5    0.000000\n",
       "6    0.000000\n",
       "7    0.000000\n",
       "8   -0.056233\n",
       "9   -0.039387\n",
       "dtype: float64\n",
       "BlockIndex\n",
       "Block locations: array([0, 8])\n",
       "Block lengths: array([2, 2])"
      ]
     },
     "execution_count": 10,
     "metadata": {},
     "output_type": "execute_result"
    }
   ],
   "source": [
    "t.fillna(0).to_sparse(fill_value = 0) \n",
    "#the main difference between the above and this is that in this we are saying to sparse command that '0' is the value filled byus"
   ]
  },
  {
   "cell_type": "code",
   "execution_count": 11,
   "metadata": {},
   "outputs": [
    {
     "data": {
      "text/plain": [
       "0.4"
      ]
     },
     "execution_count": 11,
     "metadata": {},
     "output_type": "execute_result"
    }
   ],
   "source": [
    "t.to_sparse().density\n",
    "#we can get density and sparse is mostly used for memory efficient reasons"
   ]
  },
  {
   "cell_type": "code",
   "execution_count": 13,
   "metadata": {},
   "outputs": [],
   "source": [
    "# A Sparse object can be converted back again to dense using to_dense command\n",
    "t = t.to_sparse()"
   ]
  },
  {
   "cell_type": "code",
   "execution_count": 14,
   "metadata": {},
   "outputs": [
    {
     "data": {
      "text/plain": [
       "0    0.295602\n",
       "1    1.025389\n",
       "2         NaN\n",
       "3         NaN\n",
       "4         NaN\n",
       "5         NaN\n",
       "6         NaN\n",
       "7         NaN\n",
       "8   -0.056233\n",
       "9   -0.039387\n",
       "dtype: float64"
      ]
     },
     "execution_count": 14,
     "metadata": {},
     "output_type": "execute_result"
    }
   ],
   "source": [
    "t.to_dense()"
   ]
  },
  {
   "cell_type": "code",
   "execution_count": 20,
   "metadata": {
    "collapsed": true
   },
   "outputs": [],
   "source": [
    "b = np.random.randn(10)"
   ]
  },
  {
   "cell_type": "code",
   "execution_count": 21,
   "metadata": {
    "collapsed": true
   },
   "outputs": [],
   "source": [
    "b[2:4] = np.nan"
   ]
  },
  {
   "cell_type": "code",
   "execution_count": 22,
   "metadata": {
    "collapsed": true
   },
   "outputs": [],
   "source": [
    "b[7:9] = np.nan"
   ]
  },
  {
   "cell_type": "code",
   "execution_count": 23,
   "metadata": {},
   "outputs": [
    {
     "data": {
      "text/plain": [
       "array([ 1.52402831,  1.79171735,         nan,         nan,  0.57483907,\n",
       "       -0.70694718,  1.23719924,         nan,         nan,  0.55096329])"
      ]
     },
     "execution_count": 23,
     "metadata": {},
     "output_type": "execute_result"
    }
   ],
   "source": [
    "b"
   ]
  },
  {
   "cell_type": "code",
   "execution_count": 24,
   "metadata": {},
   "outputs": [
    {
     "ename": "AttributeError",
     "evalue": "'numpy.ndarray' object has no attribute 'to_sparse'",
     "output_type": "error",
     "traceback": [
      "\u001b[1;31m---------------------------------------------------------------------------\u001b[0m",
      "\u001b[1;31mAttributeError\u001b[0m                            Traceback (most recent call last)",
      "\u001b[1;32m<ipython-input-24-409bf3cc21d0>\u001b[0m in \u001b[0;36m<module>\u001b[1;34m()\u001b[0m\n\u001b[1;32m----> 1\u001b[1;33m \u001b[0mb\u001b[0m\u001b[1;33m.\u001b[0m\u001b[0mto_sparse\u001b[0m\u001b[1;33m(\u001b[0m\u001b[1;33m)\u001b[0m\u001b[1;33m\u001b[0m\u001b[0m\n\u001b[0m",
      "\u001b[1;31mAttributeError\u001b[0m: 'numpy.ndarray' object has no attribute 'to_sparse'"
     ]
    }
   ],
   "source": [
    "b.to_sparse()"
   ]
  },
  {
   "cell_type": "code",
   "execution_count": null,
   "metadata": {
    "collapsed": true
   },
   "outputs": [],
   "source": [
    "#you cannot directly apply to_sparse\n",
    "#so you can use SparseArray"
   ]
  },
  {
   "cell_type": "code",
   "execution_count": 26,
   "metadata": {},
   "outputs": [],
   "source": [
    "sparr = pd.SparseArray(b)"
   ]
  },
  {
   "cell_type": "code",
   "execution_count": 29,
   "metadata": {},
   "outputs": [
    {
     "data": {
      "text/plain": [
       "[1.52402830626, 1.79171734929, nan, nan, 0.574839073209, -0.706947178984, 1.23719924295, nan, nan, 0.550963290048]\n",
       "Fill: nan\n",
       "IntIndex\n",
       "Indices: array([0, 1, 4, 5, 6, 9])"
      ]
     },
     "execution_count": 29,
     "metadata": {},
     "output_type": "execute_result"
    }
   ],
   "source": [
    "sparr"
   ]
  },
  {
   "cell_type": "code",
   "execution_count": 28,
   "metadata": {
    "scrolled": true
   },
   "outputs": [
    {
     "data": {
      "text/plain": [
       "array([ 1.52402831,  1.79171735,         nan,         nan,  0.57483907,\n",
       "       -0.70694718,  1.23719924,         nan,         nan,  0.55096329])"
      ]
     },
     "execution_count": 28,
     "metadata": {},
     "output_type": "execute_result"
    }
   ],
   "source": [
    "sparr.to_dense()"
   ]
  },
  {
   "cell_type": "code",
   "execution_count": null,
   "metadata": {
    "collapsed": true
   },
   "outputs": [],
   "source": [
    "#you can also create a sparase array dynamic collection just append to a initial array"
   ]
  },
  {
   "cell_type": "code",
   "execution_count": 31,
   "metadata": {},
   "outputs": [
    {
     "name": "stderr",
     "output_type": "stream",
     "text": [
      "C:\\Users\\user\\anaconda_new\\lib\\site-packages\\ipykernel_launcher.py:1: FutureWarning: SparseList is deprecated and will be removed in a future version\n",
      "  \"\"\"Entry point for launching an IPython kernel.\n"
     ]
    }
   ],
   "source": [
    "spl = pd.SparseList()"
   ]
  },
  {
   "cell_type": "code",
   "execution_count": 34,
   "metadata": {},
   "outputs": [],
   "source": [
    "#name sparselist because this is a list of collection of sparse array\n",
    "spl.append(t)\n",
    "spl.append(sparr)"
   ]
  },
  {
   "cell_type": "code",
   "execution_count": 35,
   "metadata": {},
   "outputs": [
    {
     "data": {
      "text/plain": [
       "<pandas.core.sparse.list.SparseList object at 0x0000024B56803080>\n",
       "[0.295602238929, 1.02538931936, nan, nan, nan, nan, nan, nan, -0.0562331854322, -0.0393869099645]\n",
       "Fill: nan\n",
       "BlockIndex\n",
       "Block locations: array([0, 8])\n",
       "Block lengths: array([2, 2])\n",
       "[0.295602238929, 1.02538931936, nan, nan, nan, nan, nan, nan, -0.0562331854322, -0.0393869099645]\n",
       "Fill: nan\n",
       "BlockIndex\n",
       "Block locations: array([0, 8])\n",
       "Block lengths: array([2, 2])\n",
       "[1.52402830626, 1.79171734929, nan, nan, 0.574839073209, -0.706947178984, 1.23719924295, nan, nan, 0.550963290048]\n",
       "Fill: nan\n",
       "IntIndex\n",
       "Indices: array([0, 1, 4, 5, 6, 9])"
      ]
     },
     "execution_count": 35,
     "metadata": {},
     "output_type": "execute_result"
    }
   ],
   "source": [
    "spl           #have a look at the output"
   ]
  },
  {
   "cell_type": "code",
   "execution_count": 36,
   "metadata": {},
   "outputs": [
    {
     "data": {
      "text/plain": [
       "[0.295602238929, 1.02538931936, nan, nan, nan, nan, nan, nan, -0.0562331854322, -0.0393869099645, 0.295602238929, 1.02538931936, nan, nan, nan, nan, nan, nan, -0.0562331854322, -0.0393869099645, 1.52402830626, 1.79171734929, nan, nan, 0.574839073209, -0.706947178984, 1.23719924295, nan, nan, 0.550963290048]\n",
       "Fill: nan\n",
       "IntIndex\n",
       "Indices: array([ 0,  1,  8,  9, 10, 11, 18, 19, 20, 21, 24, 25, 26, 29])"
      ]
     },
     "execution_count": 36,
     "metadata": {},
     "output_type": "execute_result"
    }
   ],
   "source": [
    "spl.to_array()   #this will bring back all sparse arrays into one single list"
   ]
  },
  {
   "cell_type": "code",
   "execution_count": null,
   "metadata": {
    "collapsed": true
   },
   "outputs": [],
   "source": [
    "# Sparseindex is of two types but pandas document recommends using block format index compared to integer type index \n",
    "#block format just keeps the location but integer keeps everything so block preferred"
   ]
  }
 ],
 "metadata": {
  "kernelspec": {
   "display_name": "Python 3",
   "language": "python",
   "name": "python3"
  },
  "language_info": {
   "codemirror_mode": {
    "name": "ipython",
    "version": 3
   },
   "file_extension": ".py",
   "mimetype": "text/x-python",
   "name": "python",
   "nbconvert_exporter": "python",
   "pygments_lexer": "ipython3",
   "version": "3.6.1"
  }
 },
 "nbformat": 4,
 "nbformat_minor": 2
}
