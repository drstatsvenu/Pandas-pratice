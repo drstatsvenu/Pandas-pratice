{
 "cells": [
  {
   "cell_type": "markdown",
   "metadata": {},
   "source": [
    "# Binning"
   ]
  },
  {
   "cell_type": "code",
   "execution_count": 16,
   "metadata": {
    "collapsed": true
   },
   "outputs": [],
   "source": [
    "import pandas as pd\n",
    "import numpy as np"
   ]
  },
  {
   "cell_type": "markdown",
   "metadata": {},
   "source": [
    "creating a raw dataset for demonstration purposes"
   ]
  },
  {
   "cell_type": "code",
   "execution_count": 17,
   "metadata": {},
   "outputs": [],
   "source": [
    "data = {'class':['first','second','third']*4,\n",
    "        'div':['low','high']*6,\n",
    "        'name':['ganesh','ramesh','suresh','paramesh','gireesh','rishikesh','rekha','lekha','geetha','seetha','kavitha','arjun'],\n",
    "        'first test':np.random.randint(1,50,12),\n",
    "        'second test':np.random.randint(1,50,12)}"
   ]
  },
  {
   "cell_type": "markdown",
   "metadata": {},
   "source": [
    "lets define a dataframe with column names"
   ]
  },
  {
   "cell_type": "code",
   "execution_count": 18,
   "metadata": {},
   "outputs": [
    {
     "data": {
      "text/plain": [
       "{'class': ['first',\n",
       "  'second',\n",
       "  'third',\n",
       "  'first',\n",
       "  'second',\n",
       "  'third',\n",
       "  'first',\n",
       "  'second',\n",
       "  'third',\n",
       "  'first',\n",
       "  'second',\n",
       "  'third'],\n",
       " 'div': ['low',\n",
       "  'high',\n",
       "  'low',\n",
       "  'high',\n",
       "  'low',\n",
       "  'high',\n",
       "  'low',\n",
       "  'high',\n",
       "  'low',\n",
       "  'high',\n",
       "  'low',\n",
       "  'high'],\n",
       " 'first test': array([20,  4, 14, 31, 12, 24, 22, 30, 13, 46, 44, 22]),\n",
       " 'name': ['ganesh',\n",
       "  'ramesh',\n",
       "  'suresh',\n",
       "  'paramesh',\n",
       "  'gireesh',\n",
       "  'rishikesh',\n",
       "  'rekha',\n",
       "  'lekha',\n",
       "  'geetha',\n",
       "  'seetha',\n",
       "  'kavitha',\n",
       "  'arjun'],\n",
       " 'second test': array([ 7, 47, 29, 40, 10, 47, 26, 45, 22,  8, 46, 35])}"
      ]
     },
     "execution_count": 18,
     "metadata": {},
     "output_type": "execute_result"
    }
   ],
   "source": [
    "data"
   ]
  },
  {
   "cell_type": "code",
   "execution_count": 3,
   "metadata": {},
   "outputs": [],
   "source": [
    "k = pd.DataFrame(data,columns = ['class','div','name','first test','second test'])"
   ]
  },
  {
   "cell_type": "markdown",
   "metadata": {},
   "source": [
    "defining bins"
   ]
  },
  {
   "cell_type": "code",
   "execution_count": 4,
   "metadata": {
    "collapsed": true
   },
   "outputs": [],
   "source": [
    "bins = [0,10,20,30,40,50]"
   ]
  },
  {
   "cell_type": "markdown",
   "metadata": {},
   "source": [
    "Checking what value falls under which category"
   ]
  },
  {
   "cell_type": "code",
   "execution_count": 5,
   "metadata": {},
   "outputs": [],
   "source": [
    "categories = pd.cut(k['second test'],bins)"
   ]
  },
  {
   "cell_type": "code",
   "execution_count": 6,
   "metadata": {},
   "outputs": [
    {
     "data": {
      "text/plain": [
       "0      (0, 10]\n",
       "1      (0, 10]\n",
       "2     (30, 40]\n",
       "3     (40, 50]\n",
       "4      (0, 10]\n",
       "5     (10, 20]\n",
       "6     (30, 40]\n",
       "7     (20, 30]\n",
       "8     (30, 40]\n",
       "9     (20, 30]\n",
       "10    (40, 50]\n",
       "11    (40, 50]\n",
       "Name: second test, dtype: category\n",
       "Categories (5, interval[int64]): [(0, 10] < (10, 20] < (20, 30] < (30, 40] < (40, 50]]"
      ]
     },
     "execution_count": 6,
     "metadata": {},
     "output_type": "execute_result"
    }
   ],
   "source": [
    "categories"
   ]
  },
  {
   "cell_type": "markdown",
   "metadata": {},
   "source": [
    "let's label the bins\n",
    "\n",
    "always remember that number of elements in bin is always one more than the number of elements in label columns."
   ]
  },
  {
   "cell_type": "code",
   "execution_count": 7,
   "metadata": {
    "collapsed": true
   },
   "outputs": [],
   "source": [
    "label = ['f','d','c','b','a']"
   ]
  },
  {
   "cell_type": "code",
   "execution_count": 8,
   "metadata": {},
   "outputs": [
    {
     "data": {
      "text/plain": [
       "0     a\n",
       "1     c\n",
       "2     b\n",
       "3     c\n",
       "4     d\n",
       "5     b\n",
       "6     b\n",
       "7     b\n",
       "8     d\n",
       "9     d\n",
       "10    c\n",
       "11    a\n",
       "Name: first test, dtype: category\n",
       "Categories (5, object): [a < b < c < d < f]"
      ]
     },
     "execution_count": 8,
     "metadata": {},
     "output_type": "execute_result"
    }
   ],
   "source": [
    "pd.cut(k['first test'],bins,labels = label)"
   ]
  },
  {
   "cell_type": "code",
   "execution_count": 9,
   "metadata": {},
   "outputs": [],
   "source": [
    "k['categories'] = categories"
   ]
  },
  {
   "cell_type": "code",
   "execution_count": 10,
   "metadata": {},
   "outputs": [
    {
     "data": {
      "text/html": [
       "<div>\n",
       "<style>\n",
       "    .dataframe thead tr:only-child th {\n",
       "        text-align: right;\n",
       "    }\n",
       "\n",
       "    .dataframe thead th {\n",
       "        text-align: left;\n",
       "    }\n",
       "\n",
       "    .dataframe tbody tr th {\n",
       "        vertical-align: top;\n",
       "    }\n",
       "</style>\n",
       "<table border=\"1\" class=\"dataframe\">\n",
       "  <thead>\n",
       "    <tr style=\"text-align: right;\">\n",
       "      <th></th>\n",
       "      <th>class</th>\n",
       "      <th>div</th>\n",
       "      <th>name</th>\n",
       "      <th>first test</th>\n",
       "      <th>second test</th>\n",
       "      <th>categories</th>\n",
       "    </tr>\n",
       "  </thead>\n",
       "  <tbody>\n",
       "    <tr>\n",
       "      <th>0</th>\n",
       "      <td>first</td>\n",
       "      <td>low</td>\n",
       "      <td>ganesh</td>\n",
       "      <td>49</td>\n",
       "      <td>6</td>\n",
       "      <td>(0, 10]</td>\n",
       "    </tr>\n",
       "    <tr>\n",
       "      <th>1</th>\n",
       "      <td>second</td>\n",
       "      <td>high</td>\n",
       "      <td>ramesh</td>\n",
       "      <td>29</td>\n",
       "      <td>3</td>\n",
       "      <td>(0, 10]</td>\n",
       "    </tr>\n",
       "    <tr>\n",
       "      <th>2</th>\n",
       "      <td>third</td>\n",
       "      <td>low</td>\n",
       "      <td>suresh</td>\n",
       "      <td>31</td>\n",
       "      <td>33</td>\n",
       "      <td>(30, 40]</td>\n",
       "    </tr>\n",
       "    <tr>\n",
       "      <th>3</th>\n",
       "      <td>first</td>\n",
       "      <td>high</td>\n",
       "      <td>paramesh</td>\n",
       "      <td>28</td>\n",
       "      <td>46</td>\n",
       "      <td>(40, 50]</td>\n",
       "    </tr>\n",
       "    <tr>\n",
       "      <th>4</th>\n",
       "      <td>second</td>\n",
       "      <td>low</td>\n",
       "      <td>gireesh</td>\n",
       "      <td>12</td>\n",
       "      <td>9</td>\n",
       "      <td>(0, 10]</td>\n",
       "    </tr>\n",
       "    <tr>\n",
       "      <th>5</th>\n",
       "      <td>third</td>\n",
       "      <td>high</td>\n",
       "      <td>rishikesh</td>\n",
       "      <td>36</td>\n",
       "      <td>18</td>\n",
       "      <td>(10, 20]</td>\n",
       "    </tr>\n",
       "    <tr>\n",
       "      <th>6</th>\n",
       "      <td>first</td>\n",
       "      <td>low</td>\n",
       "      <td>rekha</td>\n",
       "      <td>33</td>\n",
       "      <td>38</td>\n",
       "      <td>(30, 40]</td>\n",
       "    </tr>\n",
       "    <tr>\n",
       "      <th>7</th>\n",
       "      <td>second</td>\n",
       "      <td>high</td>\n",
       "      <td>lekha</td>\n",
       "      <td>40</td>\n",
       "      <td>27</td>\n",
       "      <td>(20, 30]</td>\n",
       "    </tr>\n",
       "    <tr>\n",
       "      <th>8</th>\n",
       "      <td>third</td>\n",
       "      <td>low</td>\n",
       "      <td>geetha</td>\n",
       "      <td>16</td>\n",
       "      <td>33</td>\n",
       "      <td>(30, 40]</td>\n",
       "    </tr>\n",
       "    <tr>\n",
       "      <th>9</th>\n",
       "      <td>first</td>\n",
       "      <td>high</td>\n",
       "      <td>seetha</td>\n",
       "      <td>20</td>\n",
       "      <td>28</td>\n",
       "      <td>(20, 30]</td>\n",
       "    </tr>\n",
       "    <tr>\n",
       "      <th>10</th>\n",
       "      <td>second</td>\n",
       "      <td>low</td>\n",
       "      <td>kavitha</td>\n",
       "      <td>21</td>\n",
       "      <td>48</td>\n",
       "      <td>(40, 50]</td>\n",
       "    </tr>\n",
       "    <tr>\n",
       "      <th>11</th>\n",
       "      <td>third</td>\n",
       "      <td>high</td>\n",
       "      <td>arjun</td>\n",
       "      <td>45</td>\n",
       "      <td>46</td>\n",
       "      <td>(40, 50]</td>\n",
       "    </tr>\n",
       "  </tbody>\n",
       "</table>\n",
       "</div>"
      ],
      "text/plain": [
       "     class   div       name  first test  second test categories\n",
       "0    first   low     ganesh          49            6    (0, 10]\n",
       "1   second  high     ramesh          29            3    (0, 10]\n",
       "2    third   low     suresh          31           33   (30, 40]\n",
       "3    first  high   paramesh          28           46   (40, 50]\n",
       "4   second   low    gireesh          12            9    (0, 10]\n",
       "5    third  high  rishikesh          36           18   (10, 20]\n",
       "6    first   low      rekha          33           38   (30, 40]\n",
       "7   second  high      lekha          40           27   (20, 30]\n",
       "8    third   low     geetha          16           33   (30, 40]\n",
       "9    first  high     seetha          20           28   (20, 30]\n",
       "10  second   low    kavitha          21           48   (40, 50]\n",
       "11   third  high      arjun          45           46   (40, 50]"
      ]
     },
     "execution_count": 10,
     "metadata": {},
     "output_type": "execute_result"
    }
   ],
   "source": [
    "k"
   ]
  },
  {
   "cell_type": "code",
   "execution_count": 11,
   "metadata": {
    "collapsed": true
   },
   "outputs": [],
   "source": [
    "k['binned'] = pd.cut(k['second test'],bins,labels = label)"
   ]
  },
  {
   "cell_type": "markdown",
   "metadata": {},
   "source": [
    "Final dataframe after binning"
   ]
  },
  {
   "cell_type": "code",
   "execution_count": 12,
   "metadata": {
    "scrolled": true
   },
   "outputs": [
    {
     "data": {
      "text/html": [
       "<div>\n",
       "<style>\n",
       "    .dataframe thead tr:only-child th {\n",
       "        text-align: right;\n",
       "    }\n",
       "\n",
       "    .dataframe thead th {\n",
       "        text-align: left;\n",
       "    }\n",
       "\n",
       "    .dataframe tbody tr th {\n",
       "        vertical-align: top;\n",
       "    }\n",
       "</style>\n",
       "<table border=\"1\" class=\"dataframe\">\n",
       "  <thead>\n",
       "    <tr style=\"text-align: right;\">\n",
       "      <th></th>\n",
       "      <th>class</th>\n",
       "      <th>div</th>\n",
       "      <th>name</th>\n",
       "      <th>first test</th>\n",
       "      <th>second test</th>\n",
       "      <th>categories</th>\n",
       "      <th>binned</th>\n",
       "    </tr>\n",
       "  </thead>\n",
       "  <tbody>\n",
       "    <tr>\n",
       "      <th>0</th>\n",
       "      <td>first</td>\n",
       "      <td>low</td>\n",
       "      <td>ganesh</td>\n",
       "      <td>49</td>\n",
       "      <td>6</td>\n",
       "      <td>(0, 10]</td>\n",
       "      <td>f</td>\n",
       "    </tr>\n",
       "    <tr>\n",
       "      <th>1</th>\n",
       "      <td>second</td>\n",
       "      <td>high</td>\n",
       "      <td>ramesh</td>\n",
       "      <td>29</td>\n",
       "      <td>3</td>\n",
       "      <td>(0, 10]</td>\n",
       "      <td>f</td>\n",
       "    </tr>\n",
       "    <tr>\n",
       "      <th>2</th>\n",
       "      <td>third</td>\n",
       "      <td>low</td>\n",
       "      <td>suresh</td>\n",
       "      <td>31</td>\n",
       "      <td>33</td>\n",
       "      <td>(30, 40]</td>\n",
       "      <td>b</td>\n",
       "    </tr>\n",
       "    <tr>\n",
       "      <th>3</th>\n",
       "      <td>first</td>\n",
       "      <td>high</td>\n",
       "      <td>paramesh</td>\n",
       "      <td>28</td>\n",
       "      <td>46</td>\n",
       "      <td>(40, 50]</td>\n",
       "      <td>a</td>\n",
       "    </tr>\n",
       "    <tr>\n",
       "      <th>4</th>\n",
       "      <td>second</td>\n",
       "      <td>low</td>\n",
       "      <td>gireesh</td>\n",
       "      <td>12</td>\n",
       "      <td>9</td>\n",
       "      <td>(0, 10]</td>\n",
       "      <td>f</td>\n",
       "    </tr>\n",
       "    <tr>\n",
       "      <th>5</th>\n",
       "      <td>third</td>\n",
       "      <td>high</td>\n",
       "      <td>rishikesh</td>\n",
       "      <td>36</td>\n",
       "      <td>18</td>\n",
       "      <td>(10, 20]</td>\n",
       "      <td>d</td>\n",
       "    </tr>\n",
       "    <tr>\n",
       "      <th>6</th>\n",
       "      <td>first</td>\n",
       "      <td>low</td>\n",
       "      <td>rekha</td>\n",
       "      <td>33</td>\n",
       "      <td>38</td>\n",
       "      <td>(30, 40]</td>\n",
       "      <td>b</td>\n",
       "    </tr>\n",
       "    <tr>\n",
       "      <th>7</th>\n",
       "      <td>second</td>\n",
       "      <td>high</td>\n",
       "      <td>lekha</td>\n",
       "      <td>40</td>\n",
       "      <td>27</td>\n",
       "      <td>(20, 30]</td>\n",
       "      <td>c</td>\n",
       "    </tr>\n",
       "    <tr>\n",
       "      <th>8</th>\n",
       "      <td>third</td>\n",
       "      <td>low</td>\n",
       "      <td>geetha</td>\n",
       "      <td>16</td>\n",
       "      <td>33</td>\n",
       "      <td>(30, 40]</td>\n",
       "      <td>b</td>\n",
       "    </tr>\n",
       "    <tr>\n",
       "      <th>9</th>\n",
       "      <td>first</td>\n",
       "      <td>high</td>\n",
       "      <td>seetha</td>\n",
       "      <td>20</td>\n",
       "      <td>28</td>\n",
       "      <td>(20, 30]</td>\n",
       "      <td>c</td>\n",
       "    </tr>\n",
       "    <tr>\n",
       "      <th>10</th>\n",
       "      <td>second</td>\n",
       "      <td>low</td>\n",
       "      <td>kavitha</td>\n",
       "      <td>21</td>\n",
       "      <td>48</td>\n",
       "      <td>(40, 50]</td>\n",
       "      <td>a</td>\n",
       "    </tr>\n",
       "    <tr>\n",
       "      <th>11</th>\n",
       "      <td>third</td>\n",
       "      <td>high</td>\n",
       "      <td>arjun</td>\n",
       "      <td>45</td>\n",
       "      <td>46</td>\n",
       "      <td>(40, 50]</td>\n",
       "      <td>a</td>\n",
       "    </tr>\n",
       "  </tbody>\n",
       "</table>\n",
       "</div>"
      ],
      "text/plain": [
       "     class   div       name  first test  second test categories binned\n",
       "0    first   low     ganesh          49            6    (0, 10]      f\n",
       "1   second  high     ramesh          29            3    (0, 10]      f\n",
       "2    third   low     suresh          31           33   (30, 40]      b\n",
       "3    first  high   paramesh          28           46   (40, 50]      a\n",
       "4   second   low    gireesh          12            9    (0, 10]      f\n",
       "5    third  high  rishikesh          36           18   (10, 20]      d\n",
       "6    first   low      rekha          33           38   (30, 40]      b\n",
       "7   second  high      lekha          40           27   (20, 30]      c\n",
       "8    third   low     geetha          16           33   (30, 40]      b\n",
       "9    first  high     seetha          20           28   (20, 30]      c\n",
       "10  second   low    kavitha          21           48   (40, 50]      a\n",
       "11   third  high      arjun          45           46   (40, 50]      a"
      ]
     },
     "execution_count": 12,
     "metadata": {},
     "output_type": "execute_result"
    }
   ],
   "source": [
    "k"
   ]
  },
  {
   "cell_type": "markdown",
   "metadata": {},
   "source": [
    "exploring bins command."
   ]
  },
  {
   "cell_type": "code",
   "execution_count": 13,
   "metadata": {},
   "outputs": [],
   "source": [
    "a= pd.cut(k['second test'],bins,retbins = True)\n",
    "# it will return bins boolean."
   ]
  },
  {
   "cell_type": "code",
   "execution_count": 14,
   "metadata": {
    "scrolled": true
   },
   "outputs": [
    {
     "data": {
      "text/plain": [
       "(0      (0, 10]\n",
       " 1      (0, 10]\n",
       " 2     (30, 40]\n",
       " 3     (40, 50]\n",
       " 4      (0, 10]\n",
       " 5     (10, 20]\n",
       " 6     (30, 40]\n",
       " 7     (20, 30]\n",
       " 8     (30, 40]\n",
       " 9     (20, 30]\n",
       " 10    (40, 50]\n",
       " 11    (40, 50]\n",
       " Name: second test, dtype: category\n",
       " Categories (5, interval[int64]): [(0, 10] < (10, 20] < (20, 30] < (30, 40] < (40, 50]],\n",
       " array([ 0, 10, 20, 30, 40, 50]))"
      ]
     },
     "execution_count": 14,
     "metadata": {},
     "output_type": "execute_result"
    }
   ],
   "source": [
    "a"
   ]
  },
  {
   "cell_type": "code",
   "execution_count": 15,
   "metadata": {},
   "outputs": [
    {
     "data": {
      "text/plain": [
       "(0     (-0.001, 10.0]\n",
       " 1     (-0.001, 10.0]\n",
       " 2       (30.0, 40.0]\n",
       " 3       (40.0, 50.0]\n",
       " 4     (-0.001, 10.0]\n",
       " 5       (10.0, 20.0]\n",
       " 6       (30.0, 40.0]\n",
       " 7       (20.0, 30.0]\n",
       " 8       (30.0, 40.0]\n",
       " 9       (20.0, 30.0]\n",
       " 10      (40.0, 50.0]\n",
       " 11      (40.0, 50.0]\n",
       " Name: second test, dtype: category\n",
       " Categories (5, interval[float64]): [(-0.001, 10.0] < (10.0, 20.0] < (20.0, 30.0] < (30.0, 40.0] < (40.0, 50.0]],\n",
       " array([ 0, 10, 20, 30, 40, 50]))"
      ]
     },
     "execution_count": 15,
     "metadata": {},
     "output_type": "execute_result"
    }
   ],
   "source": [
    "pd.cut(k['second test'],bins,retbins = True,include_lowest = True)\n",
    "\n",
    "# understand the subtle differnce include_lowest brought into the output."
   ]
  }
 ],
 "metadata": {
  "kernelspec": {
   "display_name": "Python 3",
   "language": "python",
   "name": "python3"
  },
  "language_info": {
   "codemirror_mode": {
    "name": "ipython",
    "version": 3
   },
   "file_extension": ".py",
   "mimetype": "text/x-python",
   "name": "python",
   "nbconvert_exporter": "python",
   "pygments_lexer": "ipython3",
   "version": "3.6.1"
  }
 },
 "nbformat": 4,
 "nbformat_minor": 2
}
