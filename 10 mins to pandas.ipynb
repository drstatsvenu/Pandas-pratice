{
 "cells": [
  {
   "cell_type": "markdown",
   "metadata": {},
   "source": [
    "# Basics of pandas"
   ]
  },
  {
   "cell_type": "markdown",
   "metadata": {},
   "source": [
    "let us start by importing pandas with an alias pd"
   ]
  },
  {
   "cell_type": "code",
   "execution_count": 3,
   "metadata": {
    "collapsed": true
   },
   "outputs": [],
   "source": [
    "import pandas as pd"
   ]
  },
  {
   "cell_type": "markdown",
   "metadata": {},
   "source": [
    "Know the version of pandas using pd.__version__ command"
   ]
  },
  {
   "cell_type": "code",
   "execution_count": 4,
   "metadata": {},
   "outputs": [
    {
     "data": {
      "text/plain": [
       "'0.20.1'"
      ]
     },
     "execution_count": 4,
     "metadata": {},
     "output_type": "execute_result"
    }
   ],
   "source": [
    "pd.__version__"
   ]
  },
  {
   "cell_type": "markdown",
   "metadata": {},
   "source": [
    "Let us also import some supporting modules such as numpy and matplotlib."
   ]
  },
  {
   "cell_type": "code",
   "execution_count": 5,
   "metadata": {
    "collapsed": true
   },
   "outputs": [],
   "source": [
    "import numpy as np\n",
    "import matplotlib.pyplot as plt"
   ]
  },
  {
   "cell_type": "markdown",
   "metadata": {},
   "source": [
    "Creating a series with index and assigned values"
   ]
  },
  {
   "cell_type": "code",
   "execution_count": 8,
   "metadata": {},
   "outputs": [
    {
     "name": "stdout",
     "output_type": "stream",
     "text": [
      "0    1.0\n",
      "1    3.0\n",
      "2    5.0\n",
      "3    NaN\n",
      "4    6.0\n",
      "5    8.0\n",
      "dtype: float64\n"
     ]
    }
   ],
   "source": [
    "s = pd.Series([1,3,5,np.nan,6,8])\n",
    "print (s)"
   ]
  },
  {
   "cell_type": "markdown",
   "metadata": {},
   "source": [
    "Creating datetime index in dates variable"
   ]
  },
  {
   "cell_type": "code",
   "execution_count": 9,
   "metadata": {},
   "outputs": [
    {
     "name": "stdout",
     "output_type": "stream",
     "text": [
      "DatetimeIndex(['2017-12-07', '2017-12-08', '2017-12-09', '2017-12-10',\n",
      "               '2017-12-11', '2017-12-12'],\n",
      "              dtype='datetime64[ns]', freq='D')\n"
     ]
    }
   ],
   "source": [
    "dates = pd.date_range('20171207',periods=6)\n",
    "print(dates)"
   ]
  },
  {
   "cell_type": "markdown",
   "metadata": {},
   "source": [
    "Create a dataframe with dates as index and specified columns using numpy arrays"
   ]
  },
  {
   "cell_type": "code",
   "execution_count": 12,
   "metadata": {},
   "outputs": [
    {
     "name": "stdout",
     "output_type": "stream",
     "text": [
      "                   A         B         C         D\n",
      "2017-12-07 -1.590891  0.470428  0.757403 -0.782416\n",
      "2017-12-08 -0.589836 -1.477910 -0.246581  1.495913\n",
      "2017-12-09 -1.531725  0.906206  0.680724  1.488736\n",
      "2017-12-10 -0.827291  0.305642  0.176794 -1.116974\n",
      "2017-12-11 -0.102081 -0.240566  0.949629  0.708351\n",
      "2017-12-12 -1.675654  0.410754 -1.569903  0.219077\n"
     ]
    }
   ],
   "source": [
    "df = pd.DataFrame(np.random.randn(6,4),index=dates,columns = list('ABCD'))\n",
    "print (df)"
   ]
  },
  {
   "cell_type": "markdown",
   "metadata": {},
   "source": [
    "reate a dataframe using dict keys"
   ]
  },
  {
   "cell_type": "code",
   "execution_count": 21,
   "metadata": {},
   "outputs": [
    {
     "name": "stdout",
     "output_type": "stream",
     "text": [
      "     A          B  C  D    E\n",
      "0  1.0 2017-12-07  3  4  foo\n",
      "1  1.0 2017-12-08  3  4  foo\n",
      "2  1.0 2017-12-09  3  4  foo\n",
      "3  1.0 2017-12-10  3  4  foo\n",
      "4  1.0 2017-12-11  3  4  foo\n",
      "5  1.0 2017-12-12  3  4  foo\n"
     ]
    }
   ],
   "source": [
    "df2 = pd.DataFrame({'A': 1.,\n",
    "                    'B': dates,\n",
    "                    'C': 3,\n",
    "                    'D': 4,\n",
    "                    'E':'foo'})\n",
    "print (df2)"
   ]
  },
  {
   "cell_type": "markdown",
   "metadata": {},
   "source": [
    "Checking datatypes"
   ]
  },
  {
   "cell_type": "code",
   "execution_count": 22,
   "metadata": {},
   "outputs": [
    {
     "data": {
      "text/plain": [
       "A           float64\n",
       "B    datetime64[ns]\n",
       "C             int64\n",
       "D             int64\n",
       "E            object\n",
       "dtype: object"
      ]
     },
     "execution_count": 22,
     "metadata": {},
     "output_type": "execute_result"
    }
   ],
   "source": [
    "df2.dtypes"
   ]
  },
  {
   "cell_type": "markdown",
   "metadata": {},
   "source": [
    "Accessing a column in a dataframe by calling the dataframe."
   ]
  },
  {
   "cell_type": "code",
   "execution_count": 23,
   "metadata": {
    "scrolled": false
   },
   "outputs": [
    {
     "data": {
      "text/plain": [
       "0   2017-12-07\n",
       "1   2017-12-08\n",
       "2   2017-12-09\n",
       "3   2017-12-10\n",
       "4   2017-12-11\n",
       "5   2017-12-12\n",
       "Name: B, dtype: datetime64[ns]"
      ]
     },
     "execution_count": 23,
     "metadata": {},
     "output_type": "execute_result"
    }
   ],
   "source": [
    "df2.B"
   ]
  },
  {
   "cell_type": "markdown",
   "metadata": {},
   "source": [
    "Accessing a column in a dataframe by indexing the dataframe."
   ]
  },
  {
   "cell_type": "code",
   "execution_count": 24,
   "metadata": {},
   "outputs": [
    {
     "data": {
      "text/plain": [
       "0   2017-12-07\n",
       "1   2017-12-08\n",
       "2   2017-12-09\n",
       "3   2017-12-10\n",
       "4   2017-12-11\n",
       "5   2017-12-12\n",
       "Name: B, dtype: datetime64[ns]"
      ]
     },
     "execution_count": 24,
     "metadata": {},
     "output_type": "execute_result"
    }
   ],
   "source": [
    "df2['B']"
   ]
  },
  {
   "cell_type": "code",
   "execution_count": 25,
   "metadata": {},
   "outputs": [
    {
     "name": "stdout",
     "output_type": "stream",
     "text": [
      "     A          B  C  D    E\n",
      "0  1.0 2017-12-07  3  4  foo\n",
      "1  1.0 2017-12-08  3  4  foo\n",
      "2  1.0 2017-12-09  3  4  foo\n",
      "3  1.0 2017-12-10  3  4  foo\n",
      "4  1.0 2017-12-11  3  4  foo\n",
      "5  1.0 2017-12-12  3  4  foo\n"
     ]
    }
   ],
   "source": [
    "print (df2)"
   ]
  },
  {
   "cell_type": "markdown",
   "metadata": {},
   "source": [
    "View the head of dataframe df and df2"
   ]
  },
  {
   "cell_type": "code",
   "execution_count": 26,
   "metadata": {},
   "outputs": [
    {
     "data": {
      "text/plain": [
       "(                   A         B         C         D\n",
       " 2017-12-07 -1.590891  0.470428  0.757403 -0.782416\n",
       " 2017-12-08 -0.589836 -1.477910 -0.246581  1.495913\n",
       " 2017-12-09 -1.531725  0.906206  0.680724  1.488736\n",
       " 2017-12-10 -0.827291  0.305642  0.176794 -1.116974\n",
       " 2017-12-11 -0.102081 -0.240566  0.949629  0.708351,\n",
       "      A          B  C  D    E\n",
       " 0  1.0 2017-12-07  3  4  foo\n",
       " 1  1.0 2017-12-08  3  4  foo\n",
       " 2  1.0 2017-12-09  3  4  foo\n",
       " 3  1.0 2017-12-10  3  4  foo\n",
       " 4  1.0 2017-12-11  3  4  foo)"
      ]
     },
     "execution_count": 26,
     "metadata": {},
     "output_type": "execute_result"
    }
   ],
   "source": [
    "df.head(),df2.head()"
   ]
  },
  {
   "cell_type": "markdown",
   "metadata": {},
   "source": [
    "View tail of dataframe"
   ]
  },
  {
   "cell_type": "code",
   "execution_count": 28,
   "metadata": {},
   "outputs": [
    {
     "data": {
      "text/html": [
       "<div>\n",
       "<style>\n",
       "    .dataframe thead tr:only-child th {\n",
       "        text-align: right;\n",
       "    }\n",
       "\n",
       "    .dataframe thead th {\n",
       "        text-align: left;\n",
       "    }\n",
       "\n",
       "    .dataframe tbody tr th {\n",
       "        vertical-align: top;\n",
       "    }\n",
       "</style>\n",
       "<table border=\"1\" class=\"dataframe\">\n",
       "  <thead>\n",
       "    <tr style=\"text-align: right;\">\n",
       "      <th></th>\n",
       "      <th>A</th>\n",
       "      <th>B</th>\n",
       "      <th>C</th>\n",
       "      <th>D</th>\n",
       "    </tr>\n",
       "  </thead>\n",
       "  <tbody>\n",
       "    <tr>\n",
       "      <th>2017-12-11</th>\n",
       "      <td>-0.102081</td>\n",
       "      <td>-0.240566</td>\n",
       "      <td>0.949629</td>\n",
       "      <td>0.708351</td>\n",
       "    </tr>\n",
       "    <tr>\n",
       "      <th>2017-12-12</th>\n",
       "      <td>-1.675654</td>\n",
       "      <td>0.410754</td>\n",
       "      <td>-1.569903</td>\n",
       "      <td>0.219077</td>\n",
       "    </tr>\n",
       "  </tbody>\n",
       "</table>\n",
       "</div>"
      ],
      "text/plain": [
       "                   A         B         C         D\n",
       "2017-12-11 -0.102081 -0.240566  0.949629  0.708351\n",
       "2017-12-12 -1.675654  0.410754 -1.569903  0.219077"
      ]
     },
     "execution_count": 28,
     "metadata": {},
     "output_type": "execute_result"
    }
   ],
   "source": [
    "df.tail(2)"
   ]
  },
  {
   "cell_type": "markdown",
   "metadata": {},
   "source": [
    "Get the index,columns and values"
   ]
  },
  {
   "cell_type": "code",
   "execution_count": 30,
   "metadata": {},
   "outputs": [
    {
     "data": {
      "text/plain": [
       "DatetimeIndex(['2017-12-07', '2017-12-08', '2017-12-09', '2017-12-10',\n",
       "               '2017-12-11', '2017-12-12'],\n",
       "              dtype='datetime64[ns]', freq='D')"
      ]
     },
     "execution_count": 30,
     "metadata": {},
     "output_type": "execute_result"
    }
   ],
   "source": [
    "df.index"
   ]
  },
  {
   "cell_type": "code",
   "execution_count": 31,
   "metadata": {},
   "outputs": [
    {
     "data": {
      "text/plain": [
       "(Index(['A', 'B', 'C', 'D'], dtype='object'),\n",
       " Index(['A', 'B', 'C', 'D', 'E'], dtype='object'))"
      ]
     },
     "execution_count": 31,
     "metadata": {},
     "output_type": "execute_result"
    }
   ],
   "source": [
    "df.columns,df2.columns"
   ]
  },
  {
   "cell_type": "code",
   "execution_count": 32,
   "metadata": {},
   "outputs": [
    {
     "data": {
      "text/plain": [
       "array([[-1.59089129,  0.47042828,  0.75740295, -0.78241565],\n",
       "       [-0.58983586, -1.4779103 , -0.24658111,  1.49591321],\n",
       "       [-1.53172494,  0.90620592,  0.680724  ,  1.48873564],\n",
       "       [-0.82729062,  0.30564243,  0.1767941 , -1.11697355],\n",
       "       [-0.10208113, -0.24056567,  0.94962877,  0.70835149],\n",
       "       [-1.67565402,  0.41075356, -1.56990339,  0.21907695]])"
      ]
     },
     "execution_count": 32,
     "metadata": {},
     "output_type": "execute_result"
    }
   ],
   "source": [
    "df.values"
   ]
  },
  {
   "cell_type": "code",
   "execution_count": 33,
   "metadata": {},
   "outputs": [
    {
     "data": {
      "text/plain": [
       "(array([[1.0, Timestamp('2017-12-07 00:00:00'), 3, 4, 'foo'],\n",
       "        [1.0, Timestamp('2017-12-08 00:00:00'), 3, 4, 'foo'],\n",
       "        [1.0, Timestamp('2017-12-09 00:00:00'), 3, 4, 'foo'],\n",
       "        [1.0, Timestamp('2017-12-10 00:00:00'), 3, 4, 'foo'],\n",
       "        [1.0, Timestamp('2017-12-11 00:00:00'), 3, 4, 'foo'],\n",
       "        [1.0, Timestamp('2017-12-12 00:00:00'), 3, 4, 'foo']], dtype=object),\n",
       " DatetimeIndex(['2017-12-07', '2017-12-08', '2017-12-09', '2017-12-10',\n",
       "                '2017-12-11', '2017-12-12'],\n",
       "               dtype='datetime64[ns]', freq='D'),\n",
       " Index(['A', 'B', 'C', 'D', 'E'], dtype='object'))"
      ]
     },
     "execution_count": 33,
     "metadata": {},
     "output_type": "execute_result"
    }
   ],
   "source": [
    "df2.values,df.index,df2.columns"
   ]
  },
  {
   "cell_type": "markdown",
   "metadata": {},
   "source": [
    "Describe shows a quick summary of data"
   ]
  },
  {
   "cell_type": "code",
   "execution_count": 34,
   "metadata": {},
   "outputs": [
    {
     "data": {
      "text/html": [
       "<div>\n",
       "<style>\n",
       "    .dataframe thead tr:only-child th {\n",
       "        text-align: right;\n",
       "    }\n",
       "\n",
       "    .dataframe thead th {\n",
       "        text-align: left;\n",
       "    }\n",
       "\n",
       "    .dataframe tbody tr th {\n",
       "        vertical-align: top;\n",
       "    }\n",
       "</style>\n",
       "<table border=\"1\" class=\"dataframe\">\n",
       "  <thead>\n",
       "    <tr style=\"text-align: right;\">\n",
       "      <th></th>\n",
       "      <th>A</th>\n",
       "      <th>B</th>\n",
       "      <th>C</th>\n",
       "      <th>D</th>\n",
       "    </tr>\n",
       "  </thead>\n",
       "  <tbody>\n",
       "    <tr>\n",
       "      <th>count</th>\n",
       "      <td>6.000000</td>\n",
       "      <td>6.000000</td>\n",
       "      <td>6.000000</td>\n",
       "      <td>6.000000</td>\n",
       "    </tr>\n",
       "    <tr>\n",
       "      <th>mean</th>\n",
       "      <td>-1.052913</td>\n",
       "      <td>0.062426</td>\n",
       "      <td>0.124678</td>\n",
       "      <td>0.335448</td>\n",
       "    </tr>\n",
       "    <tr>\n",
       "      <th>std</th>\n",
       "      <td>0.644347</td>\n",
       "      <td>0.839447</td>\n",
       "      <td>0.938321</td>\n",
       "      <td>1.112520</td>\n",
       "    </tr>\n",
       "    <tr>\n",
       "      <th>min</th>\n",
       "      <td>-1.675654</td>\n",
       "      <td>-1.477910</td>\n",
       "      <td>-1.569903</td>\n",
       "      <td>-1.116974</td>\n",
       "    </tr>\n",
       "    <tr>\n",
       "      <th>25%</th>\n",
       "      <td>-1.576100</td>\n",
       "      <td>-0.104014</td>\n",
       "      <td>-0.140737</td>\n",
       "      <td>-0.532042</td>\n",
       "    </tr>\n",
       "    <tr>\n",
       "      <th>50%</th>\n",
       "      <td>-1.179508</td>\n",
       "      <td>0.358198</td>\n",
       "      <td>0.428759</td>\n",
       "      <td>0.463714</td>\n",
       "    </tr>\n",
       "    <tr>\n",
       "      <th>75%</th>\n",
       "      <td>-0.649200</td>\n",
       "      <td>0.455510</td>\n",
       "      <td>0.738233</td>\n",
       "      <td>1.293640</td>\n",
       "    </tr>\n",
       "    <tr>\n",
       "      <th>max</th>\n",
       "      <td>-0.102081</td>\n",
       "      <td>0.906206</td>\n",
       "      <td>0.949629</td>\n",
       "      <td>1.495913</td>\n",
       "    </tr>\n",
       "  </tbody>\n",
       "</table>\n",
       "</div>"
      ],
      "text/plain": [
       "              A         B         C         D\n",
       "count  6.000000  6.000000  6.000000  6.000000\n",
       "mean  -1.052913  0.062426  0.124678  0.335448\n",
       "std    0.644347  0.839447  0.938321  1.112520\n",
       "min   -1.675654 -1.477910 -1.569903 -1.116974\n",
       "25%   -1.576100 -0.104014 -0.140737 -0.532042\n",
       "50%   -1.179508  0.358198  0.428759  0.463714\n",
       "75%   -0.649200  0.455510  0.738233  1.293640\n",
       "max   -0.102081  0.906206  0.949629  1.495913"
      ]
     },
     "execution_count": 34,
     "metadata": {},
     "output_type": "execute_result"
    }
   ],
   "source": [
    "df.describe()"
   ]
  },
  {
   "cell_type": "markdown",
   "metadata": {},
   "source": [
    "Getting transpose"
   ]
  },
  {
   "cell_type": "code",
   "execution_count": 36,
   "metadata": {},
   "outputs": [
    {
     "data": {
      "text/html": [
       "<div>\n",
       "<style>\n",
       "    .dataframe thead tr:only-child th {\n",
       "        text-align: right;\n",
       "    }\n",
       "\n",
       "    .dataframe thead th {\n",
       "        text-align: left;\n",
       "    }\n",
       "\n",
       "    .dataframe tbody tr th {\n",
       "        vertical-align: top;\n",
       "    }\n",
       "</style>\n",
       "<table border=\"1\" class=\"dataframe\">\n",
       "  <thead>\n",
       "    <tr style=\"text-align: right;\">\n",
       "      <th></th>\n",
       "      <th>2017-12-07 00:00:00</th>\n",
       "      <th>2017-12-08 00:00:00</th>\n",
       "      <th>2017-12-09 00:00:00</th>\n",
       "      <th>2017-12-10 00:00:00</th>\n",
       "      <th>2017-12-11 00:00:00</th>\n",
       "      <th>2017-12-12 00:00:00</th>\n",
       "    </tr>\n",
       "  </thead>\n",
       "  <tbody>\n",
       "    <tr>\n",
       "      <th>A</th>\n",
       "      <td>-1.590891</td>\n",
       "      <td>-0.589836</td>\n",
       "      <td>-1.531725</td>\n",
       "      <td>-0.827291</td>\n",
       "      <td>-0.102081</td>\n",
       "      <td>-1.675654</td>\n",
       "    </tr>\n",
       "    <tr>\n",
       "      <th>B</th>\n",
       "      <td>0.470428</td>\n",
       "      <td>-1.477910</td>\n",
       "      <td>0.906206</td>\n",
       "      <td>0.305642</td>\n",
       "      <td>-0.240566</td>\n",
       "      <td>0.410754</td>\n",
       "    </tr>\n",
       "    <tr>\n",
       "      <th>C</th>\n",
       "      <td>0.757403</td>\n",
       "      <td>-0.246581</td>\n",
       "      <td>0.680724</td>\n",
       "      <td>0.176794</td>\n",
       "      <td>0.949629</td>\n",
       "      <td>-1.569903</td>\n",
       "    </tr>\n",
       "    <tr>\n",
       "      <th>D</th>\n",
       "      <td>-0.782416</td>\n",
       "      <td>1.495913</td>\n",
       "      <td>1.488736</td>\n",
       "      <td>-1.116974</td>\n",
       "      <td>0.708351</td>\n",
       "      <td>0.219077</td>\n",
       "    </tr>\n",
       "  </tbody>\n",
       "</table>\n",
       "</div>"
      ],
      "text/plain": [
       "   2017-12-07  2017-12-08  2017-12-09  2017-12-10  2017-12-11  2017-12-12\n",
       "A   -1.590891   -0.589836   -1.531725   -0.827291   -0.102081   -1.675654\n",
       "B    0.470428   -1.477910    0.906206    0.305642   -0.240566    0.410754\n",
       "C    0.757403   -0.246581    0.680724    0.176794    0.949629   -1.569903\n",
       "D   -0.782416    1.495913    1.488736   -1.116974    0.708351    0.219077"
      ]
     },
     "execution_count": 36,
     "metadata": {},
     "output_type": "execute_result"
    }
   ],
   "source": [
    "df.T"
   ]
  },
  {
   "cell_type": "markdown",
   "metadata": {},
   "source": [
    "Sorting by axis"
   ]
  },
  {
   "cell_type": "markdown",
   "metadata": {},
   "source": [
    "Note that keeping ascending as true doesn't yield us any result and axis means that it is just flipping up the array"
   ]
  },
  {
   "cell_type": "code",
   "execution_count": null,
   "metadata": {
    "collapsed": true
   },
   "outputs": [],
   "source": [
    "df.sort_index(axis=1,ascending=False)"
   ]
  },
  {
   "cell_type": "markdown",
   "metadata": {},
   "source": [
    "Sort by values"
   ]
  },
  {
   "cell_type": "code",
   "execution_count": 46,
   "metadata": {},
   "outputs": [
    {
     "data": {
      "text/html": [
       "<div>\n",
       "<style>\n",
       "    .dataframe thead tr:only-child th {\n",
       "        text-align: right;\n",
       "    }\n",
       "\n",
       "    .dataframe thead th {\n",
       "        text-align: left;\n",
       "    }\n",
       "\n",
       "    .dataframe tbody tr th {\n",
       "        vertical-align: top;\n",
       "    }\n",
       "</style>\n",
       "<table border=\"1\" class=\"dataframe\">\n",
       "  <thead>\n",
       "    <tr style=\"text-align: right;\">\n",
       "      <th></th>\n",
       "      <th>A</th>\n",
       "      <th>B</th>\n",
       "      <th>C</th>\n",
       "      <th>D</th>\n",
       "    </tr>\n",
       "  </thead>\n",
       "  <tbody>\n",
       "    <tr>\n",
       "      <th>2017-12-08</th>\n",
       "      <td>-0.589836</td>\n",
       "      <td>-1.477910</td>\n",
       "      <td>-0.246581</td>\n",
       "      <td>1.495913</td>\n",
       "    </tr>\n",
       "    <tr>\n",
       "      <th>2017-12-11</th>\n",
       "      <td>-0.102081</td>\n",
       "      <td>-0.240566</td>\n",
       "      <td>0.949629</td>\n",
       "      <td>0.708351</td>\n",
       "    </tr>\n",
       "    <tr>\n",
       "      <th>2017-12-10</th>\n",
       "      <td>-0.827291</td>\n",
       "      <td>0.305642</td>\n",
       "      <td>0.176794</td>\n",
       "      <td>-1.116974</td>\n",
       "    </tr>\n",
       "    <tr>\n",
       "      <th>2017-12-12</th>\n",
       "      <td>-1.675654</td>\n",
       "      <td>0.410754</td>\n",
       "      <td>-1.569903</td>\n",
       "      <td>0.219077</td>\n",
       "    </tr>\n",
       "    <tr>\n",
       "      <th>2017-12-07</th>\n",
       "      <td>-1.590891</td>\n",
       "      <td>0.470428</td>\n",
       "      <td>0.757403</td>\n",
       "      <td>-0.782416</td>\n",
       "    </tr>\n",
       "    <tr>\n",
       "      <th>2017-12-09</th>\n",
       "      <td>-1.531725</td>\n",
       "      <td>0.906206</td>\n",
       "      <td>0.680724</td>\n",
       "      <td>1.488736</td>\n",
       "    </tr>\n",
       "  </tbody>\n",
       "</table>\n",
       "</div>"
      ],
      "text/plain": [
       "                   A         B         C         D\n",
       "2017-12-08 -0.589836 -1.477910 -0.246581  1.495913\n",
       "2017-12-11 -0.102081 -0.240566  0.949629  0.708351\n",
       "2017-12-10 -0.827291  0.305642  0.176794 -1.116974\n",
       "2017-12-12 -1.675654  0.410754 -1.569903  0.219077\n",
       "2017-12-07 -1.590891  0.470428  0.757403 -0.782416\n",
       "2017-12-09 -1.531725  0.906206  0.680724  1.488736"
      ]
     },
     "execution_count": 46,
     "metadata": {},
     "output_type": "execute_result"
    }
   ],
   "source": [
    "df.sort_values('B')"
   ]
  },
  {
   "cell_type": "markdown",
   "metadata": {},
   "source": [
    "Selection of a single column"
   ]
  },
  {
   "cell_type": "code",
   "execution_count": 47,
   "metadata": {},
   "outputs": [
    {
     "data": {
      "text/plain": [
       "2017-12-07    0.757403\n",
       "2017-12-08   -0.246581\n",
       "2017-12-09    0.680724\n",
       "2017-12-10    0.176794\n",
       "2017-12-11    0.949629\n",
       "2017-12-12   -1.569903\n",
       "Freq: D, Name: C, dtype: float64"
      ]
     },
     "execution_count": 47,
     "metadata": {},
     "output_type": "execute_result"
    }
   ],
   "source": [
    "df['C']"
   ]
  },
  {
   "cell_type": "markdown",
   "metadata": {},
   "source": [
    "##### slicing"
   ]
  },
  {
   "cell_type": "code",
   "execution_count": 81,
   "metadata": {},
   "outputs": [
    {
     "data": {
      "text/html": [
       "<div>\n",
       "<style>\n",
       "    .dataframe thead tr:only-child th {\n",
       "        text-align: right;\n",
       "    }\n",
       "\n",
       "    .dataframe thead th {\n",
       "        text-align: left;\n",
       "    }\n",
       "\n",
       "    .dataframe tbody tr th {\n",
       "        vertical-align: top;\n",
       "    }\n",
       "</style>\n",
       "<table border=\"1\" class=\"dataframe\">\n",
       "  <thead>\n",
       "    <tr style=\"text-align: right;\">\n",
       "      <th></th>\n",
       "      <th>A</th>\n",
       "      <th>B</th>\n",
       "      <th>C</th>\n",
       "      <th>D</th>\n",
       "    </tr>\n",
       "  </thead>\n",
       "  <tbody>\n",
       "    <tr>\n",
       "      <th>2017-12-07</th>\n",
       "      <td>0.351744</td>\n",
       "      <td>-1.245982</td>\n",
       "      <td>-1.422195</td>\n",
       "      <td>0.137432</td>\n",
       "    </tr>\n",
       "    <tr>\n",
       "      <th>2017-12-08</th>\n",
       "      <td>1.140735</td>\n",
       "      <td>0.285535</td>\n",
       "      <td>0.779562</td>\n",
       "      <td>1.413234</td>\n",
       "    </tr>\n",
       "  </tbody>\n",
       "</table>\n",
       "</div>"
      ],
      "text/plain": [
       "                   A         B         C         D\n",
       "2017-12-07  0.351744 -1.245982 -1.422195  0.137432\n",
       "2017-12-08  1.140735  0.285535  0.779562  1.413234"
      ]
     },
     "execution_count": 81,
     "metadata": {},
     "output_type": "execute_result"
    }
   ],
   "source": [
    "df[0:2]"
   ]
  },
  {
   "cell_type": "markdown",
   "metadata": {},
   "source": [
    "you can also slice by giving values"
   ]
  },
  {
   "cell_type": "code",
   "execution_count": 82,
   "metadata": {
    "scrolled": true
   },
   "outputs": [
    {
     "data": {
      "text/html": [
       "<div>\n",
       "<style>\n",
       "    .dataframe thead tr:only-child th {\n",
       "        text-align: right;\n",
       "    }\n",
       "\n",
       "    .dataframe thead th {\n",
       "        text-align: left;\n",
       "    }\n",
       "\n",
       "    .dataframe tbody tr th {\n",
       "        vertical-align: top;\n",
       "    }\n",
       "</style>\n",
       "<table border=\"1\" class=\"dataframe\">\n",
       "  <thead>\n",
       "    <tr style=\"text-align: right;\">\n",
       "      <th></th>\n",
       "      <th>A</th>\n",
       "      <th>B</th>\n",
       "      <th>C</th>\n",
       "      <th>D</th>\n",
       "    </tr>\n",
       "  </thead>\n",
       "  <tbody>\n",
       "    <tr>\n",
       "      <th>2017-12-08</th>\n",
       "      <td>1.140735</td>\n",
       "      <td>0.285535</td>\n",
       "      <td>0.779562</td>\n",
       "      <td>1.413234</td>\n",
       "    </tr>\n",
       "    <tr>\n",
       "      <th>2017-12-09</th>\n",
       "      <td>-0.237926</td>\n",
       "      <td>0.905504</td>\n",
       "      <td>0.216921</td>\n",
       "      <td>-0.463655</td>\n",
       "    </tr>\n",
       "    <tr>\n",
       "      <th>2017-12-10</th>\n",
       "      <td>-1.289273</td>\n",
       "      <td>0.641844</td>\n",
       "      <td>0.006236</td>\n",
       "      <td>-1.171816</td>\n",
       "    </tr>\n",
       "    <tr>\n",
       "      <th>2017-12-11</th>\n",
       "      <td>0.089711</td>\n",
       "      <td>0.880766</td>\n",
       "      <td>0.298425</td>\n",
       "      <td>0.553579</td>\n",
       "    </tr>\n",
       "  </tbody>\n",
       "</table>\n",
       "</div>"
      ],
      "text/plain": [
       "                   A         B         C         D\n",
       "2017-12-08  1.140735  0.285535  0.779562  1.413234\n",
       "2017-12-09 -0.237926  0.905504  0.216921 -0.463655\n",
       "2017-12-10 -1.289273  0.641844  0.006236 -1.171816\n",
       "2017-12-11  0.089711  0.880766  0.298425  0.553579"
      ]
     },
     "execution_count": 82,
     "metadata": {},
     "output_type": "execute_result"
    }
   ],
   "source": [
    "df['20171208':'20171211']"
   ]
  },
  {
   "cell_type": "code",
   "execution_count": 92,
   "metadata": {},
   "outputs": [
    {
     "data": {
      "text/html": [
       "<div>\n",
       "<style>\n",
       "    .dataframe thead tr:only-child th {\n",
       "        text-align: right;\n",
       "    }\n",
       "\n",
       "    .dataframe thead th {\n",
       "        text-align: left;\n",
       "    }\n",
       "\n",
       "    .dataframe tbody tr th {\n",
       "        vertical-align: top;\n",
       "    }\n",
       "</style>\n",
       "<table border=\"1\" class=\"dataframe\">\n",
       "  <thead>\n",
       "    <tr style=\"text-align: right;\">\n",
       "      <th></th>\n",
       "      <th>A</th>\n",
       "      <th>B</th>\n",
       "      <th>C</th>\n",
       "      <th>D</th>\n",
       "    </tr>\n",
       "  </thead>\n",
       "  <tbody>\n",
       "    <tr>\n",
       "      <th>2017-12-12</th>\n",
       "      <td>0.455151</td>\n",
       "      <td>-1.062723</td>\n",
       "      <td>1.446142</td>\n",
       "      <td>0.248972</td>\n",
       "    </tr>\n",
       "  </tbody>\n",
       "</table>\n",
       "</div>"
      ],
      "text/plain": [
       "                   A         B         C         D\n",
       "2017-12-12  0.455151 -1.062723  1.446142  0.248972"
      ]
     },
     "execution_count": 92,
     "metadata": {},
     "output_type": "execute_result"
    }
   ],
   "source": [
    "df[5:6]"
   ]
  },
  {
   "cell_type": "markdown",
   "metadata": {},
   "source": [
    "selection of labels"
   ]
  },
  {
   "cell_type": "code",
   "execution_count": 48,
   "metadata": {},
   "outputs": [
    {
     "data": {
      "text/plain": [
       "A   -1.675654\n",
       "B    0.410754\n",
       "C   -1.569903\n",
       "D    0.219077\n",
       "Name: 2017-12-12 00:00:00, dtype: float64"
      ]
     },
     "execution_count": 48,
     "metadata": {},
     "output_type": "execute_result"
    }
   ],
   "source": [
    "df.loc[dates[5]]"
   ]
  },
  {
   "cell_type": "markdown",
   "metadata": {},
   "source": [
    "selection of multiaxis by label"
   ]
  },
  {
   "cell_type": "code",
   "execution_count": 49,
   "metadata": {},
   "outputs": [
    {
     "data": {
      "text/html": [
       "<div>\n",
       "<style>\n",
       "    .dataframe thead tr:only-child th {\n",
       "        text-align: right;\n",
       "    }\n",
       "\n",
       "    .dataframe thead th {\n",
       "        text-align: left;\n",
       "    }\n",
       "\n",
       "    .dataframe tbody tr th {\n",
       "        vertical-align: top;\n",
       "    }\n",
       "</style>\n",
       "<table border=\"1\" class=\"dataframe\">\n",
       "  <thead>\n",
       "    <tr style=\"text-align: right;\">\n",
       "      <th></th>\n",
       "      <th>A</th>\n",
       "      <th>C</th>\n",
       "    </tr>\n",
       "  </thead>\n",
       "  <tbody>\n",
       "    <tr>\n",
       "      <th>2017-12-07</th>\n",
       "      <td>-1.590891</td>\n",
       "      <td>0.757403</td>\n",
       "    </tr>\n",
       "    <tr>\n",
       "      <th>2017-12-08</th>\n",
       "      <td>-0.589836</td>\n",
       "      <td>-0.246581</td>\n",
       "    </tr>\n",
       "    <tr>\n",
       "      <th>2017-12-09</th>\n",
       "      <td>-1.531725</td>\n",
       "      <td>0.680724</td>\n",
       "    </tr>\n",
       "    <tr>\n",
       "      <th>2017-12-10</th>\n",
       "      <td>-0.827291</td>\n",
       "      <td>0.176794</td>\n",
       "    </tr>\n",
       "    <tr>\n",
       "      <th>2017-12-11</th>\n",
       "      <td>-0.102081</td>\n",
       "      <td>0.949629</td>\n",
       "    </tr>\n",
       "    <tr>\n",
       "      <th>2017-12-12</th>\n",
       "      <td>-1.675654</td>\n",
       "      <td>-1.569903</td>\n",
       "    </tr>\n",
       "  </tbody>\n",
       "</table>\n",
       "</div>"
      ],
      "text/plain": [
       "                   A         C\n",
       "2017-12-07 -1.590891  0.757403\n",
       "2017-12-08 -0.589836 -0.246581\n",
       "2017-12-09 -1.531725  0.680724\n",
       "2017-12-10 -0.827291  0.176794\n",
       "2017-12-11 -0.102081  0.949629\n",
       "2017-12-12 -1.675654 -1.569903"
      ]
     },
     "execution_count": 49,
     "metadata": {},
     "output_type": "execute_result"
    }
   ],
   "source": [
    "df.loc[:,['A','C']]"
   ]
  },
  {
   "cell_type": "markdown",
   "metadata": {},
   "source": [
    "selection of particular indexes and columns"
   ]
  },
  {
   "cell_type": "markdown",
   "metadata": {},
   "source": [
    "df.loc[var[index],[columns]] form"
   ]
  },
  {
   "cell_type": "code",
   "execution_count": 51,
   "metadata": {},
   "outputs": [
    {
     "data": {
      "text/html": [
       "<div>\n",
       "<style>\n",
       "    .dataframe thead tr:only-child th {\n",
       "        text-align: right;\n",
       "    }\n",
       "\n",
       "    .dataframe thead th {\n",
       "        text-align: left;\n",
       "    }\n",
       "\n",
       "    .dataframe tbody tr th {\n",
       "        vertical-align: top;\n",
       "    }\n",
       "</style>\n",
       "<table border=\"1\" class=\"dataframe\">\n",
       "  <thead>\n",
       "    <tr style=\"text-align: right;\">\n",
       "      <th></th>\n",
       "      <th>A</th>\n",
       "      <th>D</th>\n",
       "    </tr>\n",
       "  </thead>\n",
       "  <tbody>\n",
       "    <tr>\n",
       "      <th>2017-12-08</th>\n",
       "      <td>-0.589836</td>\n",
       "      <td>1.495913</td>\n",
       "    </tr>\n",
       "    <tr>\n",
       "      <th>2017-12-09</th>\n",
       "      <td>-1.531725</td>\n",
       "      <td>1.488736</td>\n",
       "    </tr>\n",
       "  </tbody>\n",
       "</table>\n",
       "</div>"
      ],
      "text/plain": [
       "                   A         D\n",
       "2017-12-08 -0.589836  1.495913\n",
       "2017-12-09 -1.531725  1.488736"
      ]
     },
     "execution_count": 51,
     "metadata": {},
     "output_type": "execute_result"
    }
   ],
   "source": [
    "df.loc[dates[1:3],['A','D']]"
   ]
  },
  {
   "cell_type": "markdown",
   "metadata": {},
   "source": [
    "selection of particular indices and columns original method"
   ]
  },
  {
   "cell_type": "code",
   "execution_count": 52,
   "metadata": {},
   "outputs": [
    {
     "data": {
      "text/plain": [
       "B   -1.477910\n",
       "D    1.495913\n",
       "Name: 2017-12-08 00:00:00, dtype: float64"
      ]
     },
     "execution_count": 52,
     "metadata": {},
     "output_type": "execute_result"
    }
   ],
   "source": [
    "df.loc['20171208',['B','D']]"
   ]
  },
  {
   "cell_type": "code",
   "execution_count": 53,
   "metadata": {},
   "outputs": [
    {
     "data": {
      "text/html": [
       "<div>\n",
       "<style>\n",
       "    .dataframe thead tr:only-child th {\n",
       "        text-align: right;\n",
       "    }\n",
       "\n",
       "    .dataframe thead th {\n",
       "        text-align: left;\n",
       "    }\n",
       "\n",
       "    .dataframe tbody tr th {\n",
       "        vertical-align: top;\n",
       "    }\n",
       "</style>\n",
       "<table border=\"1\" class=\"dataframe\">\n",
       "  <thead>\n",
       "    <tr style=\"text-align: right;\">\n",
       "      <th></th>\n",
       "      <th>B</th>\n",
       "      <th>C</th>\n",
       "    </tr>\n",
       "  </thead>\n",
       "  <tbody>\n",
       "    <tr>\n",
       "      <th>2017-12-07</th>\n",
       "      <td>0.470428</td>\n",
       "      <td>0.757403</td>\n",
       "    </tr>\n",
       "    <tr>\n",
       "      <th>2017-12-08</th>\n",
       "      <td>-1.477910</td>\n",
       "      <td>-0.246581</td>\n",
       "    </tr>\n",
       "    <tr>\n",
       "      <th>2017-12-09</th>\n",
       "      <td>0.906206</td>\n",
       "      <td>0.680724</td>\n",
       "    </tr>\n",
       "  </tbody>\n",
       "</table>\n",
       "</div>"
      ],
      "text/plain": [
       "                   B         C\n",
       "2017-12-07  0.470428  0.757403\n",
       "2017-12-08 -1.477910 -0.246581\n",
       "2017-12-09  0.906206  0.680724"
      ]
     },
     "execution_count": 53,
     "metadata": {},
     "output_type": "execute_result"
    }
   ],
   "source": [
    "df.loc['20171207':'20171209',['B','C']]"
   ]
  },
  {
   "cell_type": "markdown",
   "metadata": {},
   "source": [
    "for getting a scalar value"
   ]
  },
  {
   "cell_type": "code",
   "execution_count": 55,
   "metadata": {},
   "outputs": [
    {
     "data": {
      "text/plain": [
       "-0.5898358613858028"
      ]
     },
     "execution_count": 55,
     "metadata": {},
     "output_type": "execute_result"
    }
   ],
   "source": [
    "df.loc[dates[1],'A']"
   ]
  },
  {
   "cell_type": "code",
   "execution_count": 56,
   "metadata": {},
   "outputs": [
    {
     "data": {
      "text/plain": [
       "A   -0.589836\n",
       "Name: 2017-12-08 00:00:00, dtype: float64"
      ]
     },
     "execution_count": 56,
     "metadata": {},
     "output_type": "execute_result"
    }
   ],
   "source": [
    "df.loc[dates[1],['A']]"
   ]
  },
  {
   "cell_type": "markdown",
   "metadata": {
    "collapsed": true
   },
   "source": [
    "note the difference between above two outputs"
   ]
  },
  {
   "cell_type": "markdown",
   "metadata": {},
   "source": [
    "for getting faster access to scalar"
   ]
  },
  {
   "cell_type": "code",
   "execution_count": 57,
   "metadata": {},
   "outputs": [
    {
     "data": {
      "text/plain": [
       "-0.5898358613858028"
      ]
     },
     "execution_count": 57,
     "metadata": {},
     "output_type": "execute_result"
    }
   ],
   "source": [
    "df.at[dates[1],'A']"
   ]
  },
  {
   "cell_type": "markdown",
   "metadata": {},
   "source": [
    "please note that above command doesn't when you give the columns as a list."
   ]
  },
  {
   "cell_type": "markdown",
   "metadata": {},
   "source": [
    "selection by position(row index)"
   ]
  },
  {
   "cell_type": "code",
   "execution_count": 60,
   "metadata": {},
   "outputs": [
    {
     "data": {
      "text/plain": [
       "A   -0.827291\n",
       "B    0.305642\n",
       "C    0.176794\n",
       "D   -1.116974\n",
       "Name: 2017-12-10 00:00:00, dtype: float64"
      ]
     },
     "execution_count": 60,
     "metadata": {},
     "output_type": "execute_result"
    }
   ],
   "source": [
    "df.iloc[3]"
   ]
  },
  {
   "cell_type": "code",
   "execution_count": 61,
   "metadata": {
    "scrolled": true
   },
   "outputs": [
    {
     "data": {
      "text/plain": [
       "(                   A         B         C         D\n",
       " 2017-12-12 -1.675654  0.410754 -1.569903  0.219077,\n",
       "                    A         B         C         D\n",
       " 2017-12-07 -1.590891  0.470428  0.757403 -0.782416\n",
       " 2017-12-08 -0.589836 -1.477910 -0.246581  1.495913\n",
       " 2017-12-09 -1.531725  0.906206  0.680724  1.488736\n",
       " 2017-12-10 -0.827291  0.305642  0.176794 -1.116974\n",
       " 2017-12-11 -0.102081 -0.240566  0.949629  0.708351)"
      ]
     },
     "execution_count": 61,
     "metadata": {},
     "output_type": "execute_result"
    }
   ],
   "source": [
    "df.tail(1),df.head()"
   ]
  },
  {
   "cell_type": "markdown",
   "metadata": {},
   "source": [
    "integer slices act similar to numpy"
   ]
  },
  {
   "cell_type": "code",
   "execution_count": 161,
   "metadata": {
    "scrolled": true
   },
   "outputs": [
    {
     "data": {
      "text/html": [
       "<div>\n",
       "<style>\n",
       "    .dataframe thead tr:only-child th {\n",
       "        text-align: right;\n",
       "    }\n",
       "\n",
       "    .dataframe thead th {\n",
       "        text-align: left;\n",
       "    }\n",
       "\n",
       "    .dataframe tbody tr th {\n",
       "        vertical-align: top;\n",
       "    }\n",
       "</style>\n",
       "<table border=\"1\" class=\"dataframe\">\n",
       "  <thead>\n",
       "    <tr style=\"text-align: right;\">\n",
       "      <th></th>\n",
       "      <th>C</th>\n",
       "      <th>D</th>\n",
       "    </tr>\n",
       "  </thead>\n",
       "  <tbody>\n",
       "    <tr>\n",
       "      <th>2017-12-08</th>\n",
       "      <td>0.779562</td>\n",
       "      <td>1.413234</td>\n",
       "    </tr>\n",
       "    <tr>\n",
       "      <th>2017-12-09</th>\n",
       "      <td>0.216921</td>\n",
       "      <td>-0.463655</td>\n",
       "    </tr>\n",
       "  </tbody>\n",
       "</table>\n",
       "</div>"
      ],
      "text/plain": [
       "                   C         D\n",
       "2017-12-08  0.779562  1.413234\n",
       "2017-12-09  0.216921 -0.463655"
      ]
     },
     "execution_count": 161,
     "metadata": {},
     "output_type": "execute_result"
    }
   ],
   "source": [
    "df.iloc[1:3,2:4]"
   ]
  },
  {
   "cell_type": "markdown",
   "metadata": {},
   "source": [
    "\n",
    "you can access reguired rows and columns with their positions"
   ]
  },
  {
   "cell_type": "code",
   "execution_count": 117,
   "metadata": {},
   "outputs": [
    {
     "data": {
      "text/html": [
       "<div>\n",
       "<style>\n",
       "    .dataframe thead tr:only-child th {\n",
       "        text-align: right;\n",
       "    }\n",
       "\n",
       "    .dataframe thead th {\n",
       "        text-align: left;\n",
       "    }\n",
       "\n",
       "    .dataframe tbody tr th {\n",
       "        vertical-align: top;\n",
       "    }\n",
       "</style>\n",
       "<table border=\"1\" class=\"dataframe\">\n",
       "  <thead>\n",
       "    <tr style=\"text-align: right;\">\n",
       "      <th></th>\n",
       "      <th>B</th>\n",
       "      <th>C</th>\n",
       "    </tr>\n",
       "  </thead>\n",
       "  <tbody>\n",
       "    <tr>\n",
       "      <th>2017-12-08</th>\n",
       "      <td>0.285535</td>\n",
       "      <td>0.779562</td>\n",
       "    </tr>\n",
       "    <tr>\n",
       "      <th>2017-12-10</th>\n",
       "      <td>0.641844</td>\n",
       "      <td>0.006236</td>\n",
       "    </tr>\n",
       "    <tr>\n",
       "      <th>2017-12-11</th>\n",
       "      <td>0.880766</td>\n",
       "      <td>0.298425</td>\n",
       "    </tr>\n",
       "  </tbody>\n",
       "</table>\n",
       "</div>"
      ],
      "text/plain": [
       "                   B         C\n",
       "2017-12-08  0.285535  0.779562\n",
       "2017-12-10  0.641844  0.006236\n",
       "2017-12-11  0.880766  0.298425"
      ]
     },
     "execution_count": 117,
     "metadata": {},
     "output_type": "execute_result"
    }
   ],
   "source": [
    "df.iloc[[1,3,4],[1,2]]"
   ]
  },
  {
   "cell_type": "markdown",
   "metadata": {},
   "source": [
    "for slicing rows explicitly"
   ]
  },
  {
   "cell_type": "code",
   "execution_count": 119,
   "metadata": {},
   "outputs": [
    {
     "data": {
      "text/html": [
       "<div>\n",
       "<style>\n",
       "    .dataframe thead tr:only-child th {\n",
       "        text-align: right;\n",
       "    }\n",
       "\n",
       "    .dataframe thead th {\n",
       "        text-align: left;\n",
       "    }\n",
       "\n",
       "    .dataframe tbody tr th {\n",
       "        vertical-align: top;\n",
       "    }\n",
       "</style>\n",
       "<table border=\"1\" class=\"dataframe\">\n",
       "  <thead>\n",
       "    <tr style=\"text-align: right;\">\n",
       "      <th></th>\n",
       "      <th>A</th>\n",
       "      <th>B</th>\n",
       "      <th>C</th>\n",
       "      <th>D</th>\n",
       "    </tr>\n",
       "  </thead>\n",
       "  <tbody>\n",
       "    <tr>\n",
       "      <th>2017-12-08</th>\n",
       "      <td>1.140735</td>\n",
       "      <td>0.285535</td>\n",
       "      <td>0.779562</td>\n",
       "      <td>1.413234</td>\n",
       "    </tr>\n",
       "    <tr>\n",
       "      <th>2017-12-09</th>\n",
       "      <td>-0.237926</td>\n",
       "      <td>0.905504</td>\n",
       "      <td>0.216921</td>\n",
       "      <td>-0.463655</td>\n",
       "    </tr>\n",
       "  </tbody>\n",
       "</table>\n",
       "</div>"
      ],
      "text/plain": [
       "                   A         B         C         D\n",
       "2017-12-08  1.140735  0.285535  0.779562  1.413234\n",
       "2017-12-09 -0.237926  0.905504  0.216921 -0.463655"
      ]
     },
     "execution_count": 119,
     "metadata": {},
     "output_type": "execute_result"
    }
   ],
   "source": [
    "df.iloc[1:3,:]"
   ]
  },
  {
   "cell_type": "markdown",
   "metadata": {},
   "source": [
    "\n",
    "for getting columns explicitly"
   ]
  },
  {
   "cell_type": "code",
   "execution_count": 120,
   "metadata": {},
   "outputs": [
    {
     "data": {
      "text/html": [
       "<div>\n",
       "<style>\n",
       "    .dataframe thead tr:only-child th {\n",
       "        text-align: right;\n",
       "    }\n",
       "\n",
       "    .dataframe thead th {\n",
       "        text-align: left;\n",
       "    }\n",
       "\n",
       "    .dataframe tbody tr th {\n",
       "        vertical-align: top;\n",
       "    }\n",
       "</style>\n",
       "<table border=\"1\" class=\"dataframe\">\n",
       "  <thead>\n",
       "    <tr style=\"text-align: right;\">\n",
       "      <th></th>\n",
       "      <th>B</th>\n",
       "      <th>C</th>\n",
       "    </tr>\n",
       "  </thead>\n",
       "  <tbody>\n",
       "    <tr>\n",
       "      <th>2017-12-07</th>\n",
       "      <td>-1.245982</td>\n",
       "      <td>-1.422195</td>\n",
       "    </tr>\n",
       "    <tr>\n",
       "      <th>2017-12-08</th>\n",
       "      <td>0.285535</td>\n",
       "      <td>0.779562</td>\n",
       "    </tr>\n",
       "    <tr>\n",
       "      <th>2017-12-09</th>\n",
       "      <td>0.905504</td>\n",
       "      <td>0.216921</td>\n",
       "    </tr>\n",
       "    <tr>\n",
       "      <th>2017-12-10</th>\n",
       "      <td>0.641844</td>\n",
       "      <td>0.006236</td>\n",
       "    </tr>\n",
       "    <tr>\n",
       "      <th>2017-12-11</th>\n",
       "      <td>0.880766</td>\n",
       "      <td>0.298425</td>\n",
       "    </tr>\n",
       "    <tr>\n",
       "      <th>2017-12-12</th>\n",
       "      <td>-1.062723</td>\n",
       "      <td>1.446142</td>\n",
       "    </tr>\n",
       "  </tbody>\n",
       "</table>\n",
       "</div>"
      ],
      "text/plain": [
       "                   B         C\n",
       "2017-12-07 -1.245982 -1.422195\n",
       "2017-12-08  0.285535  0.779562\n",
       "2017-12-09  0.905504  0.216921\n",
       "2017-12-10  0.641844  0.006236\n",
       "2017-12-11  0.880766  0.298425\n",
       "2017-12-12 -1.062723  1.446142"
      ]
     },
     "execution_count": 120,
     "metadata": {},
     "output_type": "execute_result"
    }
   ],
   "source": [
    "df.iloc[:,1:3]"
   ]
  },
  {
   "cell_type": "markdown",
   "metadata": {},
   "source": [
    "\n",
    "for getting value explicitly"
   ]
  },
  {
   "cell_type": "code",
   "execution_count": 62,
   "metadata": {},
   "outputs": [
    {
     "data": {
      "text/plain": [
       "-1.4779102969631106"
      ]
     },
     "execution_count": 62,
     "metadata": {},
     "output_type": "execute_result"
    }
   ],
   "source": [
    "df.iloc[1,1]"
   ]
  },
  {
   "cell_type": "markdown",
   "metadata": {},
   "source": [
    "for getting quick access to a particular value(using at function which we got by prior method)"
   ]
  },
  {
   "cell_type": "code",
   "execution_count": 123,
   "metadata": {},
   "outputs": [
    {
     "data": {
      "text/plain": [
       "0.28553495414554625"
      ]
     },
     "execution_count": 123,
     "metadata": {},
     "output_type": "execute_result"
    }
   ],
   "source": [
    "df.iat[1,1]"
   ]
  },
  {
   "cell_type": "code",
   "execution_count": 63,
   "metadata": {},
   "outputs": [
    {
     "data": {
      "text/plain": [
       "0.68072399831677033"
      ]
     },
     "execution_count": 63,
     "metadata": {},
     "output_type": "execute_result"
    }
   ],
   "source": [
    "df.iat[2,2]"
   ]
  },
  {
   "cell_type": "markdown",
   "metadata": {},
   "source": [
    "select a value comparing with the single variable data"
   ]
  },
  {
   "cell_type": "code",
   "execution_count": 67,
   "metadata": {},
   "outputs": [
    {
     "data": {
      "text/html": [
       "<div>\n",
       "<style>\n",
       "    .dataframe thead tr:only-child th {\n",
       "        text-align: right;\n",
       "    }\n",
       "\n",
       "    .dataframe thead th {\n",
       "        text-align: left;\n",
       "    }\n",
       "\n",
       "    .dataframe tbody tr th {\n",
       "        vertical-align: top;\n",
       "    }\n",
       "</style>\n",
       "<table border=\"1\" class=\"dataframe\">\n",
       "  <thead>\n",
       "    <tr style=\"text-align: right;\">\n",
       "      <th></th>\n",
       "      <th>A</th>\n",
       "      <th>B</th>\n",
       "      <th>C</th>\n",
       "      <th>D</th>\n",
       "    </tr>\n",
       "  </thead>\n",
       "  <tbody>\n",
       "    <tr>\n",
       "      <th>2017-12-08</th>\n",
       "      <td>-0.589836</td>\n",
       "      <td>-1.477910</td>\n",
       "      <td>-0.246581</td>\n",
       "      <td>1.495913</td>\n",
       "    </tr>\n",
       "    <tr>\n",
       "      <th>2017-12-10</th>\n",
       "      <td>-0.827291</td>\n",
       "      <td>0.305642</td>\n",
       "      <td>0.176794</td>\n",
       "      <td>-1.116974</td>\n",
       "    </tr>\n",
       "    <tr>\n",
       "      <th>2017-12-11</th>\n",
       "      <td>-0.102081</td>\n",
       "      <td>-0.240566</td>\n",
       "      <td>0.949629</td>\n",
       "      <td>0.708351</td>\n",
       "    </tr>\n",
       "  </tbody>\n",
       "</table>\n",
       "</div>"
      ],
      "text/plain": [
       "                   A         B         C         D\n",
       "2017-12-08 -0.589836 -1.477910 -0.246581  1.495913\n",
       "2017-12-10 -0.827291  0.305642  0.176794 -1.116974\n",
       "2017-12-11 -0.102081 -0.240566  0.949629  0.708351"
      ]
     },
     "execution_count": 67,
     "metadata": {},
     "output_type": "execute_result"
    }
   ],
   "source": [
    "df[df.A>-1]"
   ]
  },
  {
   "cell_type": "markdown",
   "metadata": {},
   "source": [
    "\n",
    "making all the values below zero not a number NaN;but why does it called where function"
   ]
  },
  {
   "cell_type": "code",
   "execution_count": 69,
   "metadata": {},
   "outputs": [
    {
     "data": {
      "text/html": [
       "<div>\n",
       "<style>\n",
       "    .dataframe thead tr:only-child th {\n",
       "        text-align: right;\n",
       "    }\n",
       "\n",
       "    .dataframe thead th {\n",
       "        text-align: left;\n",
       "    }\n",
       "\n",
       "    .dataframe tbody tr th {\n",
       "        vertical-align: top;\n",
       "    }\n",
       "</style>\n",
       "<table border=\"1\" class=\"dataframe\">\n",
       "  <thead>\n",
       "    <tr style=\"text-align: right;\">\n",
       "      <th></th>\n",
       "      <th>A</th>\n",
       "      <th>B</th>\n",
       "      <th>C</th>\n",
       "      <th>D</th>\n",
       "    </tr>\n",
       "  </thead>\n",
       "  <tbody>\n",
       "    <tr>\n",
       "      <th>2017-12-07</th>\n",
       "      <td>-1.590891</td>\n",
       "      <td>NaN</td>\n",
       "      <td>NaN</td>\n",
       "      <td>-0.782416</td>\n",
       "    </tr>\n",
       "    <tr>\n",
       "      <th>2017-12-08</th>\n",
       "      <td>-0.589836</td>\n",
       "      <td>-1.477910</td>\n",
       "      <td>-0.246581</td>\n",
       "      <td>NaN</td>\n",
       "    </tr>\n",
       "    <tr>\n",
       "      <th>2017-12-09</th>\n",
       "      <td>-1.531725</td>\n",
       "      <td>NaN</td>\n",
       "      <td>NaN</td>\n",
       "      <td>NaN</td>\n",
       "    </tr>\n",
       "    <tr>\n",
       "      <th>2017-12-10</th>\n",
       "      <td>-0.827291</td>\n",
       "      <td>NaN</td>\n",
       "      <td>NaN</td>\n",
       "      <td>-1.116974</td>\n",
       "    </tr>\n",
       "    <tr>\n",
       "      <th>2017-12-11</th>\n",
       "      <td>-0.102081</td>\n",
       "      <td>-0.240566</td>\n",
       "      <td>NaN</td>\n",
       "      <td>NaN</td>\n",
       "    </tr>\n",
       "    <tr>\n",
       "      <th>2017-12-12</th>\n",
       "      <td>-1.675654</td>\n",
       "      <td>NaN</td>\n",
       "      <td>-1.569903</td>\n",
       "      <td>NaN</td>\n",
       "    </tr>\n",
       "  </tbody>\n",
       "</table>\n",
       "</div>"
      ],
      "text/plain": [
       "                   A         B         C         D\n",
       "2017-12-07 -1.590891       NaN       NaN -0.782416\n",
       "2017-12-08 -0.589836 -1.477910 -0.246581       NaN\n",
       "2017-12-09 -1.531725       NaN       NaN       NaN\n",
       "2017-12-10 -0.827291       NaN       NaN -1.116974\n",
       "2017-12-11 -0.102081 -0.240566       NaN       NaN\n",
       "2017-12-12 -1.675654       NaN -1.569903       NaN"
      ]
     },
     "execution_count": 69,
     "metadata": {},
     "output_type": "execute_result"
    }
   ],
   "source": [
    "df[df<0]"
   ]
  },
  {
   "cell_type": "code",
   "execution_count": 70,
   "metadata": {
    "collapsed": true
   },
   "outputs": [],
   "source": [
    "df2 = df.copy()"
   ]
  },
  {
   "cell_type": "markdown",
   "metadata": {},
   "source": [
    "adding a new column to already existing columns"
   ]
  },
  {
   "cell_type": "code",
   "execution_count": 71,
   "metadata": {
    "collapsed": true
   },
   "outputs": [],
   "source": [
    "df2['E']=['one','two','three','four','five','two']"
   ]
  },
  {
   "cell_type": "code",
   "execution_count": 72,
   "metadata": {
    "scrolled": true
   },
   "outputs": [
    {
     "name": "stdout",
     "output_type": "stream",
     "text": [
      "                   A         B         C         D      E\n",
      "2017-12-07 -1.590891  0.470428  0.757403 -0.782416    one\n",
      "2017-12-08 -0.589836 -1.477910 -0.246581  1.495913    two\n",
      "2017-12-09 -1.531725  0.906206  0.680724  1.488736  three\n",
      "2017-12-10 -0.827291  0.305642  0.176794 -1.116974   four\n",
      "2017-12-11 -0.102081 -0.240566  0.949629  0.708351   five\n",
      "2017-12-12 -1.675654  0.410754 -1.569903  0.219077    two\n"
     ]
    }
   ],
   "source": [
    "print (df2)"
   ]
  },
  {
   "cell_type": "markdown",
   "metadata": {},
   "source": [
    "using isin function"
   ]
  },
  {
   "cell_type": "code",
   "execution_count": 73,
   "metadata": {},
   "outputs": [
    {
     "data": {
      "text/html": [
       "<div>\n",
       "<style>\n",
       "    .dataframe thead tr:only-child th {\n",
       "        text-align: right;\n",
       "    }\n",
       "\n",
       "    .dataframe thead th {\n",
       "        text-align: left;\n",
       "    }\n",
       "\n",
       "    .dataframe tbody tr th {\n",
       "        vertical-align: top;\n",
       "    }\n",
       "</style>\n",
       "<table border=\"1\" class=\"dataframe\">\n",
       "  <thead>\n",
       "    <tr style=\"text-align: right;\">\n",
       "      <th></th>\n",
       "      <th>A</th>\n",
       "      <th>B</th>\n",
       "      <th>C</th>\n",
       "      <th>D</th>\n",
       "      <th>E</th>\n",
       "    </tr>\n",
       "  </thead>\n",
       "  <tbody>\n",
       "    <tr>\n",
       "      <th>2017-12-07</th>\n",
       "      <td>-1.590891</td>\n",
       "      <td>0.470428</td>\n",
       "      <td>0.757403</td>\n",
       "      <td>-0.782416</td>\n",
       "      <td>one</td>\n",
       "    </tr>\n",
       "    <tr>\n",
       "      <th>2017-12-08</th>\n",
       "      <td>-0.589836</td>\n",
       "      <td>-1.477910</td>\n",
       "      <td>-0.246581</td>\n",
       "      <td>1.495913</td>\n",
       "      <td>two</td>\n",
       "    </tr>\n",
       "    <tr>\n",
       "      <th>2017-12-12</th>\n",
       "      <td>-1.675654</td>\n",
       "      <td>0.410754</td>\n",
       "      <td>-1.569903</td>\n",
       "      <td>0.219077</td>\n",
       "      <td>two</td>\n",
       "    </tr>\n",
       "  </tbody>\n",
       "</table>\n",
       "</div>"
      ],
      "text/plain": [
       "                   A         B         C         D    E\n",
       "2017-12-07 -1.590891  0.470428  0.757403 -0.782416  one\n",
       "2017-12-08 -0.589836 -1.477910 -0.246581  1.495913  two\n",
       "2017-12-12 -1.675654  0.410754 -1.569903  0.219077  two"
      ]
     },
     "execution_count": 73,
     "metadata": {},
     "output_type": "execute_result"
    }
   ],
   "source": [
    "df2[df2['E'].isin(['one','two'])]"
   ]
  },
  {
   "cell_type": "markdown",
   "metadata": {},
   "source": [
    "Let us add another column"
   ]
  },
  {
   "cell_type": "code",
   "execution_count": 74,
   "metadata": {},
   "outputs": [
    {
     "name": "stdout",
     "output_type": "stream",
     "text": [
      "2017-12-07   -1.463276\n",
      "2017-12-08    0.550015\n",
      "2017-12-09    0.531126\n",
      "2017-12-10    1.039805\n",
      "2017-12-11   -0.677960\n",
      "2017-12-12   -0.619496\n",
      "Freq: D, dtype: float64\n"
     ]
    }
   ],
   "source": [
    "sl = pd.Series(np.random.randn(6),index=pd.date_range('20171207',periods=6))\n",
    "print (sl)"
   ]
  },
  {
   "cell_type": "code",
   "execution_count": 75,
   "metadata": {
    "collapsed": true
   },
   "outputs": [],
   "source": [
    "df['F']=sl"
   ]
  },
  {
   "cell_type": "code",
   "execution_count": 76,
   "metadata": {},
   "outputs": [
    {
     "name": "stdout",
     "output_type": "stream",
     "text": [
      "                   A         B         C         D         F\n",
      "2017-12-07 -1.590891  0.470428  0.757403 -0.782416 -1.463276\n",
      "2017-12-08 -0.589836 -1.477910 -0.246581  1.495913  0.550015\n",
      "2017-12-09 -1.531725  0.906206  0.680724  1.488736  0.531126\n",
      "2017-12-10 -0.827291  0.305642  0.176794 -1.116974  1.039805\n",
      "2017-12-11 -0.102081 -0.240566  0.949629  0.708351 -0.677960\n",
      "2017-12-12 -1.675654  0.410754 -1.569903  0.219077 -0.619496\n"
     ]
    }
   ],
   "source": [
    "print (df)"
   ]
  },
  {
   "cell_type": "code",
   "execution_count": 77,
   "metadata": {
    "collapsed": true
   },
   "outputs": [],
   "source": [
    "#this is modifying by index\n",
    "\n",
    "df.at[dates[0],'A']= 0"
   ]
  },
  {
   "cell_type": "code",
   "execution_count": 79,
   "metadata": {},
   "outputs": [
    {
     "name": "stdout",
     "output_type": "stream",
     "text": [
      "                   A         B         C         D         F\n",
      "2017-12-07  0.000000  0.470428  0.757403 -0.782416 -1.463276\n",
      "2017-12-08 -0.589836 -1.477910 -0.246581  1.495913  0.550015\n",
      "2017-12-09 -1.531725  0.906206  0.680724  1.488736  0.531126\n",
      "2017-12-10 -0.827291  0.305642  0.176794 -1.116974  1.039805\n",
      "2017-12-11 -0.102081 -0.240566  0.949629  0.708351 -0.677960\n",
      "2017-12-12 -1.675654  0.410754 -1.569903  0.219077 -0.619496\n"
     ]
    }
   ],
   "source": [
    "print (df)"
   ]
  },
  {
   "cell_type": "markdown",
   "metadata": {},
   "source": [
    "This is how you drop columns or rows from a data frame"
   ]
  },
  {
   "cell_type": "code",
   "execution_count": 81,
   "metadata": {},
   "outputs": [
    {
     "data": {
      "text/html": [
       "<div>\n",
       "<style>\n",
       "    .dataframe thead tr:only-child th {\n",
       "        text-align: right;\n",
       "    }\n",
       "\n",
       "    .dataframe thead th {\n",
       "        text-align: left;\n",
       "    }\n",
       "\n",
       "    .dataframe tbody tr th {\n",
       "        vertical-align: top;\n",
       "    }\n",
       "</style>\n",
       "<table border=\"1\" class=\"dataframe\">\n",
       "  <thead>\n",
       "    <tr style=\"text-align: right;\">\n",
       "      <th></th>\n",
       "      <th>A</th>\n",
       "      <th>B</th>\n",
       "      <th>C</th>\n",
       "      <th>D</th>\n",
       "    </tr>\n",
       "  </thead>\n",
       "  <tbody>\n",
       "    <tr>\n",
       "      <th>2017-12-07</th>\n",
       "      <td>0.000000</td>\n",
       "      <td>0.470428</td>\n",
       "      <td>0.757403</td>\n",
       "      <td>-0.782416</td>\n",
       "    </tr>\n",
       "    <tr>\n",
       "      <th>2017-12-08</th>\n",
       "      <td>-0.589836</td>\n",
       "      <td>-1.477910</td>\n",
       "      <td>-0.246581</td>\n",
       "      <td>1.495913</td>\n",
       "    </tr>\n",
       "    <tr>\n",
       "      <th>2017-12-09</th>\n",
       "      <td>-1.531725</td>\n",
       "      <td>0.906206</td>\n",
       "      <td>0.680724</td>\n",
       "      <td>1.488736</td>\n",
       "    </tr>\n",
       "    <tr>\n",
       "      <th>2017-12-10</th>\n",
       "      <td>-0.827291</td>\n",
       "      <td>0.305642</td>\n",
       "      <td>0.176794</td>\n",
       "      <td>-1.116974</td>\n",
       "    </tr>\n",
       "    <tr>\n",
       "      <th>2017-12-11</th>\n",
       "      <td>-0.102081</td>\n",
       "      <td>-0.240566</td>\n",
       "      <td>0.949629</td>\n",
       "      <td>0.708351</td>\n",
       "    </tr>\n",
       "    <tr>\n",
       "      <th>2017-12-12</th>\n",
       "      <td>-1.675654</td>\n",
       "      <td>0.410754</td>\n",
       "      <td>-1.569903</td>\n",
       "      <td>0.219077</td>\n",
       "    </tr>\n",
       "  </tbody>\n",
       "</table>\n",
       "</div>"
      ],
      "text/plain": [
       "                   A         B         C         D\n",
       "2017-12-07  0.000000  0.470428  0.757403 -0.782416\n",
       "2017-12-08 -0.589836 -1.477910 -0.246581  1.495913\n",
       "2017-12-09 -1.531725  0.906206  0.680724  1.488736\n",
       "2017-12-10 -0.827291  0.305642  0.176794 -1.116974\n",
       "2017-12-11 -0.102081 -0.240566  0.949629  0.708351\n",
       "2017-12-12 -1.675654  0.410754 -1.569903  0.219077"
      ]
     },
     "execution_count": 81,
     "metadata": {},
     "output_type": "execute_result"
    }
   ],
   "source": [
    "df.drop(df.columns[4],axis=1)"
   ]
  },
  {
   "cell_type": "markdown",
   "metadata": {},
   "source": [
    "This is modifying a dataframe by using position"
   ]
  },
  {
   "cell_type": "code",
   "execution_count": 82,
   "metadata": {
    "collapsed": true
   },
   "outputs": [],
   "source": [
    "df.iat[0,1] = 0"
   ]
  },
  {
   "cell_type": "code",
   "execution_count": 83,
   "metadata": {},
   "outputs": [
    {
     "name": "stdout",
     "output_type": "stream",
     "text": [
      "                   A         B         C         D         F\n",
      "2017-12-07  0.000000  0.000000  0.757403 -0.782416 -1.463276\n",
      "2017-12-08 -0.589836 -1.477910 -0.246581  1.495913  0.550015\n",
      "2017-12-09 -1.531725  0.906206  0.680724  1.488736  0.531126\n",
      "2017-12-10 -0.827291  0.305642  0.176794 -1.116974  1.039805\n",
      "2017-12-11 -0.102081 -0.240566  0.949629  0.708351 -0.677960\n",
      "2017-12-12 -1.675654  0.410754 -1.569903  0.219077 -0.619496\n"
     ]
    }
   ],
   "source": [
    "print (df)"
   ]
  },
  {
   "cell_type": "code",
   "execution_count": 89,
   "metadata": {},
   "outputs": [
    {
     "data": {
      "text/html": [
       "<div>\n",
       "<style>\n",
       "    .dataframe thead tr:only-child th {\n",
       "        text-align: right;\n",
       "    }\n",
       "\n",
       "    .dataframe thead th {\n",
       "        text-align: left;\n",
       "    }\n",
       "\n",
       "    .dataframe tbody tr th {\n",
       "        vertical-align: top;\n",
       "    }\n",
       "</style>\n",
       "<table border=\"1\" class=\"dataframe\">\n",
       "  <thead>\n",
       "    <tr style=\"text-align: right;\">\n",
       "      <th></th>\n",
       "      <th>A</th>\n",
       "      <th>B</th>\n",
       "      <th>C</th>\n",
       "      <th>D</th>\n",
       "    </tr>\n",
       "  </thead>\n",
       "  <tbody>\n",
       "    <tr>\n",
       "      <th>2017-12-07</th>\n",
       "      <td>0.000000</td>\n",
       "      <td>0.000000</td>\n",
       "      <td>0.757403</td>\n",
       "      <td>-0.782416</td>\n",
       "    </tr>\n",
       "    <tr>\n",
       "      <th>2017-12-08</th>\n",
       "      <td>-0.589836</td>\n",
       "      <td>-1.477910</td>\n",
       "      <td>-0.246581</td>\n",
       "      <td>1.495913</td>\n",
       "    </tr>\n",
       "    <tr>\n",
       "      <th>2017-12-09</th>\n",
       "      <td>-1.531725</td>\n",
       "      <td>0.906206</td>\n",
       "      <td>0.680724</td>\n",
       "      <td>1.488736</td>\n",
       "    </tr>\n",
       "    <tr>\n",
       "      <th>2017-12-10</th>\n",
       "      <td>-0.827291</td>\n",
       "      <td>0.305642</td>\n",
       "      <td>0.176794</td>\n",
       "      <td>-1.116974</td>\n",
       "    </tr>\n",
       "    <tr>\n",
       "      <th>2017-12-11</th>\n",
       "      <td>-0.102081</td>\n",
       "      <td>-0.240566</td>\n",
       "      <td>0.949629</td>\n",
       "      <td>0.708351</td>\n",
       "    </tr>\n",
       "    <tr>\n",
       "      <th>2017-12-12</th>\n",
       "      <td>-1.675654</td>\n",
       "      <td>0.410754</td>\n",
       "      <td>-1.569903</td>\n",
       "      <td>0.219077</td>\n",
       "    </tr>\n",
       "  </tbody>\n",
       "</table>\n",
       "</div>"
      ],
      "text/plain": [
       "                   A         B         C         D\n",
       "2017-12-07  0.000000  0.000000  0.757403 -0.782416\n",
       "2017-12-08 -0.589836 -1.477910 -0.246581  1.495913\n",
       "2017-12-09 -1.531725  0.906206  0.680724  1.488736\n",
       "2017-12-10 -0.827291  0.305642  0.176794 -1.116974\n",
       "2017-12-11 -0.102081 -0.240566  0.949629  0.708351\n",
       "2017-12-12 -1.675654  0.410754 -1.569903  0.219077"
      ]
     },
     "execution_count": 89,
     "metadata": {},
     "output_type": "execute_result"
    }
   ],
   "source": [
    "# Dropping a column.We need to use inplace hyper parameter to drop the column inplace.\n",
    "\n",
    "df.drop(df.columns[4],axis=1)"
   ]
  },
  {
   "cell_type": "code",
   "execution_count": 90,
   "metadata": {},
   "outputs": [
    {
     "name": "stdout",
     "output_type": "stream",
     "text": [
      "                   A         B         C         D         F\n",
      "2017-12-07  0.000000  0.000000  0.757403 -0.782416 -1.463276\n",
      "2017-12-08 -0.589836 -1.477910 -0.246581  1.495913  0.550015\n",
      "2017-12-09 -1.531725  0.906206  0.680724  1.488736  0.531126\n",
      "2017-12-10 -0.827291  0.305642  0.176794 -1.116974  1.039805\n",
      "2017-12-11 -0.102081 -0.240566  0.949629  0.708351 -0.677960\n",
      "2017-12-12 -1.675654  0.410754 -1.569903  0.219077 -0.619496\n"
     ]
    }
   ],
   "source": [
    "print (df)"
   ]
  },
  {
   "cell_type": "code",
   "execution_count": 91,
   "metadata": {
    "collapsed": true
   },
   "outputs": [],
   "source": [
    "df2 = df.copy()"
   ]
  },
  {
   "cell_type": "code",
   "execution_count": 203,
   "metadata": {},
   "outputs": [
    {
     "data": {
      "text/html": [
       "<div>\n",
       "<style>\n",
       "    .dataframe thead tr:only-child th {\n",
       "        text-align: right;\n",
       "    }\n",
       "\n",
       "    .dataframe thead th {\n",
       "        text-align: left;\n",
       "    }\n",
       "\n",
       "    .dataframe tbody tr th {\n",
       "        vertical-align: top;\n",
       "    }\n",
       "</style>\n",
       "<table border=\"1\" class=\"dataframe\">\n",
       "  <thead>\n",
       "    <tr style=\"text-align: right;\">\n",
       "      <th></th>\n",
       "      <th>A</th>\n",
       "      <th>B</th>\n",
       "      <th>C</th>\n",
       "      <th>D</th>\n",
       "      <th>F</th>\n",
       "      <th>(2017-12-07 00:00:00, A)</th>\n",
       "    </tr>\n",
       "  </thead>\n",
       "  <tbody>\n",
       "    <tr>\n",
       "      <th>2017-12-07</th>\n",
       "      <td>0.000000</td>\n",
       "      <td>0.000000</td>\n",
       "      <td>-1.422195</td>\n",
       "      <td>0.137432</td>\n",
       "      <td>-0.204341</td>\n",
       "      <td>0</td>\n",
       "    </tr>\n",
       "    <tr>\n",
       "      <th>2017-12-08</th>\n",
       "      <td>1.140735</td>\n",
       "      <td>0.285535</td>\n",
       "      <td>0.779562</td>\n",
       "      <td>1.413234</td>\n",
       "      <td>-0.239184</td>\n",
       "      <td>0</td>\n",
       "    </tr>\n",
       "    <tr>\n",
       "      <th>2017-12-09</th>\n",
       "      <td>-0.237926</td>\n",
       "      <td>0.905504</td>\n",
       "      <td>0.216921</td>\n",
       "      <td>-0.463655</td>\n",
       "      <td>0.836868</td>\n",
       "      <td>0</td>\n",
       "    </tr>\n",
       "    <tr>\n",
       "      <th>2017-12-10</th>\n",
       "      <td>-1.289273</td>\n",
       "      <td>0.641844</td>\n",
       "      <td>0.006236</td>\n",
       "      <td>-1.171816</td>\n",
       "      <td>-0.778998</td>\n",
       "      <td>0</td>\n",
       "    </tr>\n",
       "    <tr>\n",
       "      <th>2017-12-11</th>\n",
       "      <td>0.089711</td>\n",
       "      <td>0.880766</td>\n",
       "      <td>0.298425</td>\n",
       "      <td>0.553579</td>\n",
       "      <td>-0.443587</td>\n",
       "      <td>0</td>\n",
       "    </tr>\n",
       "    <tr>\n",
       "      <th>2017-12-12</th>\n",
       "      <td>0.455151</td>\n",
       "      <td>-1.062723</td>\n",
       "      <td>1.446142</td>\n",
       "      <td>0.248972</td>\n",
       "      <td>0.357825</td>\n",
       "      <td>0</td>\n",
       "    </tr>\n",
       "  </tbody>\n",
       "</table>\n",
       "</div>"
      ],
      "text/plain": [
       "                   A         B         C         D         F  \\\n",
       "2017-12-07  0.000000  0.000000 -1.422195  0.137432 -0.204341   \n",
       "2017-12-08  1.140735  0.285535  0.779562  1.413234 -0.239184   \n",
       "2017-12-09 -0.237926  0.905504  0.216921 -0.463655  0.836868   \n",
       "2017-12-10 -1.289273  0.641844  0.006236 -1.171816 -0.778998   \n",
       "2017-12-11  0.089711  0.880766  0.298425  0.553579 -0.443587   \n",
       "2017-12-12  0.455151 -1.062723  1.446142  0.248972  0.357825   \n",
       "\n",
       "            (2017-12-07 00:00:00, A)  \n",
       "2017-12-07                         0  \n",
       "2017-12-08                         0  \n",
       "2017-12-09                         0  \n",
       "2017-12-10                         0  \n",
       "2017-12-11                         0  \n",
       "2017-12-12                         0  "
      ]
     },
     "execution_count": 203,
     "metadata": {},
     "output_type": "execute_result"
    }
   ],
   "source": [
    "df2"
   ]
  },
  {
   "cell_type": "code",
   "execution_count": 92,
   "metadata": {},
   "outputs": [
    {
     "name": "stdout",
     "output_type": "stream",
     "text": [
      "                   A         B         C         D\n",
      "2017-12-07  0.000000  0.000000  0.757403 -0.782416\n",
      "2017-12-08 -0.589836 -1.477910 -0.246581  1.495913\n",
      "2017-12-09 -1.531725  0.906206  0.680724  1.488736\n",
      "2017-12-10 -0.827291  0.305642  0.176794 -1.116974\n",
      "2017-12-11 -0.102081 -0.240566  0.949629  0.708351\n",
      "2017-12-12 -1.675654  0.410754 -1.569903  0.219077\n"
     ]
    }
   ],
   "source": [
    "df2 = df2.drop(df.columns[4],axis=1)\n",
    "print (df2)"
   ]
  },
  {
   "cell_type": "code",
   "execution_count": 93,
   "metadata": {
    "collapsed": true
   },
   "outputs": [],
   "source": [
    "dates = pd.date_range('20170712',periods=6)"
   ]
  },
  {
   "cell_type": "code",
   "execution_count": 94,
   "metadata": {
    "scrolled": true
   },
   "outputs": [
    {
     "name": "stdout",
     "output_type": "stream",
     "text": [
      "                   A         B         C         D\n",
      "2017-07-12 -0.549142  1.243369 -0.609412  1.577952\n",
      "2017-07-13  0.525374  1.712230 -0.719859  0.606434\n",
      "2017-07-14  0.672185 -0.609259  0.719651  1.466960\n",
      "2017-07-15 -1.693815  0.474479  0.298744 -0.841066\n",
      "2017-07-16 -0.852702 -1.668808  0.951331  1.543137\n",
      "2017-07-17 -0.991764  1.024736  1.381660  0.933204\n"
     ]
    }
   ],
   "source": [
    "df = pd.DataFrame(np.random.randn(6,4),index=dates,columns=list('ABCD'))\n",
    "print (df)"
   ]
  },
  {
   "cell_type": "markdown",
   "metadata": {},
   "source": [
    "assigning a value to a data point when the point is located with its index"
   ]
  },
  {
   "cell_type": "code",
   "execution_count": 95,
   "metadata": {
    "collapsed": true
   },
   "outputs": [],
   "source": [
    "df.at[dates[0],'A'] = 0"
   ]
  },
  {
   "cell_type": "markdown",
   "metadata": {},
   "source": [
    "Replacing duplicate value aganist existing value whose position is located by position"
   ]
  },
  {
   "cell_type": "code",
   "execution_count": 96,
   "metadata": {
    "collapsed": true
   },
   "outputs": [],
   "source": [
    "df.iat[0,1] = 0"
   ]
  },
  {
   "cell_type": "markdown",
   "metadata": {},
   "source": [
    "Replacing a column using arrays"
   ]
  },
  {
   "cell_type": "code",
   "execution_count": 97,
   "metadata": {
    "collapsed": true
   },
   "outputs": [],
   "source": [
    "df.loc[:,'D']=np.array([3]*len(df))"
   ]
  },
  {
   "cell_type": "code",
   "execution_count": 98,
   "metadata": {},
   "outputs": [
    {
     "name": "stdout",
     "output_type": "stream",
     "text": [
      "                   A         B         C  D\n",
      "2017-07-12  0.000000  0.000000 -0.609412  3\n",
      "2017-07-13  0.525374  1.712230 -0.719859  3\n",
      "2017-07-14  0.672185 -0.609259  0.719651  3\n",
      "2017-07-15 -1.693815  0.474479  0.298744  3\n",
      "2017-07-16 -0.852702 -1.668808  0.951331  3\n",
      "2017-07-17 -0.991764  1.024736  1.381660  3\n"
     ]
    }
   ],
   "source": [
    "print (df)"
   ]
  },
  {
   "cell_type": "code",
   "execution_count": 99,
   "metadata": {},
   "outputs": [
    {
     "name": "stdout",
     "output_type": "stream",
     "text": [
      "                   A         B         C  D\n",
      "2017-07-12  0.000000  0.000000 -0.609412  4\n",
      "2017-07-13  0.525374  1.712230 -0.719859  4\n",
      "2017-07-14  0.672185 -0.609259  0.719651  4\n",
      "2017-07-15 -1.693815  0.474479  0.298744  4\n",
      "2017-07-16 -0.852702 -1.668808  0.951331  4\n",
      "2017-07-17 -0.991764  1.024736  1.381660  4\n"
     ]
    }
   ],
   "source": [
    "df.iloc[:,3:] = np.array([4]*len(df))\n",
    "print (df)"
   ]
  },
  {
   "cell_type": "code",
   "execution_count": 100,
   "metadata": {
    "collapsed": true
   },
   "outputs": [],
   "source": [
    "df2 = df.copy()"
   ]
  },
  {
   "cell_type": "code",
   "execution_count": 101,
   "metadata": {
    "collapsed": true
   },
   "outputs": [],
   "source": [
    "df2[df2>0] = -df2"
   ]
  },
  {
   "cell_type": "code",
   "execution_count": 102,
   "metadata": {
    "scrolled": true
   },
   "outputs": [
    {
     "name": "stdout",
     "output_type": "stream",
     "text": [
      "                   A         B         C  D\n",
      "2017-07-12  0.000000  0.000000 -0.609412 -4\n",
      "2017-07-13 -0.525374 -1.712230 -0.719859 -4\n",
      "2017-07-14 -0.672185 -0.609259 -0.719651 -4\n",
      "2017-07-15 -1.693815 -0.474479 -0.298744 -4\n",
      "2017-07-16 -0.852702 -1.668808 -0.951331 -4\n",
      "2017-07-17 -0.991764 -1.024736 -1.381660 -4\n"
     ]
    }
   ],
   "source": [
    "print (df2)"
   ]
  },
  {
   "cell_type": "code",
   "execution_count": 103,
   "metadata": {
    "collapsed": true
   },
   "outputs": [],
   "source": [
    "df2['E'] = ['anil','dharni','kumar','patel','anil','kumar']"
   ]
  },
  {
   "cell_type": "code",
   "execution_count": 104,
   "metadata": {},
   "outputs": [
    {
     "name": "stdout",
     "output_type": "stream",
     "text": [
      "                   A         B         C  D       E\n",
      "2017-07-12  0.000000  0.000000 -0.609412 -4    anil\n",
      "2017-07-13 -0.525374 -1.712230 -0.719859 -4  dharni\n",
      "2017-07-14 -0.672185 -0.609259 -0.719651 -4   kumar\n",
      "2017-07-15 -1.693815 -0.474479 -0.298744 -4   patel\n",
      "2017-07-16 -0.852702 -1.668808 -0.951331 -4    anil\n",
      "2017-07-17 -0.991764 -1.024736 -1.381660 -4   kumar\n"
     ]
    }
   ],
   "source": [
    "print (df2)"
   ]
  },
  {
   "cell_type": "code",
   "execution_count": 105,
   "metadata": {
    "collapsed": true
   },
   "outputs": [],
   "source": [
    "df['E'] = ['anil','dharni','kumar','patel','anil','kumar']"
   ]
  },
  {
   "cell_type": "code",
   "execution_count": 107,
   "metadata": {},
   "outputs": [
    {
     "name": "stdout",
     "output_type": "stream",
     "text": [
      "                   A         B         C  D       E\n",
      "2017-07-12  0.000000  0.000000 -0.609412  4    anil\n",
      "2017-07-13  0.525374  1.712230 -0.719859  4  dharni\n",
      "2017-07-14  0.672185 -0.609259  0.719651  4   kumar\n",
      "2017-07-15 -1.693815  0.474479  0.298744  4   patel\n",
      "2017-07-16 -0.852702 -1.668808  0.951331  4    anil\n",
      "2017-07-17 -0.991764  1.024736  1.381660  4   kumar\n"
     ]
    }
   ],
   "source": [
    "print (df)"
   ]
  },
  {
   "cell_type": "markdown",
   "metadata": {},
   "source": [
    "##### Reindexing"
   ]
  },
  {
   "cell_type": "code",
   "execution_count": 108,
   "metadata": {},
   "outputs": [
    {
     "name": "stdout",
     "output_type": "stream",
     "text": [
      "                   A         B         C  D       E       E\n",
      "2017-07-12  0.000000  0.000000 -0.609412  4    anil    anil\n",
      "2017-07-13  0.525374  1.712230 -0.719859  4  dharni  dharni\n",
      "2017-07-14  0.672185 -0.609259  0.719651  4   kumar   kumar\n",
      "2017-07-15 -1.693815  0.474479  0.298744  4   patel   patel\n"
     ]
    }
   ],
   "source": [
    "df1 = df.reindex(index=dates[0:4],columns=list(df.columns)+['E'])\n",
    "print (df1)"
   ]
  },
  {
   "cell_type": "code",
   "execution_count": 109,
   "metadata": {
    "collapsed": true
   },
   "outputs": [],
   "source": [
    "df1.loc[dates[0]:dates[1],'E'] = 1"
   ]
  },
  {
   "cell_type": "code",
   "execution_count": 269,
   "metadata": {
    "collapsed": true
   },
   "outputs": [],
   "source": [
    "df1.iloc[[2,3],[4,5]] = np.nan"
   ]
  },
  {
   "cell_type": "code",
   "execution_count": 270,
   "metadata": {},
   "outputs": [
    {
     "data": {
      "text/html": [
       "<div>\n",
       "<style>\n",
       "    .dataframe thead tr:only-child th {\n",
       "        text-align: right;\n",
       "    }\n",
       "\n",
       "    .dataframe thead th {\n",
       "        text-align: left;\n",
       "    }\n",
       "\n",
       "    .dataframe tbody tr th {\n",
       "        vertical-align: top;\n",
       "    }\n",
       "</style>\n",
       "<table border=\"1\" class=\"dataframe\">\n",
       "  <thead>\n",
       "    <tr style=\"text-align: right;\">\n",
       "      <th></th>\n",
       "      <th>A</th>\n",
       "      <th>B</th>\n",
       "      <th>C</th>\n",
       "      <th>D</th>\n",
       "      <th>E</th>\n",
       "      <th>E</th>\n",
       "    </tr>\n",
       "  </thead>\n",
       "  <tbody>\n",
       "    <tr>\n",
       "      <th>2017-07-12</th>\n",
       "      <td>0.000000</td>\n",
       "      <td>0.000000</td>\n",
       "      <td>1.899583</td>\n",
       "      <td>4</td>\n",
       "      <td>1</td>\n",
       "      <td>1</td>\n",
       "    </tr>\n",
       "    <tr>\n",
       "      <th>2017-07-13</th>\n",
       "      <td>-0.030820</td>\n",
       "      <td>-0.608745</td>\n",
       "      <td>0.556991</td>\n",
       "      <td>4</td>\n",
       "      <td>1</td>\n",
       "      <td>1</td>\n",
       "    </tr>\n",
       "    <tr>\n",
       "      <th>2017-07-14</th>\n",
       "      <td>0.387270</td>\n",
       "      <td>0.237818</td>\n",
       "      <td>-1.249950</td>\n",
       "      <td>4</td>\n",
       "      <td>NaN</td>\n",
       "      <td>NaN</td>\n",
       "    </tr>\n",
       "    <tr>\n",
       "      <th>2017-07-15</th>\n",
       "      <td>0.357507</td>\n",
       "      <td>0.303881</td>\n",
       "      <td>1.445231</td>\n",
       "      <td>4</td>\n",
       "      <td>NaN</td>\n",
       "      <td>NaN</td>\n",
       "    </tr>\n",
       "  </tbody>\n",
       "</table>\n",
       "</div>"
      ],
      "text/plain": [
       "                   A         B         C  D    E    E\n",
       "2017-07-12  0.000000  0.000000  1.899583  4    1    1\n",
       "2017-07-13 -0.030820 -0.608745  0.556991  4    1    1\n",
       "2017-07-14  0.387270  0.237818 -1.249950  4  NaN  NaN\n",
       "2017-07-15  0.357507  0.303881  1.445231  4  NaN  NaN"
      ]
     },
     "execution_count": 270,
     "metadata": {},
     "output_type": "execute_result"
    }
   ],
   "source": [
    "df1"
   ]
  },
  {
   "cell_type": "markdown",
   "metadata": {},
   "source": [
    "Why this same command is not working and it is throwing error"
   ]
  },
  {
   "cell_type": "code",
   "execution_count": 278,
   "metadata": {
    "collapsed": true
   },
   "outputs": [],
   "source": [
    "df1.iloc[[2,3],[4,5]] = np.nan"
   ]
  },
  {
   "cell_type": "markdown",
   "metadata": {},
   "source": [
    "This dropna command is used to drop the values that are not a number(NaN)"
   ]
  },
  {
   "cell_type": "code",
   "execution_count": 112,
   "metadata": {},
   "outputs": [
    {
     "data": {
      "text/html": [
       "<div>\n",
       "<style>\n",
       "    .dataframe thead tr:only-child th {\n",
       "        text-align: right;\n",
       "    }\n",
       "\n",
       "    .dataframe thead th {\n",
       "        text-align: left;\n",
       "    }\n",
       "\n",
       "    .dataframe tbody tr th {\n",
       "        vertical-align: top;\n",
       "    }\n",
       "</style>\n",
       "<table border=\"1\" class=\"dataframe\">\n",
       "  <thead>\n",
       "    <tr style=\"text-align: right;\">\n",
       "      <th></th>\n",
       "      <th>A</th>\n",
       "      <th>B</th>\n",
       "      <th>C</th>\n",
       "      <th>D</th>\n",
       "      <th>E</th>\n",
       "      <th>E</th>\n",
       "    </tr>\n",
       "  </thead>\n",
       "  <tbody>\n",
       "    <tr>\n",
       "      <th>2017-07-12</th>\n",
       "      <td>0.000000</td>\n",
       "      <td>0.000000</td>\n",
       "      <td>-0.609412</td>\n",
       "      <td>4</td>\n",
       "      <td>1</td>\n",
       "      <td>1</td>\n",
       "    </tr>\n",
       "    <tr>\n",
       "      <th>2017-07-13</th>\n",
       "      <td>0.525374</td>\n",
       "      <td>1.712230</td>\n",
       "      <td>-0.719859</td>\n",
       "      <td>4</td>\n",
       "      <td>1</td>\n",
       "      <td>1</td>\n",
       "    </tr>\n",
       "    <tr>\n",
       "      <th>2017-07-14</th>\n",
       "      <td>0.672185</td>\n",
       "      <td>-0.609259</td>\n",
       "      <td>0.719651</td>\n",
       "      <td>4</td>\n",
       "      <td>kumar</td>\n",
       "      <td>kumar</td>\n",
       "    </tr>\n",
       "    <tr>\n",
       "      <th>2017-07-15</th>\n",
       "      <td>-1.693815</td>\n",
       "      <td>0.474479</td>\n",
       "      <td>0.298744</td>\n",
       "      <td>4</td>\n",
       "      <td>patel</td>\n",
       "      <td>patel</td>\n",
       "    </tr>\n",
       "  </tbody>\n",
       "</table>\n",
       "</div>"
      ],
      "text/plain": [
       "                   A         B         C  D      E      E\n",
       "2017-07-12  0.000000  0.000000 -0.609412  4      1      1\n",
       "2017-07-13  0.525374  1.712230 -0.719859  4      1      1\n",
       "2017-07-14  0.672185 -0.609259  0.719651  4  kumar  kumar\n",
       "2017-07-15 -1.693815  0.474479  0.298744  4  patel  patel"
      ]
     },
     "execution_count": 112,
     "metadata": {},
     "output_type": "execute_result"
    }
   ],
   "source": [
    "df1.dropna(how='any')"
   ]
  },
  {
   "cell_type": "code",
   "execution_count": 113,
   "metadata": {},
   "outputs": [
    {
     "data": {
      "text/html": [
       "<div>\n",
       "<style>\n",
       "    .dataframe thead tr:only-child th {\n",
       "        text-align: right;\n",
       "    }\n",
       "\n",
       "    .dataframe thead th {\n",
       "        text-align: left;\n",
       "    }\n",
       "\n",
       "    .dataframe tbody tr th {\n",
       "        vertical-align: top;\n",
       "    }\n",
       "</style>\n",
       "<table border=\"1\" class=\"dataframe\">\n",
       "  <thead>\n",
       "    <tr style=\"text-align: right;\">\n",
       "      <th></th>\n",
       "      <th>A</th>\n",
       "      <th>B</th>\n",
       "      <th>C</th>\n",
       "      <th>D</th>\n",
       "      <th>E</th>\n",
       "      <th>E</th>\n",
       "    </tr>\n",
       "  </thead>\n",
       "  <tbody>\n",
       "    <tr>\n",
       "      <th>2017-07-12</th>\n",
       "      <td>0.000000</td>\n",
       "      <td>0.000000</td>\n",
       "      <td>-0.609412</td>\n",
       "      <td>4</td>\n",
       "      <td>1</td>\n",
       "      <td>1</td>\n",
       "    </tr>\n",
       "    <tr>\n",
       "      <th>2017-07-13</th>\n",
       "      <td>0.525374</td>\n",
       "      <td>1.712230</td>\n",
       "      <td>-0.719859</td>\n",
       "      <td>4</td>\n",
       "      <td>1</td>\n",
       "      <td>1</td>\n",
       "    </tr>\n",
       "    <tr>\n",
       "      <th>2017-07-14</th>\n",
       "      <td>0.672185</td>\n",
       "      <td>-0.609259</td>\n",
       "      <td>0.719651</td>\n",
       "      <td>4</td>\n",
       "      <td>kumar</td>\n",
       "      <td>kumar</td>\n",
       "    </tr>\n",
       "    <tr>\n",
       "      <th>2017-07-15</th>\n",
       "      <td>-1.693815</td>\n",
       "      <td>0.474479</td>\n",
       "      <td>0.298744</td>\n",
       "      <td>4</td>\n",
       "      <td>patel</td>\n",
       "      <td>patel</td>\n",
       "    </tr>\n",
       "  </tbody>\n",
       "</table>\n",
       "</div>"
      ],
      "text/plain": [
       "                   A         B         C  D      E      E\n",
       "2017-07-12  0.000000  0.000000 -0.609412  4      1      1\n",
       "2017-07-13  0.525374  1.712230 -0.719859  4      1      1\n",
       "2017-07-14  0.672185 -0.609259  0.719651  4  kumar  kumar\n",
       "2017-07-15 -1.693815  0.474479  0.298744  4  patel  patel"
      ]
     },
     "execution_count": 113,
     "metadata": {},
     "output_type": "execute_result"
    }
   ],
   "source": [
    "#this is to specify values in the place of NaN\n",
    "df1.fillna(value=3)"
   ]
  },
  {
   "cell_type": "code",
   "execution_count": 114,
   "metadata": {},
   "outputs": [
    {
     "data": {
      "text/html": [
       "<div>\n",
       "<style>\n",
       "    .dataframe thead tr:only-child th {\n",
       "        text-align: right;\n",
       "    }\n",
       "\n",
       "    .dataframe thead th {\n",
       "        text-align: left;\n",
       "    }\n",
       "\n",
       "    .dataframe tbody tr th {\n",
       "        vertical-align: top;\n",
       "    }\n",
       "</style>\n",
       "<table border=\"1\" class=\"dataframe\">\n",
       "  <thead>\n",
       "    <tr style=\"text-align: right;\">\n",
       "      <th></th>\n",
       "      <th>A</th>\n",
       "      <th>B</th>\n",
       "      <th>C</th>\n",
       "      <th>D</th>\n",
       "      <th>E</th>\n",
       "      <th>E</th>\n",
       "    </tr>\n",
       "  </thead>\n",
       "  <tbody>\n",
       "    <tr>\n",
       "      <th>2017-07-12</th>\n",
       "      <td>False</td>\n",
       "      <td>False</td>\n",
       "      <td>False</td>\n",
       "      <td>False</td>\n",
       "      <td>False</td>\n",
       "      <td>False</td>\n",
       "    </tr>\n",
       "    <tr>\n",
       "      <th>2017-07-13</th>\n",
       "      <td>False</td>\n",
       "      <td>False</td>\n",
       "      <td>False</td>\n",
       "      <td>False</td>\n",
       "      <td>False</td>\n",
       "      <td>False</td>\n",
       "    </tr>\n",
       "    <tr>\n",
       "      <th>2017-07-14</th>\n",
       "      <td>False</td>\n",
       "      <td>False</td>\n",
       "      <td>False</td>\n",
       "      <td>False</td>\n",
       "      <td>False</td>\n",
       "      <td>False</td>\n",
       "    </tr>\n",
       "    <tr>\n",
       "      <th>2017-07-15</th>\n",
       "      <td>False</td>\n",
       "      <td>False</td>\n",
       "      <td>False</td>\n",
       "      <td>False</td>\n",
       "      <td>False</td>\n",
       "      <td>False</td>\n",
       "    </tr>\n",
       "  </tbody>\n",
       "</table>\n",
       "</div>"
      ],
      "text/plain": [
       "                A      B      C      D      E      E\n",
       "2017-07-12  False  False  False  False  False  False\n",
       "2017-07-13  False  False  False  False  False  False\n",
       "2017-07-14  False  False  False  False  False  False\n",
       "2017-07-15  False  False  False  False  False  False"
      ]
     },
     "execution_count": 114,
     "metadata": {},
     "output_type": "execute_result"
    }
   ],
   "source": [
    "#this gives boolean response where there is NaN\n",
    "pd.isnull(df1)"
   ]
  },
  {
   "cell_type": "code",
   "execution_count": 115,
   "metadata": {},
   "outputs": [
    {
     "data": {
      "text/plain": [
       "A   -0.390120\n",
       "B    0.155563\n",
       "C    0.337019\n",
       "D    4.000000\n",
       "dtype: float64"
      ]
     },
     "execution_count": 115,
     "metadata": {},
     "output_type": "execute_result"
    }
   ],
   "source": [
    "#calculating mean\n",
    "df.mean()\n",
    "\n",
    "#performances in general skip missing data and calculate mean"
   ]
  },
  {
   "cell_type": "code",
   "execution_count": 116,
   "metadata": {},
   "outputs": [
    {
     "data": {
      "text/plain": [
       "2017-07-12    0.847647\n",
       "2017-07-13    1.379436\n",
       "2017-07-14    1.195644\n",
       "2017-07-15    0.769852\n",
       "2017-07-16    0.607455\n",
       "2017-07-17    1.353658\n",
       "Freq: D, dtype: float64"
      ]
     },
     "execution_count": 116,
     "metadata": {},
     "output_type": "execute_result"
    }
   ],
   "source": [
    "#calculating mean on different axis\n",
    "df.mean(1)"
   ]
  },
  {
   "cell_type": "code",
   "execution_count": 117,
   "metadata": {
    "collapsed": true
   },
   "outputs": [],
   "source": [
    "s=pd.Series([1,3,np.nan,np.nan,6,7],index=dates)"
   ]
  },
  {
   "cell_type": "code",
   "execution_count": 131,
   "metadata": {
    "scrolled": true
   },
   "outputs": [
    {
     "name": "stdout",
     "output_type": "stream",
     "text": [
      "2017-07-12    1.0\n",
      "2017-07-13    3.0\n",
      "2017-07-14    NaN\n",
      "2017-07-15    NaN\n",
      "2017-07-16    6.0\n",
      "2017-07-17    7.0\n",
      "Freq: D, dtype: float64\n"
     ]
    }
   ],
   "source": [
    "print (s)"
   ]
  },
  {
   "cell_type": "code",
   "execution_count": 132,
   "metadata": {},
   "outputs": [
    {
     "data": {
      "text/html": [
       "<div>\n",
       "<style>\n",
       "    .dataframe thead tr:only-child th {\n",
       "        text-align: right;\n",
       "    }\n",
       "\n",
       "    .dataframe thead th {\n",
       "        text-align: left;\n",
       "    }\n",
       "\n",
       "    .dataframe tbody tr th {\n",
       "        vertical-align: top;\n",
       "    }\n",
       "</style>\n",
       "<table border=\"1\" class=\"dataframe\">\n",
       "  <thead>\n",
       "    <tr style=\"text-align: right;\">\n",
       "      <th></th>\n",
       "      <th>A</th>\n",
       "      <th>B</th>\n",
       "      <th>C</th>\n",
       "      <th>D</th>\n",
       "      <th>E</th>\n",
       "      <th>s</th>\n",
       "    </tr>\n",
       "  </thead>\n",
       "  <tbody>\n",
       "    <tr>\n",
       "      <th>2017-07-12</th>\n",
       "      <td>0.000000</td>\n",
       "      <td>0.000000</td>\n",
       "      <td>-0.609412</td>\n",
       "      <td>4</td>\n",
       "      <td>anil</td>\n",
       "      <td>1.0</td>\n",
       "    </tr>\n",
       "    <tr>\n",
       "      <th>2017-07-13</th>\n",
       "      <td>0.525374</td>\n",
       "      <td>1.712230</td>\n",
       "      <td>-0.719859</td>\n",
       "      <td>4</td>\n",
       "      <td>dharni</td>\n",
       "      <td>3.0</td>\n",
       "    </tr>\n",
       "    <tr>\n",
       "      <th>2017-07-14</th>\n",
       "      <td>0.672185</td>\n",
       "      <td>-0.609259</td>\n",
       "      <td>0.719651</td>\n",
       "      <td>4</td>\n",
       "      <td>kumar</td>\n",
       "      <td>1.0</td>\n",
       "    </tr>\n",
       "    <tr>\n",
       "      <th>2017-07-15</th>\n",
       "      <td>-1.693815</td>\n",
       "      <td>0.474479</td>\n",
       "      <td>0.298744</td>\n",
       "      <td>4</td>\n",
       "      <td>patel</td>\n",
       "      <td>1.0</td>\n",
       "    </tr>\n",
       "    <tr>\n",
       "      <th>2017-07-16</th>\n",
       "      <td>-0.852702</td>\n",
       "      <td>-1.668808</td>\n",
       "      <td>0.951331</td>\n",
       "      <td>4</td>\n",
       "      <td>anil</td>\n",
       "      <td>6.0</td>\n",
       "    </tr>\n",
       "    <tr>\n",
       "      <th>2017-07-17</th>\n",
       "      <td>-0.991764</td>\n",
       "      <td>1.024736</td>\n",
       "      <td>1.381660</td>\n",
       "      <td>4</td>\n",
       "      <td>kumar</td>\n",
       "      <td>7.0</td>\n",
       "    </tr>\n",
       "  </tbody>\n",
       "</table>\n",
       "</div>"
      ],
      "text/plain": [
       "                   A         B         C  D       E    s\n",
       "2017-07-12  0.000000  0.000000 -0.609412  4    anil  1.0\n",
       "2017-07-13  0.525374  1.712230 -0.719859  4  dharni  3.0\n",
       "2017-07-14  0.672185 -0.609259  0.719651  4   kumar  1.0\n",
       "2017-07-15 -1.693815  0.474479  0.298744  4   patel  1.0\n",
       "2017-07-16 -0.852702 -1.668808  0.951331  4    anil  6.0\n",
       "2017-07-17 -0.991764  1.024736  1.381660  4   kumar  7.0"
      ]
     },
     "execution_count": 132,
     "metadata": {},
     "output_type": "execute_result"
    }
   ],
   "source": [
    "df"
   ]
  }
 ],
 "metadata": {
  "kernelspec": {
   "display_name": "Python 3",
   "language": "python",
   "name": "python3"
  },
  "language_info": {
   "codemirror_mode": {
    "name": "ipython",
    "version": 3
   },
   "file_extension": ".py",
   "mimetype": "text/x-python",
   "name": "python",
   "nbconvert_exporter": "python",
   "pygments_lexer": "ipython3",
   "version": "3.6.1"
  }
 },
 "nbformat": 4,
 "nbformat_minor": 2
}
