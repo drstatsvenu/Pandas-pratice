{
 "cells": [
  {
   "cell_type": "code",
   "execution_count": 1,
   "metadata": {
    "collapsed": true
   },
   "outputs": [],
   "source": [
    "import pandas as pd\n",
    "import numpy as np\n",
    "import matplotlib.pyplot as plt"
   ]
  },
  {
   "cell_type": "code",
   "execution_count": 2,
   "metadata": {
    "collapsed": true
   },
   "outputs": [],
   "source": [
    "s = pd.Series(np.random.randint(15,size=6),index = pd.date_range('20170713',periods=6))"
   ]
  },
  {
   "cell_type": "code",
   "execution_count": 3,
   "metadata": {},
   "outputs": [
    {
     "name": "stdout",
     "output_type": "stream",
     "text": [
      "2017-07-13     4\n",
      "2017-07-14     2\n",
      "2017-07-15    12\n",
      "2017-07-16    14\n",
      "2017-07-17     9\n",
      "2017-07-18     9\n",
      "Freq: D, dtype: int32\n"
     ]
    }
   ],
   "source": [
    "print (s)"
   ]
  },
  {
   "cell_type": "code",
   "execution_count": 4,
   "metadata": {
    "collapsed": true
   },
   "outputs": [],
   "source": [
    "dates = pd.date_range('20170713',periods=6)"
   ]
  },
  {
   "cell_type": "code",
   "execution_count": 5,
   "metadata": {
    "collapsed": true
   },
   "outputs": [],
   "source": [
    "df = pd.DataFrame(np.random.randn(6,4),index=dates,columns=list('ABCD'))"
   ]
  },
  {
   "cell_type": "code",
   "execution_count": 6,
   "metadata": {},
   "outputs": [
    {
     "name": "stdout",
     "output_type": "stream",
     "text": [
      "                   A         B         C         D\n",
      "2017-07-13 -0.201024  0.503978 -1.528797  0.372185\n",
      "2017-07-14 -0.427708  0.857172  0.481444 -0.015625\n",
      "2017-07-15  0.218183 -0.691890  0.047436 -0.021226\n",
      "2017-07-16 -0.801753  1.227229  0.773836 -1.690700\n",
      "2017-07-17  1.378359  0.182635 -0.843381 -0.256698\n",
      "2017-07-18 -1.224131 -1.008986  0.714805  0.603524\n"
     ]
    }
   ],
   "source": [
    "print (df)"
   ]
  },
  {
   "cell_type": "code",
   "execution_count": 7,
   "metadata": {},
   "outputs": [
    {
     "data": {
      "text/html": [
       "<div>\n",
       "<style>\n",
       "    .dataframe thead tr:only-child th {\n",
       "        text-align: right;\n",
       "    }\n",
       "\n",
       "    .dataframe thead th {\n",
       "        text-align: left;\n",
       "    }\n",
       "\n",
       "    .dataframe tbody tr th {\n",
       "        vertical-align: top;\n",
       "    }\n",
       "</style>\n",
       "<table border=\"1\" class=\"dataframe\">\n",
       "  <thead>\n",
       "    <tr style=\"text-align: right;\">\n",
       "      <th></th>\n",
       "      <th>A</th>\n",
       "      <th>B</th>\n",
       "      <th>C</th>\n",
       "      <th>D</th>\n",
       "    </tr>\n",
       "  </thead>\n",
       "  <tbody>\n",
       "    <tr>\n",
       "      <th>2017-07-13</th>\n",
       "      <td>-4.201024</td>\n",
       "      <td>-3.496022</td>\n",
       "      <td>-5.528797</td>\n",
       "      <td>-3.627815</td>\n",
       "    </tr>\n",
       "    <tr>\n",
       "      <th>2017-07-14</th>\n",
       "      <td>-2.427708</td>\n",
       "      <td>-1.142828</td>\n",
       "      <td>-1.518556</td>\n",
       "      <td>-2.015625</td>\n",
       "    </tr>\n",
       "    <tr>\n",
       "      <th>2017-07-15</th>\n",
       "      <td>-11.781817</td>\n",
       "      <td>-12.691890</td>\n",
       "      <td>-11.952564</td>\n",
       "      <td>-12.021226</td>\n",
       "    </tr>\n",
       "    <tr>\n",
       "      <th>2017-07-16</th>\n",
       "      <td>-14.801753</td>\n",
       "      <td>-12.772771</td>\n",
       "      <td>-13.226164</td>\n",
       "      <td>-15.690700</td>\n",
       "    </tr>\n",
       "    <tr>\n",
       "      <th>2017-07-17</th>\n",
       "      <td>-7.621641</td>\n",
       "      <td>-8.817365</td>\n",
       "      <td>-9.843381</td>\n",
       "      <td>-9.256698</td>\n",
       "    </tr>\n",
       "    <tr>\n",
       "      <th>2017-07-18</th>\n",
       "      <td>-10.224131</td>\n",
       "      <td>-10.008986</td>\n",
       "      <td>-8.285195</td>\n",
       "      <td>-8.396476</td>\n",
       "    </tr>\n",
       "  </tbody>\n",
       "</table>\n",
       "</div>"
      ],
      "text/plain": [
       "                    A          B          C          D\n",
       "2017-07-13  -4.201024  -3.496022  -5.528797  -3.627815\n",
       "2017-07-14  -2.427708  -1.142828  -1.518556  -2.015625\n",
       "2017-07-15 -11.781817 -12.691890 -11.952564 -12.021226\n",
       "2017-07-16 -14.801753 -12.772771 -13.226164 -15.690700\n",
       "2017-07-17  -7.621641  -8.817365  -9.843381  -9.256698\n",
       "2017-07-18 -10.224131 -10.008986  -8.285195  -8.396476"
      ]
     },
     "execution_count": 7,
     "metadata": {},
     "output_type": "execute_result"
    }
   ],
   "source": [
    "#subtract function; what this does is df-s\n",
    "df.sub(s,axis='index')"
   ]
  },
  {
   "cell_type": "code",
   "execution_count": 8,
   "metadata": {},
   "outputs": [
    {
     "data": {
      "text/html": [
       "<div>\n",
       "<style>\n",
       "    .dataframe thead tr:only-child th {\n",
       "        text-align: right;\n",
       "    }\n",
       "\n",
       "    .dataframe thead th {\n",
       "        text-align: left;\n",
       "    }\n",
       "\n",
       "    .dataframe tbody tr th {\n",
       "        vertical-align: top;\n",
       "    }\n",
       "</style>\n",
       "<table border=\"1\" class=\"dataframe\">\n",
       "  <thead>\n",
       "    <tr style=\"text-align: right;\">\n",
       "      <th></th>\n",
       "      <th>A</th>\n",
       "      <th>B</th>\n",
       "      <th>C</th>\n",
       "      <th>D</th>\n",
       "    </tr>\n",
       "  </thead>\n",
       "  <tbody>\n",
       "    <tr>\n",
       "      <th>2017-07-13</th>\n",
       "      <td>-0.201024</td>\n",
       "      <td>0.503978</td>\n",
       "      <td>-1.528797</td>\n",
       "      <td>0.372185</td>\n",
       "    </tr>\n",
       "    <tr>\n",
       "      <th>2017-07-14</th>\n",
       "      <td>-0.628732</td>\n",
       "      <td>1.361150</td>\n",
       "      <td>-1.047353</td>\n",
       "      <td>0.356560</td>\n",
       "    </tr>\n",
       "    <tr>\n",
       "      <th>2017-07-15</th>\n",
       "      <td>-0.410549</td>\n",
       "      <td>0.669260</td>\n",
       "      <td>-0.999917</td>\n",
       "      <td>0.335334</td>\n",
       "    </tr>\n",
       "    <tr>\n",
       "      <th>2017-07-16</th>\n",
       "      <td>-1.212302</td>\n",
       "      <td>1.896489</td>\n",
       "      <td>-0.226081</td>\n",
       "      <td>-1.355367</td>\n",
       "    </tr>\n",
       "    <tr>\n",
       "      <th>2017-07-17</th>\n",
       "      <td>0.166057</td>\n",
       "      <td>2.079123</td>\n",
       "      <td>-1.069463</td>\n",
       "      <td>-1.612065</td>\n",
       "    </tr>\n",
       "    <tr>\n",
       "      <th>2017-07-18</th>\n",
       "      <td>-1.058074</td>\n",
       "      <td>1.070137</td>\n",
       "      <td>-0.354657</td>\n",
       "      <td>-1.008541</td>\n",
       "    </tr>\n",
       "  </tbody>\n",
       "</table>\n",
       "</div>"
      ],
      "text/plain": [
       "                   A         B         C         D\n",
       "2017-07-13 -0.201024  0.503978 -1.528797  0.372185\n",
       "2017-07-14 -0.628732  1.361150 -1.047353  0.356560\n",
       "2017-07-15 -0.410549  0.669260 -0.999917  0.335334\n",
       "2017-07-16 -1.212302  1.896489 -0.226081 -1.355367\n",
       "2017-07-17  0.166057  2.079123 -1.069463 -1.612065\n",
       "2017-07-18 -1.058074  1.070137 -0.354657 -1.008541"
      ]
     },
     "execution_count": 8,
     "metadata": {},
     "output_type": "execute_result"
    }
   ],
   "source": [
    "#it performs cumulative sum\n",
    "df.apply(np.cumsum)"
   ]
  },
  {
   "cell_type": "code",
   "execution_count": 9,
   "metadata": {},
   "outputs": [
    {
     "data": {
      "text/plain": [
       "A    2.602490\n",
       "B    2.236215\n",
       "C    2.302633\n",
       "D    2.294225\n",
       "dtype: float64"
      ]
     },
     "execution_count": 9,
     "metadata": {},
     "output_type": "execute_result"
    }
   ],
   "source": [
    "#this performs action of lambda on original df but not the df that we got from earlier cumsum operation\n",
    "#dont get confused seeing the earlier table\n",
    "df.apply(lambda x: x.max() - x.min())"
   ]
  },
  {
   "cell_type": "code",
   "execution_count": 10,
   "metadata": {},
   "outputs": [
    {
     "name": "stdout",
     "output_type": "stream",
     "text": [
      "2017-07-13   -0.201024\n",
      "2017-07-14   -0.427708\n",
      "2017-07-15    0.218183\n",
      "2017-07-16   -0.801753\n",
      "2017-07-17    1.378359\n",
      "2017-07-18   -1.224131\n",
      "Freq: D, Name: A, dtype: float64\n"
     ]
    }
   ],
   "source": [
    "a = df.A\n",
    "print (a)"
   ]
  },
  {
   "cell_type": "code",
   "execution_count": 11,
   "metadata": {},
   "outputs": [
    {
     "data": {
      "text/plain": [
       "1.3783585481789189"
      ]
     },
     "execution_count": 11,
     "metadata": {},
     "output_type": "execute_result"
    }
   ],
   "source": [
    "a.max()"
   ]
  },
  {
   "cell_type": "code",
   "execution_count": 12,
   "metadata": {},
   "outputs": [
    {
     "name": "stdout",
     "output_type": "stream",
     "text": [
      "0    11\n",
      "1     6\n",
      "2     0\n",
      "3    11\n",
      "4     6\n",
      "5     7\n",
      "6     4\n",
      "7     0\n",
      "8     5\n",
      "9     2\n",
      "dtype: int32\n"
     ]
    }
   ],
   "source": [
    "#generate a random number sequence between 0,12 with indexes of 10\n",
    "s = pd.Series(np.random.randint(0,12,size=10),index=np.arange(10))\n",
    "print (s)"
   ]
  },
  {
   "cell_type": "code",
   "execution_count": 13,
   "metadata": {},
   "outputs": [
    {
     "data": {
      "text/plain": [
       "11    2\n",
       "6     2\n",
       "0     2\n",
       "7     1\n",
       "5     1\n",
       "4     1\n",
       "2     1\n",
       "dtype: int64"
      ]
     },
     "execution_count": 13,
     "metadata": {},
     "output_type": "execute_result"
    }
   ],
   "source": [
    "#this command returns the frequency of a number with index\n",
    "s.value_counts()"
   ]
  },
  {
   "cell_type": "code",
   "execution_count": 14,
   "metadata": {
    "collapsed": true
   },
   "outputs": [],
   "source": [
    "s = pd.Series(['A','B','C','AaBa','Anil',np.nan,'1','AsajnAS'])"
   ]
  },
  {
   "cell_type": "code",
   "execution_count": 15,
   "metadata": {},
   "outputs": [
    {
     "data": {
      "text/plain": [
       "0          A\n",
       "1          B\n",
       "2          C\n",
       "3       AaBa\n",
       "4       Anil\n",
       "5        NaN\n",
       "6          1\n",
       "7    AsajnAS\n",
       "dtype: object"
      ]
     },
     "execution_count": 15,
     "metadata": {},
     "output_type": "execute_result"
    }
   ],
   "source": [
    "s"
   ]
  },
  {
   "cell_type": "code",
   "execution_count": 16,
   "metadata": {},
   "outputs": [
    {
     "data": {
      "text/plain": [
       "(0          a\n",
       " 1          b\n",
       " 2          c\n",
       " 3       aaba\n",
       " 4       anil\n",
       " 5        NaN\n",
       " 6          1\n",
       " 7    asajnas\n",
       " dtype: object, 0          A\n",
       " 1          B\n",
       " 2          C\n",
       " 3       AABA\n",
       " 4       ANIL\n",
       " 5        NaN\n",
       " 6          1\n",
       " 7    ASAJNAS\n",
       " dtype: object)"
      ]
     },
     "execution_count": 16,
     "metadata": {},
     "output_type": "execute_result"
    }
   ],
   "source": [
    "#str.lower() command will make a data in a series lower case and similarly upper case\n",
    "s.str.lower(), s.str.upper()"
   ]
  },
  {
   "cell_type": "code",
   "execution_count": 17,
   "metadata": {
    "collapsed": true
   },
   "outputs": [],
   "source": [
    "df = pd.DataFrame(np.random.randn(6,4),index=np.arange(6),columns=list('ABCD'))"
   ]
  },
  {
   "cell_type": "code",
   "execution_count": 18,
   "metadata": {},
   "outputs": [
    {
     "name": "stdout",
     "output_type": "stream",
     "text": [
      "          A         B         C         D\n",
      "0 -0.573229 -1.267383 -1.843842  1.236586\n",
      "1  0.413711 -0.617577  1.055890 -0.342563\n",
      "2  0.846230 -0.533284 -0.888380  0.483136\n",
      "3 -0.363555 -0.288799  2.128022 -1.396216\n",
      "4  1.679186 -1.889989  0.367053 -0.549270\n",
      "5  0.693046 -0.369908  0.872102  0.151599\n"
     ]
    }
   ],
   "source": [
    "print (df)"
   ]
  },
  {
   "cell_type": "code",
   "execution_count": 19,
   "metadata": {
    "collapsed": true
   },
   "outputs": [],
   "source": [
    "#we are dividing the above dataframe into pieces\n",
    "pieces = df[:2],df[2:4],df[5:]"
   ]
  },
  {
   "cell_type": "code",
   "execution_count": 20,
   "metadata": {},
   "outputs": [
    {
     "data": {
      "text/html": [
       "<div>\n",
       "<style>\n",
       "    .dataframe thead tr:only-child th {\n",
       "        text-align: right;\n",
       "    }\n",
       "\n",
       "    .dataframe thead th {\n",
       "        text-align: left;\n",
       "    }\n",
       "\n",
       "    .dataframe tbody tr th {\n",
       "        vertical-align: top;\n",
       "    }\n",
       "</style>\n",
       "<table border=\"1\" class=\"dataframe\">\n",
       "  <thead>\n",
       "    <tr style=\"text-align: right;\">\n",
       "      <th></th>\n",
       "      <th>A</th>\n",
       "      <th>B</th>\n",
       "      <th>C</th>\n",
       "      <th>D</th>\n",
       "    </tr>\n",
       "  </thead>\n",
       "  <tbody>\n",
       "    <tr>\n",
       "      <th>0</th>\n",
       "      <td>-0.573229</td>\n",
       "      <td>-1.267383</td>\n",
       "      <td>-1.843842</td>\n",
       "      <td>1.236586</td>\n",
       "    </tr>\n",
       "    <tr>\n",
       "      <th>1</th>\n",
       "      <td>0.413711</td>\n",
       "      <td>-0.617577</td>\n",
       "      <td>1.055890</td>\n",
       "      <td>-0.342563</td>\n",
       "    </tr>\n",
       "    <tr>\n",
       "      <th>2</th>\n",
       "      <td>0.846230</td>\n",
       "      <td>-0.533284</td>\n",
       "      <td>-0.888380</td>\n",
       "      <td>0.483136</td>\n",
       "    </tr>\n",
       "    <tr>\n",
       "      <th>3</th>\n",
       "      <td>-0.363555</td>\n",
       "      <td>-0.288799</td>\n",
       "      <td>2.128022</td>\n",
       "      <td>-1.396216</td>\n",
       "    </tr>\n",
       "    <tr>\n",
       "      <th>5</th>\n",
       "      <td>0.693046</td>\n",
       "      <td>-0.369908</td>\n",
       "      <td>0.872102</td>\n",
       "      <td>0.151599</td>\n",
       "    </tr>\n",
       "  </tbody>\n",
       "</table>\n",
       "</div>"
      ],
      "text/plain": [
       "          A         B         C         D\n",
       "0 -0.573229 -1.267383 -1.843842  1.236586\n",
       "1  0.413711 -0.617577  1.055890 -0.342563\n",
       "2  0.846230 -0.533284 -0.888380  0.483136\n",
       "3 -0.363555 -0.288799  2.128022 -1.396216\n",
       "5  0.693046 -0.369908  0.872102  0.151599"
      ]
     },
     "execution_count": 20,
     "metadata": {},
     "output_type": "execute_result"
    }
   ],
   "source": [
    "#by using concat command we are finally concatenating the data we have\n",
    "pd.concat(pieces)"
   ]
  },
  {
   "cell_type": "code",
   "execution_count": 21,
   "metadata": {
    "collapsed": true
   },
   "outputs": [],
   "source": [
    "left = pd.Series([1,3,'A','a',4])\n",
    "right = pd.Series(np.arange(5),index=[0,1,2,3,4])"
   ]
  },
  {
   "cell_type": "code",
   "execution_count": 22,
   "metadata": {},
   "outputs": [
    {
     "data": {
      "text/plain": [
       "(0    1\n",
       " 1    3\n",
       " 2    A\n",
       " 3    a\n",
       " 4    4\n",
       " dtype: object, 0    0\n",
       " 1    1\n",
       " 2    2\n",
       " 3    3\n",
       " 4    4\n",
       " dtype: int32)"
      ]
     },
     "execution_count": 22,
     "metadata": {},
     "output_type": "execute_result"
    }
   ],
   "source": [
    "left,right"
   ]
  },
  {
   "cell_type": "code",
   "execution_count": 23,
   "metadata": {},
   "outputs": [
    {
     "ename": "ValueError",
     "evalue": "can not merge DataFrame with instance of type <class 'pandas.core.series.Series'>",
     "output_type": "error",
     "traceback": [
      "\u001b[1;31m---------------------------------------------------------------------------\u001b[0m",
      "\u001b[1;31mValueError\u001b[0m                                Traceback (most recent call last)",
      "\u001b[1;32m<ipython-input-23-fad79549e986>\u001b[0m in \u001b[0;36m<module>\u001b[1;34m()\u001b[0m\n\u001b[0;32m      1\u001b[0m \u001b[1;31m#note that merge is not working when ther is a list in the series\u001b[0m\u001b[1;33m\u001b[0m\u001b[1;33m\u001b[0m\u001b[0m\n\u001b[1;32m----> 2\u001b[1;33m \u001b[0mpd\u001b[0m\u001b[1;33m.\u001b[0m\u001b[0mmerge\u001b[0m\u001b[1;33m(\u001b[0m\u001b[0mleft\u001b[0m\u001b[1;33m,\u001b[0m\u001b[0mright\u001b[0m\u001b[1;33m,\u001b[0m\u001b[0mon\u001b[0m\u001b[1;33m=\u001b[0m\u001b[1;34m'key'\u001b[0m\u001b[1;33m)\u001b[0m\u001b[1;33m\u001b[0m\u001b[0m\n\u001b[0m",
      "\u001b[1;32mC:\\Users\\user\\anaconda_new\\lib\\site-packages\\pandas\\core\\reshape\\merge.py\u001b[0m in \u001b[0;36mmerge\u001b[1;34m(left, right, how, on, left_on, right_on, left_index, right_index, sort, suffixes, copy, indicator)\u001b[0m\n\u001b[0;32m     51\u001b[0m                          \u001b[0mright_on\u001b[0m\u001b[1;33m=\u001b[0m\u001b[0mright_on\u001b[0m\u001b[1;33m,\u001b[0m \u001b[0mleft_index\u001b[0m\u001b[1;33m=\u001b[0m\u001b[0mleft_index\u001b[0m\u001b[1;33m,\u001b[0m\u001b[1;33m\u001b[0m\u001b[0m\n\u001b[0;32m     52\u001b[0m                          \u001b[0mright_index\u001b[0m\u001b[1;33m=\u001b[0m\u001b[0mright_index\u001b[0m\u001b[1;33m,\u001b[0m \u001b[0msort\u001b[0m\u001b[1;33m=\u001b[0m\u001b[0msort\u001b[0m\u001b[1;33m,\u001b[0m \u001b[0msuffixes\u001b[0m\u001b[1;33m=\u001b[0m\u001b[0msuffixes\u001b[0m\u001b[1;33m,\u001b[0m\u001b[1;33m\u001b[0m\u001b[0m\n\u001b[1;32m---> 53\u001b[1;33m                          copy=copy, indicator=indicator)\n\u001b[0m\u001b[0;32m     54\u001b[0m     \u001b[1;32mreturn\u001b[0m \u001b[0mop\u001b[0m\u001b[1;33m.\u001b[0m\u001b[0mget_result\u001b[0m\u001b[1;33m(\u001b[0m\u001b[1;33m)\u001b[0m\u001b[1;33m\u001b[0m\u001b[0m\n\u001b[0;32m     55\u001b[0m \u001b[1;33m\u001b[0m\u001b[0m\n",
      "\u001b[1;32mC:\\Users\\user\\anaconda_new\\lib\\site-packages\\pandas\\core\\reshape\\merge.py\u001b[0m in \u001b[0;36m__init__\u001b[1;34m(self, left, right, how, on, left_on, right_on, axis, left_index, right_index, sort, suffixes, copy, indicator)\u001b[0m\n\u001b[0;32m    529\u001b[0m             raise ValueError(\n\u001b[0;32m    530\u001b[0m                 \u001b[1;34m'can not merge DataFrame with instance of '\u001b[0m\u001b[1;33m\u001b[0m\u001b[0m\n\u001b[1;32m--> 531\u001b[1;33m                 'type {0}'.format(type(left)))\n\u001b[0m\u001b[0;32m    532\u001b[0m         \u001b[1;32mif\u001b[0m \u001b[1;32mnot\u001b[0m \u001b[0misinstance\u001b[0m\u001b[1;33m(\u001b[0m\u001b[0mright\u001b[0m\u001b[1;33m,\u001b[0m \u001b[0mDataFrame\u001b[0m\u001b[1;33m)\u001b[0m\u001b[1;33m:\u001b[0m\u001b[1;33m\u001b[0m\u001b[0m\n\u001b[0;32m    533\u001b[0m             raise ValueError(\n",
      "\u001b[1;31mValueError\u001b[0m: can not merge DataFrame with instance of type <class 'pandas.core.series.Series'>"
     ]
    }
   ],
   "source": [
    "#note that merge is not working when ther is a list in the series\n",
    "pd.merge(left,right,on='key')"
   ]
  },
  {
   "cell_type": "code",
   "execution_count": 24,
   "metadata": {
    "collapsed": true
   },
   "outputs": [],
   "source": [
    "left = pd.Series({'A':['anil','dharni'],'B':['kumar','sangakarra']})\n",
    "right = pd.Series({'C':['ELON','MUSK'],'D':['IS','LEGEND']})"
   ]
  },
  {
   "cell_type": "code",
   "execution_count": 25,
   "metadata": {},
   "outputs": [
    {
     "data": {
      "text/plain": [
       "A         [anil, dharni]\n",
       "B    [kumar, sangakarra]\n",
       "dtype: object"
      ]
     },
     "execution_count": 25,
     "metadata": {},
     "output_type": "execute_result"
    }
   ],
   "source": [
    "left"
   ]
  },
  {
   "cell_type": "code",
   "execution_count": 26,
   "metadata": {},
   "outputs": [
    {
     "data": {
      "text/plain": [
       "C    [ELON, MUSK]\n",
       "D    [IS, LEGEND]\n",
       "dtype: object"
      ]
     },
     "execution_count": 26,
     "metadata": {},
     "output_type": "execute_result"
    }
   ],
   "source": [
    "right"
   ]
  },
  {
   "cell_type": "code",
   "execution_count": 27,
   "metadata": {},
   "outputs": [
    {
     "ename": "ValueError",
     "evalue": "can not merge DataFrame with instance of type <class 'pandas.core.series.Series'>",
     "output_type": "error",
     "traceback": [
      "\u001b[1;31m---------------------------------------------------------------------------\u001b[0m",
      "\u001b[1;31mValueError\u001b[0m                                Traceback (most recent call last)",
      "\u001b[1;32m<ipython-input-27-0e69db5eb9a4>\u001b[0m in \u001b[0;36m<module>\u001b[1;34m()\u001b[0m\n\u001b[1;32m----> 1\u001b[1;33m \u001b[0mpd\u001b[0m\u001b[1;33m.\u001b[0m\u001b[0mmerge\u001b[0m\u001b[1;33m(\u001b[0m\u001b[0mleft\u001b[0m\u001b[1;33m,\u001b[0m\u001b[0mright\u001b[0m\u001b[1;33m,\u001b[0m\u001b[0mon\u001b[0m\u001b[1;33m=\u001b[0m\u001b[1;34m'key'\u001b[0m\u001b[1;33m)\u001b[0m\u001b[1;33m\u001b[0m\u001b[0m\n\u001b[0m",
      "\u001b[1;32mC:\\Users\\user\\anaconda_new\\lib\\site-packages\\pandas\\core\\reshape\\merge.py\u001b[0m in \u001b[0;36mmerge\u001b[1;34m(left, right, how, on, left_on, right_on, left_index, right_index, sort, suffixes, copy, indicator)\u001b[0m\n\u001b[0;32m     51\u001b[0m                          \u001b[0mright_on\u001b[0m\u001b[1;33m=\u001b[0m\u001b[0mright_on\u001b[0m\u001b[1;33m,\u001b[0m \u001b[0mleft_index\u001b[0m\u001b[1;33m=\u001b[0m\u001b[0mleft_index\u001b[0m\u001b[1;33m,\u001b[0m\u001b[1;33m\u001b[0m\u001b[0m\n\u001b[0;32m     52\u001b[0m                          \u001b[0mright_index\u001b[0m\u001b[1;33m=\u001b[0m\u001b[0mright_index\u001b[0m\u001b[1;33m,\u001b[0m \u001b[0msort\u001b[0m\u001b[1;33m=\u001b[0m\u001b[0msort\u001b[0m\u001b[1;33m,\u001b[0m \u001b[0msuffixes\u001b[0m\u001b[1;33m=\u001b[0m\u001b[0msuffixes\u001b[0m\u001b[1;33m,\u001b[0m\u001b[1;33m\u001b[0m\u001b[0m\n\u001b[1;32m---> 53\u001b[1;33m                          copy=copy, indicator=indicator)\n\u001b[0m\u001b[0;32m     54\u001b[0m     \u001b[1;32mreturn\u001b[0m \u001b[0mop\u001b[0m\u001b[1;33m.\u001b[0m\u001b[0mget_result\u001b[0m\u001b[1;33m(\u001b[0m\u001b[1;33m)\u001b[0m\u001b[1;33m\u001b[0m\u001b[0m\n\u001b[0;32m     55\u001b[0m \u001b[1;33m\u001b[0m\u001b[0m\n",
      "\u001b[1;32mC:\\Users\\user\\anaconda_new\\lib\\site-packages\\pandas\\core\\reshape\\merge.py\u001b[0m in \u001b[0;36m__init__\u001b[1;34m(self, left, right, how, on, left_on, right_on, axis, left_index, right_index, sort, suffixes, copy, indicator)\u001b[0m\n\u001b[0;32m    529\u001b[0m             raise ValueError(\n\u001b[0;32m    530\u001b[0m                 \u001b[1;34m'can not merge DataFrame with instance of '\u001b[0m\u001b[1;33m\u001b[0m\u001b[0m\n\u001b[1;32m--> 531\u001b[1;33m                 'type {0}'.format(type(left)))\n\u001b[0m\u001b[0;32m    532\u001b[0m         \u001b[1;32mif\u001b[0m \u001b[1;32mnot\u001b[0m \u001b[0misinstance\u001b[0m\u001b[1;33m(\u001b[0m\u001b[0mright\u001b[0m\u001b[1;33m,\u001b[0m \u001b[0mDataFrame\u001b[0m\u001b[1;33m)\u001b[0m\u001b[1;33m:\u001b[0m\u001b[1;33m\u001b[0m\u001b[0m\n\u001b[0;32m    533\u001b[0m             raise ValueError(\n",
      "\u001b[1;31mValueError\u001b[0m: can not merge DataFrame with instance of type <class 'pandas.core.series.Series'>"
     ]
    }
   ],
   "source": [
    "pd.merge(left,right,on='key')"
   ]
  },
  {
   "cell_type": "code",
   "execution_count": null,
   "metadata": {
    "collapsed": true
   },
   "outputs": [],
   "source": [
    "#the error shown above is that I am trying to merge two series but it is not possible because \n",
    "#merge only works for dataframes"
   ]
  },
  {
   "cell_type": "code",
   "execution_count": 30,
   "metadata": {
    "collapsed": true
   },
   "outputs": [],
   "source": [
    "left = pd.DataFrame({'1':['a','b'],'A':['anil','dharni'],'B':['kumar','sangakarra']})\n",
    "right = pd.DataFrame({'1':['a','b'],'C':['ELON','MUSK'],'D':['IS','LEGEND']})"
   ]
  },
  {
   "cell_type": "code",
   "execution_count": 31,
   "metadata": {},
   "outputs": [
    {
     "data": {
      "text/html": [
       "<div>\n",
       "<style>\n",
       "    .dataframe thead tr:only-child th {\n",
       "        text-align: right;\n",
       "    }\n",
       "\n",
       "    .dataframe thead th {\n",
       "        text-align: left;\n",
       "    }\n",
       "\n",
       "    .dataframe tbody tr th {\n",
       "        vertical-align: top;\n",
       "    }\n",
       "</style>\n",
       "<table border=\"1\" class=\"dataframe\">\n",
       "  <thead>\n",
       "    <tr style=\"text-align: right;\">\n",
       "      <th></th>\n",
       "      <th>1</th>\n",
       "      <th>A</th>\n",
       "      <th>B</th>\n",
       "    </tr>\n",
       "  </thead>\n",
       "  <tbody>\n",
       "    <tr>\n",
       "      <th>0</th>\n",
       "      <td>a</td>\n",
       "      <td>anil</td>\n",
       "      <td>kumar</td>\n",
       "    </tr>\n",
       "    <tr>\n",
       "      <th>1</th>\n",
       "      <td>b</td>\n",
       "      <td>dharni</td>\n",
       "      <td>sangakarra</td>\n",
       "    </tr>\n",
       "  </tbody>\n",
       "</table>\n",
       "</div>"
      ],
      "text/plain": [
       "   1       A           B\n",
       "0  a    anil       kumar\n",
       "1  b  dharni  sangakarra"
      ]
     },
     "execution_count": 31,
     "metadata": {},
     "output_type": "execute_result"
    }
   ],
   "source": [
    "left"
   ]
  },
  {
   "cell_type": "code",
   "execution_count": 32,
   "metadata": {},
   "outputs": [
    {
     "data": {
      "text/html": [
       "<div>\n",
       "<style>\n",
       "    .dataframe thead tr:only-child th {\n",
       "        text-align: right;\n",
       "    }\n",
       "\n",
       "    .dataframe thead th {\n",
       "        text-align: left;\n",
       "    }\n",
       "\n",
       "    .dataframe tbody tr th {\n",
       "        vertical-align: top;\n",
       "    }\n",
       "</style>\n",
       "<table border=\"1\" class=\"dataframe\">\n",
       "  <thead>\n",
       "    <tr style=\"text-align: right;\">\n",
       "      <th></th>\n",
       "      <th>1</th>\n",
       "      <th>C</th>\n",
       "      <th>D</th>\n",
       "    </tr>\n",
       "  </thead>\n",
       "  <tbody>\n",
       "    <tr>\n",
       "      <th>0</th>\n",
       "      <td>a</td>\n",
       "      <td>ELON</td>\n",
       "      <td>IS</td>\n",
       "    </tr>\n",
       "    <tr>\n",
       "      <th>1</th>\n",
       "      <td>b</td>\n",
       "      <td>MUSK</td>\n",
       "      <td>LEGEND</td>\n",
       "    </tr>\n",
       "  </tbody>\n",
       "</table>\n",
       "</div>"
      ],
      "text/plain": [
       "   1     C       D\n",
       "0  a  ELON      IS\n",
       "1  b  MUSK  LEGEND"
      ]
     },
     "execution_count": 32,
     "metadata": {},
     "output_type": "execute_result"
    }
   ],
   "source": [
    "right"
   ]
  },
  {
   "cell_type": "code",
   "execution_count": 33,
   "metadata": {
    "scrolled": true
   },
   "outputs": [
    {
     "data": {
      "text/html": [
       "<div>\n",
       "<style>\n",
       "    .dataframe thead tr:only-child th {\n",
       "        text-align: right;\n",
       "    }\n",
       "\n",
       "    .dataframe thead th {\n",
       "        text-align: left;\n",
       "    }\n",
       "\n",
       "    .dataframe tbody tr th {\n",
       "        vertical-align: top;\n",
       "    }\n",
       "</style>\n",
       "<table border=\"1\" class=\"dataframe\">\n",
       "  <thead>\n",
       "    <tr style=\"text-align: right;\">\n",
       "      <th></th>\n",
       "      <th>1</th>\n",
       "      <th>A</th>\n",
       "      <th>B</th>\n",
       "      <th>C</th>\n",
       "      <th>D</th>\n",
       "    </tr>\n",
       "  </thead>\n",
       "  <tbody>\n",
       "    <tr>\n",
       "      <th>0</th>\n",
       "      <td>a</td>\n",
       "      <td>anil</td>\n",
       "      <td>kumar</td>\n",
       "      <td>ELON</td>\n",
       "      <td>IS</td>\n",
       "    </tr>\n",
       "    <tr>\n",
       "      <th>1</th>\n",
       "      <td>b</td>\n",
       "      <td>dharni</td>\n",
       "      <td>sangakarra</td>\n",
       "      <td>MUSK</td>\n",
       "      <td>LEGEND</td>\n",
       "    </tr>\n",
       "  </tbody>\n",
       "</table>\n",
       "</div>"
      ],
      "text/plain": [
       "   1       A           B     C       D\n",
       "0  a    anil       kumar  ELON      IS\n",
       "1  b  dharni  sangakarra  MUSK  LEGEND"
      ]
     },
     "execution_count": 33,
     "metadata": {},
     "output_type": "execute_result"
    }
   ],
   "source": [
    "#there should be a common column to perfrom merge on\n",
    "pd.merge(left,right)"
   ]
  },
  {
   "cell_type": "code",
   "execution_count": 34,
   "metadata": {},
   "outputs": [
    {
     "data": {
      "text/html": [
       "<div>\n",
       "<style>\n",
       "    .dataframe thead tr:only-child th {\n",
       "        text-align: right;\n",
       "    }\n",
       "\n",
       "    .dataframe thead th {\n",
       "        text-align: left;\n",
       "    }\n",
       "\n",
       "    .dataframe tbody tr th {\n",
       "        vertical-align: top;\n",
       "    }\n",
       "</style>\n",
       "<table border=\"1\" class=\"dataframe\">\n",
       "  <thead>\n",
       "    <tr style=\"text-align: right;\">\n",
       "      <th></th>\n",
       "      <th>1</th>\n",
       "      <th>A</th>\n",
       "      <th>B</th>\n",
       "      <th>C</th>\n",
       "      <th>D</th>\n",
       "    </tr>\n",
       "  </thead>\n",
       "  <tbody>\n",
       "    <tr>\n",
       "      <th>0</th>\n",
       "      <td>a</td>\n",
       "      <td>anil</td>\n",
       "      <td>kumar</td>\n",
       "      <td>ELON</td>\n",
       "      <td>IS</td>\n",
       "    </tr>\n",
       "    <tr>\n",
       "      <th>1</th>\n",
       "      <td>b</td>\n",
       "      <td>dharni</td>\n",
       "      <td>sangakarra</td>\n",
       "      <td>MUSK</td>\n",
       "      <td>LEGEND</td>\n",
       "    </tr>\n",
       "  </tbody>\n",
       "</table>\n",
       "</div>"
      ],
      "text/plain": [
       "   1       A           B     C       D\n",
       "0  a    anil       kumar  ELON      IS\n",
       "1  b  dharni  sangakarra  MUSK  LEGEND"
      ]
     },
     "execution_count": 34,
     "metadata": {},
     "output_type": "execute_result"
    }
   ],
   "source": [
    "pd.merge(left,right,on='1')"
   ]
  },
  {
   "cell_type": "code",
   "execution_count": 36,
   "metadata": {
    "collapsed": true
   },
   "outputs": [],
   "source": [
    "k = pd.DataFrame(np.random.randn(8,4),index=np.arange(1,9),columns=['A','B','C','D'])"
   ]
  },
  {
   "cell_type": "code",
   "execution_count": 37,
   "metadata": {},
   "outputs": [
    {
     "data": {
      "text/html": [
       "<div>\n",
       "<style>\n",
       "    .dataframe thead tr:only-child th {\n",
       "        text-align: right;\n",
       "    }\n",
       "\n",
       "    .dataframe thead th {\n",
       "        text-align: left;\n",
       "    }\n",
       "\n",
       "    .dataframe tbody tr th {\n",
       "        vertical-align: top;\n",
       "    }\n",
       "</style>\n",
       "<table border=\"1\" class=\"dataframe\">\n",
       "  <thead>\n",
       "    <tr style=\"text-align: right;\">\n",
       "      <th></th>\n",
       "      <th>A</th>\n",
       "      <th>B</th>\n",
       "      <th>C</th>\n",
       "      <th>D</th>\n",
       "    </tr>\n",
       "  </thead>\n",
       "  <tbody>\n",
       "    <tr>\n",
       "      <th>1</th>\n",
       "      <td>0.178618</td>\n",
       "      <td>0.108336</td>\n",
       "      <td>-0.192977</td>\n",
       "      <td>0.953167</td>\n",
       "    </tr>\n",
       "    <tr>\n",
       "      <th>2</th>\n",
       "      <td>1.685014</td>\n",
       "      <td>1.255443</td>\n",
       "      <td>1.788227</td>\n",
       "      <td>0.867643</td>\n",
       "    </tr>\n",
       "    <tr>\n",
       "      <th>3</th>\n",
       "      <td>-1.028631</td>\n",
       "      <td>0.365268</td>\n",
       "      <td>-0.321036</td>\n",
       "      <td>0.483737</td>\n",
       "    </tr>\n",
       "    <tr>\n",
       "      <th>4</th>\n",
       "      <td>-0.743816</td>\n",
       "      <td>-0.550256</td>\n",
       "      <td>-0.029485</td>\n",
       "      <td>-0.403676</td>\n",
       "    </tr>\n",
       "    <tr>\n",
       "      <th>5</th>\n",
       "      <td>1.521732</td>\n",
       "      <td>0.147809</td>\n",
       "      <td>-0.747604</td>\n",
       "      <td>0.479838</td>\n",
       "    </tr>\n",
       "    <tr>\n",
       "      <th>6</th>\n",
       "      <td>1.979467</td>\n",
       "      <td>-0.277300</td>\n",
       "      <td>0.284247</td>\n",
       "      <td>-1.290852</td>\n",
       "    </tr>\n",
       "    <tr>\n",
       "      <th>7</th>\n",
       "      <td>-0.265863</td>\n",
       "      <td>-0.522659</td>\n",
       "      <td>0.567065</td>\n",
       "      <td>0.670509</td>\n",
       "    </tr>\n",
       "    <tr>\n",
       "      <th>8</th>\n",
       "      <td>0.310528</td>\n",
       "      <td>-1.937243</td>\n",
       "      <td>-3.315452</td>\n",
       "      <td>-0.010707</td>\n",
       "    </tr>\n",
       "  </tbody>\n",
       "</table>\n",
       "</div>"
      ],
      "text/plain": [
       "          A         B         C         D\n",
       "1  0.178618  0.108336 -0.192977  0.953167\n",
       "2  1.685014  1.255443  1.788227  0.867643\n",
       "3 -1.028631  0.365268 -0.321036  0.483737\n",
       "4 -0.743816 -0.550256 -0.029485 -0.403676\n",
       "5  1.521732  0.147809 -0.747604  0.479838\n",
       "6  1.979467 -0.277300  0.284247 -1.290852\n",
       "7 -0.265863 -0.522659  0.567065  0.670509\n",
       "8  0.310528 -1.937243 -3.315452 -0.010707"
      ]
     },
     "execution_count": 37,
     "metadata": {},
     "output_type": "execute_result"
    }
   ],
   "source": [
    "k"
   ]
  },
  {
   "cell_type": "code",
   "execution_count": 38,
   "metadata": {
    "collapsed": true
   },
   "outputs": [],
   "source": [
    "#slicing a row\n",
    "z = k.iloc[3]"
   ]
  },
  {
   "cell_type": "code",
   "execution_count": 39,
   "metadata": {},
   "outputs": [
    {
     "data": {
      "text/html": [
       "<div>\n",
       "<style>\n",
       "    .dataframe thead tr:only-child th {\n",
       "        text-align: right;\n",
       "    }\n",
       "\n",
       "    .dataframe thead th {\n",
       "        text-align: left;\n",
       "    }\n",
       "\n",
       "    .dataframe tbody tr th {\n",
       "        vertical-align: top;\n",
       "    }\n",
       "</style>\n",
       "<table border=\"1\" class=\"dataframe\">\n",
       "  <thead>\n",
       "    <tr style=\"text-align: right;\">\n",
       "      <th></th>\n",
       "      <th>A</th>\n",
       "      <th>B</th>\n",
       "      <th>C</th>\n",
       "      <th>D</th>\n",
       "    </tr>\n",
       "  </thead>\n",
       "  <tbody>\n",
       "    <tr>\n",
       "      <th>0</th>\n",
       "      <td>0.178618</td>\n",
       "      <td>0.108336</td>\n",
       "      <td>-0.192977</td>\n",
       "      <td>0.953167</td>\n",
       "    </tr>\n",
       "    <tr>\n",
       "      <th>1</th>\n",
       "      <td>1.685014</td>\n",
       "      <td>1.255443</td>\n",
       "      <td>1.788227</td>\n",
       "      <td>0.867643</td>\n",
       "    </tr>\n",
       "    <tr>\n",
       "      <th>2</th>\n",
       "      <td>-1.028631</td>\n",
       "      <td>0.365268</td>\n",
       "      <td>-0.321036</td>\n",
       "      <td>0.483737</td>\n",
       "    </tr>\n",
       "    <tr>\n",
       "      <th>3</th>\n",
       "      <td>-0.743816</td>\n",
       "      <td>-0.550256</td>\n",
       "      <td>-0.029485</td>\n",
       "      <td>-0.403676</td>\n",
       "    </tr>\n",
       "    <tr>\n",
       "      <th>4</th>\n",
       "      <td>1.521732</td>\n",
       "      <td>0.147809</td>\n",
       "      <td>-0.747604</td>\n",
       "      <td>0.479838</td>\n",
       "    </tr>\n",
       "    <tr>\n",
       "      <th>5</th>\n",
       "      <td>1.979467</td>\n",
       "      <td>-0.277300</td>\n",
       "      <td>0.284247</td>\n",
       "      <td>-1.290852</td>\n",
       "    </tr>\n",
       "    <tr>\n",
       "      <th>6</th>\n",
       "      <td>-0.265863</td>\n",
       "      <td>-0.522659</td>\n",
       "      <td>0.567065</td>\n",
       "      <td>0.670509</td>\n",
       "    </tr>\n",
       "    <tr>\n",
       "      <th>7</th>\n",
       "      <td>0.310528</td>\n",
       "      <td>-1.937243</td>\n",
       "      <td>-3.315452</td>\n",
       "      <td>-0.010707</td>\n",
       "    </tr>\n",
       "    <tr>\n",
       "      <th>8</th>\n",
       "      <td>-0.743816</td>\n",
       "      <td>-0.550256</td>\n",
       "      <td>-0.029485</td>\n",
       "      <td>-0.403676</td>\n",
       "    </tr>\n",
       "  </tbody>\n",
       "</table>\n",
       "</div>"
      ],
      "text/plain": [
       "          A         B         C         D\n",
       "0  0.178618  0.108336 -0.192977  0.953167\n",
       "1  1.685014  1.255443  1.788227  0.867643\n",
       "2 -1.028631  0.365268 -0.321036  0.483737\n",
       "3 -0.743816 -0.550256 -0.029485 -0.403676\n",
       "4  1.521732  0.147809 -0.747604  0.479838\n",
       "5  1.979467 -0.277300  0.284247 -1.290852\n",
       "6 -0.265863 -0.522659  0.567065  0.670509\n",
       "7  0.310528 -1.937243 -3.315452 -0.010707\n",
       "8 -0.743816 -0.550256 -0.029485 -0.403676"
      ]
     },
     "execution_count": 39,
     "metadata": {},
     "output_type": "execute_result"
    }
   ],
   "source": [
    "#ignore_index must be true or it must have a series name?\n",
    "k.append(z,ignore_index=True)"
   ]
  },
  {
   "cell_type": "code",
   "execution_count": 41,
   "metadata": {
    "collapsed": true
   },
   "outputs": [],
   "source": [
    "s = pd.DataFrame({'A':['foo','bar','foo','bar','bar','foo','foo','bar'],\n",
    "                  'B':['one','three','two','one','two','three','two','three'],\n",
    "                  'C':np.random.randn(8),\n",
    "                  'D':np.random.randn(8)})"
   ]
  },
  {
   "cell_type": "code",
   "execution_count": 42,
   "metadata": {},
   "outputs": [
    {
     "data": {
      "text/html": [
       "<div>\n",
       "<style>\n",
       "    .dataframe thead tr:only-child th {\n",
       "        text-align: right;\n",
       "    }\n",
       "\n",
       "    .dataframe thead th {\n",
       "        text-align: left;\n",
       "    }\n",
       "\n",
       "    .dataframe tbody tr th {\n",
       "        vertical-align: top;\n",
       "    }\n",
       "</style>\n",
       "<table border=\"1\" class=\"dataframe\">\n",
       "  <thead>\n",
       "    <tr style=\"text-align: right;\">\n",
       "      <th></th>\n",
       "      <th>A</th>\n",
       "      <th>B</th>\n",
       "      <th>C</th>\n",
       "      <th>D</th>\n",
       "    </tr>\n",
       "  </thead>\n",
       "  <tbody>\n",
       "    <tr>\n",
       "      <th>0</th>\n",
       "      <td>foo</td>\n",
       "      <td>one</td>\n",
       "      <td>-0.121427</td>\n",
       "      <td>-0.153225</td>\n",
       "    </tr>\n",
       "    <tr>\n",
       "      <th>1</th>\n",
       "      <td>bar</td>\n",
       "      <td>three</td>\n",
       "      <td>0.129370</td>\n",
       "      <td>-0.949300</td>\n",
       "    </tr>\n",
       "    <tr>\n",
       "      <th>2</th>\n",
       "      <td>foo</td>\n",
       "      <td>two</td>\n",
       "      <td>-0.427070</td>\n",
       "      <td>0.107848</td>\n",
       "    </tr>\n",
       "    <tr>\n",
       "      <th>3</th>\n",
       "      <td>bar</td>\n",
       "      <td>one</td>\n",
       "      <td>2.183085</td>\n",
       "      <td>0.240157</td>\n",
       "    </tr>\n",
       "    <tr>\n",
       "      <th>4</th>\n",
       "      <td>bar</td>\n",
       "      <td>two</td>\n",
       "      <td>0.679833</td>\n",
       "      <td>-0.782820</td>\n",
       "    </tr>\n",
       "    <tr>\n",
       "      <th>5</th>\n",
       "      <td>foo</td>\n",
       "      <td>three</td>\n",
       "      <td>-0.194949</td>\n",
       "      <td>0.322727</td>\n",
       "    </tr>\n",
       "    <tr>\n",
       "      <th>6</th>\n",
       "      <td>foo</td>\n",
       "      <td>two</td>\n",
       "      <td>-0.128349</td>\n",
       "      <td>0.321723</td>\n",
       "    </tr>\n",
       "    <tr>\n",
       "      <th>7</th>\n",
       "      <td>bar</td>\n",
       "      <td>three</td>\n",
       "      <td>-1.400667</td>\n",
       "      <td>-0.036430</td>\n",
       "    </tr>\n",
       "  </tbody>\n",
       "</table>\n",
       "</div>"
      ],
      "text/plain": [
       "     A      B         C         D\n",
       "0  foo    one -0.121427 -0.153225\n",
       "1  bar  three  0.129370 -0.949300\n",
       "2  foo    two -0.427070  0.107848\n",
       "3  bar    one  2.183085  0.240157\n",
       "4  bar    two  0.679833 -0.782820\n",
       "5  foo  three -0.194949  0.322727\n",
       "6  foo    two -0.128349  0.321723\n",
       "7  bar  three -1.400667 -0.036430"
      ]
     },
     "execution_count": 42,
     "metadata": {},
     "output_type": "execute_result"
    }
   ],
   "source": [
    "s"
   ]
  },
  {
   "cell_type": "code",
   "execution_count": 43,
   "metadata": {},
   "outputs": [
    {
     "data": {
      "text/html": [
       "<div>\n",
       "<style>\n",
       "    .dataframe thead tr:only-child th {\n",
       "        text-align: right;\n",
       "    }\n",
       "\n",
       "    .dataframe thead th {\n",
       "        text-align: left;\n",
       "    }\n",
       "\n",
       "    .dataframe tbody tr th {\n",
       "        vertical-align: top;\n",
       "    }\n",
       "</style>\n",
       "<table border=\"1\" class=\"dataframe\">\n",
       "  <thead>\n",
       "    <tr style=\"text-align: right;\">\n",
       "      <th></th>\n",
       "      <th>C</th>\n",
       "      <th>D</th>\n",
       "    </tr>\n",
       "    <tr>\n",
       "      <th>A</th>\n",
       "      <th></th>\n",
       "      <th></th>\n",
       "    </tr>\n",
       "  </thead>\n",
       "  <tbody>\n",
       "    <tr>\n",
       "      <th>bar</th>\n",
       "      <td>1.591621</td>\n",
       "      <td>-1.528393</td>\n",
       "    </tr>\n",
       "    <tr>\n",
       "      <th>foo</th>\n",
       "      <td>-0.871795</td>\n",
       "      <td>0.599073</td>\n",
       "    </tr>\n",
       "  </tbody>\n",
       "</table>\n",
       "</div>"
      ],
      "text/plain": [
       "            C         D\n",
       "A                      \n",
       "bar  1.591621 -1.528393\n",
       "foo -0.871795  0.599073"
      ]
     },
     "execution_count": 43,
     "metadata": {},
     "output_type": "execute_result"
    }
   ],
   "source": [
    "#whatever you keep in groupby that eventually becomes a index\n",
    "s.groupby('A').sum()"
   ]
  },
  {
   "cell_type": "code",
   "execution_count": 44,
   "metadata": {
    "scrolled": true
   },
   "outputs": [
    {
     "data": {
      "text/html": [
       "<div>\n",
       "<style>\n",
       "    .dataframe thead tr:only-child th {\n",
       "        text-align: right;\n",
       "    }\n",
       "\n",
       "    .dataframe thead th {\n",
       "        text-align: left;\n",
       "    }\n",
       "\n",
       "    .dataframe tbody tr th {\n",
       "        vertical-align: top;\n",
       "    }\n",
       "</style>\n",
       "<table border=\"1\" class=\"dataframe\">\n",
       "  <thead>\n",
       "    <tr style=\"text-align: right;\">\n",
       "      <th></th>\n",
       "      <th></th>\n",
       "      <th>C</th>\n",
       "      <th>D</th>\n",
       "    </tr>\n",
       "    <tr>\n",
       "      <th>A</th>\n",
       "      <th>B</th>\n",
       "      <th></th>\n",
       "      <th></th>\n",
       "    </tr>\n",
       "  </thead>\n",
       "  <tbody>\n",
       "    <tr>\n",
       "      <th rowspan=\"3\" valign=\"top\">bar</th>\n",
       "      <th>one</th>\n",
       "      <td>2.183085</td>\n",
       "      <td>0.240157</td>\n",
       "    </tr>\n",
       "    <tr>\n",
       "      <th>three</th>\n",
       "      <td>-1.271297</td>\n",
       "      <td>-0.985730</td>\n",
       "    </tr>\n",
       "    <tr>\n",
       "      <th>two</th>\n",
       "      <td>0.679833</td>\n",
       "      <td>-0.782820</td>\n",
       "    </tr>\n",
       "    <tr>\n",
       "      <th rowspan=\"3\" valign=\"top\">foo</th>\n",
       "      <th>one</th>\n",
       "      <td>-0.121427</td>\n",
       "      <td>-0.153225</td>\n",
       "    </tr>\n",
       "    <tr>\n",
       "      <th>three</th>\n",
       "      <td>-0.194949</td>\n",
       "      <td>0.322727</td>\n",
       "    </tr>\n",
       "    <tr>\n",
       "      <th>two</th>\n",
       "      <td>-0.555419</td>\n",
       "      <td>0.429571</td>\n",
       "    </tr>\n",
       "  </tbody>\n",
       "</table>\n",
       "</div>"
      ],
      "text/plain": [
       "                  C         D\n",
       "A   B                        \n",
       "bar one    2.183085  0.240157\n",
       "    three -1.271297 -0.985730\n",
       "    two    0.679833 -0.782820\n",
       "foo one   -0.121427 -0.153225\n",
       "    three -0.194949  0.322727\n",
       "    two   -0.555419  0.429571"
      ]
     },
     "execution_count": 44,
     "metadata": {},
     "output_type": "execute_result"
    }
   ],
   "source": [
    "#when you have to group two rows then you have to put in list i.e, enclosed by square brackets\n",
    "s.groupby(['A','B']).sum()"
   ]
  },
  {
   "cell_type": "code",
   "execution_count": 79,
   "metadata": {},
   "outputs": [
    {
     "name": "stdout",
     "output_type": "stream",
     "text": [
      "[('bar', 'one'), ('bar', 'two'), ('baz', 'one'), ('baz', 'two'), ('foo', 'one'), ('foo', 'two'), ('qux', 'one'), ('qux', 'two')]\n"
     ]
    }
   ],
   "source": [
    "#understand the working of zip;zip groups elements from two lists into pairs\n",
    "tuples = list(zip(*[['bar','bar','baz','baz',\n",
    "                     'foo','foo','qux','qux'],\n",
    "                    ['one','two','one','two',\n",
    "                     'one','two','one','two']]))\n",
    "print (tuples)"
   ]
  },
  {
   "cell_type": "code",
   "execution_count": 78,
   "metadata": {},
   "outputs": [
    {
     "name": "stdout",
     "output_type": "stream",
     "text": [
      "[('bar', 'one'), ('bar', 'two'), ('baz', 'one'), ('baz', 'two'), ('foo', 'one'), ('foo', 'two'), ('qux', 'one'), ('qux', 'two')]\n"
     ]
    }
   ],
   "source": [
    "a = list(zip(*[['bar','bar','baz','baz',\n",
    "       'foo','foo','qux','qux'],\n",
    "      ['one','two','one','two',\n",
    "       'one','two','one','two']]))\n",
    "print (a)"
   ]
  },
  {
   "cell_type": "code",
   "execution_count": 77,
   "metadata": {},
   "outputs": [
    {
     "name": "stdout",
     "output_type": "stream",
     "text": [
      "[(['bar', 'bar', 'baz', 'baz', 'foo', 'foo', 'qux', 'qux'],), (['one', 'two', 'one', 'two', 'one', 'two', 'one', 'two'],)]\n"
     ]
    }
   ],
   "source": [
    "a = list(zip([['bar','bar','baz','baz',\n",
    "       'foo','foo','qux','qux'],\n",
    "      ['one','two','one','two',\n",
    "       'one','two','one','two']]))\n",
    "print (a)"
   ]
  },
  {
   "cell_type": "code",
   "execution_count": 80,
   "metadata": {},
   "outputs": [
    {
     "name": "stdout",
     "output_type": "stream",
     "text": [
      "MultiIndex(levels=[['bar', 'baz', 'foo', 'qux'], ['one', 'two']],\n",
      "           labels=[[0, 0, 1, 1, 2, 2, 3, 3], [0, 1, 0, 1, 0, 1, 0, 1]],\n",
      "           names=['first', 'second'])\n"
     ]
    }
   ],
   "source": [
    "#converting tuples to multiIndex and the term is self explanatory;we have multiIndex\n",
    "index = pd.MultiIndex.from_tuples(tuples,names= ['first','second'])\n",
    "print (index)"
   ]
  },
  {
   "cell_type": "code",
   "execution_count": 84,
   "metadata": {},
   "outputs": [],
   "source": [
    "df = pd.DataFrame(np.random.randn(8,4),index=index,columns=list('ABCD'))"
   ]
  },
  {
   "cell_type": "code",
   "execution_count": 85,
   "metadata": {},
   "outputs": [
    {
     "name": "stdout",
     "output_type": "stream",
     "text": [
      "                     A         B         C         D\n",
      "first second                                        \n",
      "bar   one     1.126729 -0.004064 -0.134211  0.900532\n",
      "      two     1.960752 -0.572286 -1.164403  0.424900\n",
      "baz   one    -0.476363  1.189539  0.642219 -2.106701\n",
      "      two     0.432520  1.095075  0.378778 -0.771507\n",
      "foo   one    -0.458455  0.445969 -0.746900  0.201453\n",
      "      two    -0.929868  0.437090  1.424633 -0.152985\n",
      "qux   one     0.241718 -0.798651 -0.187152 -0.290941\n",
      "      two     1.299191 -0.682967 -0.243391 -0.919415\n"
     ]
    }
   ],
   "source": [
    "print (df)"
   ]
  },
  {
   "cell_type": "code",
   "execution_count": 89,
   "metadata": {},
   "outputs": [
    {
     "data": {
      "text/html": [
       "<div>\n",
       "<style>\n",
       "    .dataframe thead tr:only-child th {\n",
       "        text-align: right;\n",
       "    }\n",
       "\n",
       "    .dataframe thead th {\n",
       "        text-align: left;\n",
       "    }\n",
       "\n",
       "    .dataframe tbody tr th {\n",
       "        vertical-align: top;\n",
       "    }\n",
       "</style>\n",
       "<table border=\"1\" class=\"dataframe\">\n",
       "  <thead>\n",
       "    <tr style=\"text-align: right;\">\n",
       "      <th></th>\n",
       "      <th></th>\n",
       "      <th>A</th>\n",
       "      <th>B</th>\n",
       "      <th>C</th>\n",
       "      <th>D</th>\n",
       "    </tr>\n",
       "    <tr>\n",
       "      <th>first</th>\n",
       "      <th>second</th>\n",
       "      <th></th>\n",
       "      <th></th>\n",
       "      <th></th>\n",
       "      <th></th>\n",
       "    </tr>\n",
       "  </thead>\n",
       "  <tbody>\n",
       "    <tr>\n",
       "      <th rowspan=\"2\" valign=\"top\">bar</th>\n",
       "      <th>one</th>\n",
       "      <td>1.126729</td>\n",
       "      <td>-0.004064</td>\n",
       "      <td>-0.134211</td>\n",
       "      <td>0.900532</td>\n",
       "    </tr>\n",
       "    <tr>\n",
       "      <th>two</th>\n",
       "      <td>1.960752</td>\n",
       "      <td>-0.572286</td>\n",
       "      <td>-1.164403</td>\n",
       "      <td>0.424900</td>\n",
       "    </tr>\n",
       "    <tr>\n",
       "      <th rowspan=\"2\" valign=\"top\">baz</th>\n",
       "      <th>one</th>\n",
       "      <td>-0.476363</td>\n",
       "      <td>1.189539</td>\n",
       "      <td>0.642219</td>\n",
       "      <td>-2.106701</td>\n",
       "    </tr>\n",
       "    <tr>\n",
       "      <th>two</th>\n",
       "      <td>0.432520</td>\n",
       "      <td>1.095075</td>\n",
       "      <td>0.378778</td>\n",
       "      <td>-0.771507</td>\n",
       "    </tr>\n",
       "  </tbody>\n",
       "</table>\n",
       "</div>"
      ],
      "text/plain": [
       "                     A         B         C         D\n",
       "first second                                        \n",
       "bar   one     1.126729 -0.004064 -0.134211  0.900532\n",
       "      two     1.960752 -0.572286 -1.164403  0.424900\n",
       "baz   one    -0.476363  1.189539  0.642219 -2.106701\n",
       "      two     0.432520  1.095075  0.378778 -0.771507"
      ]
     },
     "execution_count": 89,
     "metadata": {},
     "output_type": "execute_result"
    }
   ],
   "source": [
    "df2 = df[:4]\n",
    "df2"
   ]
  },
  {
   "cell_type": "code",
   "execution_count": 88,
   "metadata": {
    "scrolled": true
   },
   "outputs": [
    {
     "name": "stdout",
     "output_type": "stream",
     "text": [
      "first  second   \n",
      "bar    one     A    1.126729\n",
      "               B   -0.004064\n",
      "               C   -0.134211\n",
      "               D    0.900532\n",
      "       two     A    1.960752\n",
      "               B   -0.572286\n",
      "               C   -1.164403\n",
      "               D    0.424900\n",
      "baz    one     A   -0.476363\n",
      "               B    1.189539\n",
      "               C    0.642219\n",
      "               D   -2.106701\n",
      "       two     A    0.432520\n",
      "               B    1.095075\n",
      "               C    0.378778\n",
      "               D   -0.771507\n",
      "dtype: float64\n"
     ]
    }
   ],
   "source": [
    "print (stacked)"
   ]
  },
  {
   "cell_type": "code",
   "execution_count": 91,
   "metadata": {},
   "outputs": [
    {
     "data": {
      "text/html": [
       "<div>\n",
       "<style>\n",
       "    .dataframe thead tr:only-child th {\n",
       "        text-align: right;\n",
       "    }\n",
       "\n",
       "    .dataframe thead th {\n",
       "        text-align: left;\n",
       "    }\n",
       "\n",
       "    .dataframe tbody tr th {\n",
       "        vertical-align: top;\n",
       "    }\n",
       "</style>\n",
       "<table border=\"1\" class=\"dataframe\">\n",
       "  <thead>\n",
       "    <tr style=\"text-align: right;\">\n",
       "      <th></th>\n",
       "      <th></th>\n",
       "      <th>A</th>\n",
       "      <th>B</th>\n",
       "      <th>C</th>\n",
       "      <th>D</th>\n",
       "    </tr>\n",
       "    <tr>\n",
       "      <th>first</th>\n",
       "      <th>second</th>\n",
       "      <th></th>\n",
       "      <th></th>\n",
       "      <th></th>\n",
       "      <th></th>\n",
       "    </tr>\n",
       "  </thead>\n",
       "  <tbody>\n",
       "    <tr>\n",
       "      <th rowspan=\"2\" valign=\"top\">bar</th>\n",
       "      <th>one</th>\n",
       "      <td>1.126729</td>\n",
       "      <td>-0.004064</td>\n",
       "      <td>-0.134211</td>\n",
       "      <td>0.900532</td>\n",
       "    </tr>\n",
       "    <tr>\n",
       "      <th>two</th>\n",
       "      <td>1.960752</td>\n",
       "      <td>-0.572286</td>\n",
       "      <td>-1.164403</td>\n",
       "      <td>0.424900</td>\n",
       "    </tr>\n",
       "    <tr>\n",
       "      <th rowspan=\"2\" valign=\"top\">baz</th>\n",
       "      <th>one</th>\n",
       "      <td>-0.476363</td>\n",
       "      <td>1.189539</td>\n",
       "      <td>0.642219</td>\n",
       "      <td>-2.106701</td>\n",
       "    </tr>\n",
       "    <tr>\n",
       "      <th>two</th>\n",
       "      <td>0.432520</td>\n",
       "      <td>1.095075</td>\n",
       "      <td>0.378778</td>\n",
       "      <td>-0.771507</td>\n",
       "    </tr>\n",
       "  </tbody>\n",
       "</table>\n",
       "</div>"
      ],
      "text/plain": [
       "                     A         B         C         D\n",
       "first second                                        \n",
       "bar   one     1.126729 -0.004064 -0.134211  0.900532\n",
       "      two     1.960752 -0.572286 -1.164403  0.424900\n",
       "baz   one    -0.476363  1.189539  0.642219 -2.106701\n",
       "      two     0.432520  1.095075  0.378778 -0.771507"
      ]
     },
     "execution_count": 91,
     "metadata": {},
     "output_type": "execute_result"
    }
   ],
   "source": [
    "stacked.unstack()"
   ]
  },
  {
   "cell_type": "code",
   "execution_count": 93,
   "metadata": {},
   "outputs": [
    {
     "data": {
      "text/html": [
       "<div>\n",
       "<style>\n",
       "    .dataframe thead tr:only-child th {\n",
       "        text-align: right;\n",
       "    }\n",
       "\n",
       "    .dataframe thead th {\n",
       "        text-align: left;\n",
       "    }\n",
       "\n",
       "    .dataframe tbody tr th {\n",
       "        vertical-align: top;\n",
       "    }\n",
       "</style>\n",
       "<table border=\"1\" class=\"dataframe\">\n",
       "  <thead>\n",
       "    <tr style=\"text-align: right;\">\n",
       "      <th></th>\n",
       "      <th>second</th>\n",
       "      <th>one</th>\n",
       "      <th>two</th>\n",
       "    </tr>\n",
       "    <tr>\n",
       "      <th>first</th>\n",
       "      <th></th>\n",
       "      <th></th>\n",
       "      <th></th>\n",
       "    </tr>\n",
       "  </thead>\n",
       "  <tbody>\n",
       "    <tr>\n",
       "      <th rowspan=\"4\" valign=\"top\">bar</th>\n",
       "      <th>A</th>\n",
       "      <td>1.126729</td>\n",
       "      <td>1.960752</td>\n",
       "    </tr>\n",
       "    <tr>\n",
       "      <th>B</th>\n",
       "      <td>-0.004064</td>\n",
       "      <td>-0.572286</td>\n",
       "    </tr>\n",
       "    <tr>\n",
       "      <th>C</th>\n",
       "      <td>-0.134211</td>\n",
       "      <td>-1.164403</td>\n",
       "    </tr>\n",
       "    <tr>\n",
       "      <th>D</th>\n",
       "      <td>0.900532</td>\n",
       "      <td>0.424900</td>\n",
       "    </tr>\n",
       "    <tr>\n",
       "      <th rowspan=\"4\" valign=\"top\">baz</th>\n",
       "      <th>A</th>\n",
       "      <td>-0.476363</td>\n",
       "      <td>0.432520</td>\n",
       "    </tr>\n",
       "    <tr>\n",
       "      <th>B</th>\n",
       "      <td>1.189539</td>\n",
       "      <td>1.095075</td>\n",
       "    </tr>\n",
       "    <tr>\n",
       "      <th>C</th>\n",
       "      <td>0.642219</td>\n",
       "      <td>0.378778</td>\n",
       "    </tr>\n",
       "    <tr>\n",
       "      <th>D</th>\n",
       "      <td>-2.106701</td>\n",
       "      <td>-0.771507</td>\n",
       "    </tr>\n",
       "  </tbody>\n",
       "</table>\n",
       "</div>"
      ],
      "text/plain": [
       "second        one       two\n",
       "first                      \n",
       "bar   A  1.126729  1.960752\n",
       "      B -0.004064 -0.572286\n",
       "      C -0.134211 -1.164403\n",
       "      D  0.900532  0.424900\n",
       "baz   A -0.476363  0.432520\n",
       "      B  1.189539  1.095075\n",
       "      C  0.642219  0.378778\n",
       "      D -2.106701 -0.771507"
      ]
     },
     "execution_count": 93,
     "metadata": {},
     "output_type": "execute_result"
    }
   ],
   "source": [
    "stacked.unstack(1)"
   ]
  },
  {
   "cell_type": "code",
   "execution_count": 95,
   "metadata": {},
   "outputs": [
    {
     "data": {
      "text/html": [
       "<div>\n",
       "<style>\n",
       "    .dataframe thead tr:only-child th {\n",
       "        text-align: right;\n",
       "    }\n",
       "\n",
       "    .dataframe thead th {\n",
       "        text-align: left;\n",
       "    }\n",
       "\n",
       "    .dataframe tbody tr th {\n",
       "        vertical-align: top;\n",
       "    }\n",
       "</style>\n",
       "<table border=\"1\" class=\"dataframe\">\n",
       "  <thead>\n",
       "    <tr style=\"text-align: right;\">\n",
       "      <th></th>\n",
       "      <th>first</th>\n",
       "      <th>bar</th>\n",
       "      <th>baz</th>\n",
       "    </tr>\n",
       "    <tr>\n",
       "      <th>second</th>\n",
       "      <th></th>\n",
       "      <th></th>\n",
       "      <th></th>\n",
       "    </tr>\n",
       "  </thead>\n",
       "  <tbody>\n",
       "    <tr>\n",
       "      <th rowspan=\"4\" valign=\"top\">one</th>\n",
       "      <th>A</th>\n",
       "      <td>1.126729</td>\n",
       "      <td>-0.476363</td>\n",
       "    </tr>\n",
       "    <tr>\n",
       "      <th>B</th>\n",
       "      <td>-0.004064</td>\n",
       "      <td>1.189539</td>\n",
       "    </tr>\n",
       "    <tr>\n",
       "      <th>C</th>\n",
       "      <td>-0.134211</td>\n",
       "      <td>0.642219</td>\n",
       "    </tr>\n",
       "    <tr>\n",
       "      <th>D</th>\n",
       "      <td>0.900532</td>\n",
       "      <td>-2.106701</td>\n",
       "    </tr>\n",
       "    <tr>\n",
       "      <th rowspan=\"4\" valign=\"top\">two</th>\n",
       "      <th>A</th>\n",
       "      <td>1.960752</td>\n",
       "      <td>0.432520</td>\n",
       "    </tr>\n",
       "    <tr>\n",
       "      <th>B</th>\n",
       "      <td>-0.572286</td>\n",
       "      <td>1.095075</td>\n",
       "    </tr>\n",
       "    <tr>\n",
       "      <th>C</th>\n",
       "      <td>-1.164403</td>\n",
       "      <td>0.378778</td>\n",
       "    </tr>\n",
       "    <tr>\n",
       "      <th>D</th>\n",
       "      <td>0.424900</td>\n",
       "      <td>-0.771507</td>\n",
       "    </tr>\n",
       "  </tbody>\n",
       "</table>\n",
       "</div>"
      ],
      "text/plain": [
       "first          bar       baz\n",
       "second                      \n",
       "one    A  1.126729 -0.476363\n",
       "       B -0.004064  1.189539\n",
       "       C -0.134211  0.642219\n",
       "       D  0.900532 -2.106701\n",
       "two    A  1.960752  0.432520\n",
       "       B -0.572286  1.095075\n",
       "       C -1.164403  0.378778\n",
       "       D  0.424900 -0.771507"
      ]
     },
     "execution_count": 95,
     "metadata": {},
     "output_type": "execute_result"
    }
   ],
   "source": [
    "stacked.unstack(0)"
   ]
  },
  {
   "cell_type": "code",
   "execution_count": 96,
   "metadata": {
    "collapsed": true
   },
   "outputs": [],
   "source": [
    "df = pd.DataFrame({'A':['one','two','one','three']*3,\n",
    "                   'B':['A','B','C']*4,\n",
    "                   'C':['boo','boo','boo','foo','foo','foo']*2,\n",
    "                   'D':np.random.randn(12),\n",
    "                   'E':np.random.randn(12)})"
   ]
  },
  {
   "cell_type": "code",
   "execution_count": 97,
   "metadata": {},
   "outputs": [
    {
     "data": {
      "text/html": [
       "<div>\n",
       "<style>\n",
       "    .dataframe thead tr:only-child th {\n",
       "        text-align: right;\n",
       "    }\n",
       "\n",
       "    .dataframe thead th {\n",
       "        text-align: left;\n",
       "    }\n",
       "\n",
       "    .dataframe tbody tr th {\n",
       "        vertical-align: top;\n",
       "    }\n",
       "</style>\n",
       "<table border=\"1\" class=\"dataframe\">\n",
       "  <thead>\n",
       "    <tr style=\"text-align: right;\">\n",
       "      <th></th>\n",
       "      <th>A</th>\n",
       "      <th>B</th>\n",
       "      <th>C</th>\n",
       "      <th>D</th>\n",
       "      <th>E</th>\n",
       "    </tr>\n",
       "  </thead>\n",
       "  <tbody>\n",
       "    <tr>\n",
       "      <th>0</th>\n",
       "      <td>one</td>\n",
       "      <td>A</td>\n",
       "      <td>boo</td>\n",
       "      <td>0.295416</td>\n",
       "      <td>-1.811073</td>\n",
       "    </tr>\n",
       "    <tr>\n",
       "      <th>1</th>\n",
       "      <td>two</td>\n",
       "      <td>B</td>\n",
       "      <td>boo</td>\n",
       "      <td>0.356355</td>\n",
       "      <td>1.412387</td>\n",
       "    </tr>\n",
       "    <tr>\n",
       "      <th>2</th>\n",
       "      <td>one</td>\n",
       "      <td>C</td>\n",
       "      <td>boo</td>\n",
       "      <td>-0.455339</td>\n",
       "      <td>-2.771932</td>\n",
       "    </tr>\n",
       "    <tr>\n",
       "      <th>3</th>\n",
       "      <td>three</td>\n",
       "      <td>A</td>\n",
       "      <td>foo</td>\n",
       "      <td>0.094014</td>\n",
       "      <td>-0.172346</td>\n",
       "    </tr>\n",
       "    <tr>\n",
       "      <th>4</th>\n",
       "      <td>one</td>\n",
       "      <td>B</td>\n",
       "      <td>foo</td>\n",
       "      <td>-0.052552</td>\n",
       "      <td>-0.509048</td>\n",
       "    </tr>\n",
       "    <tr>\n",
       "      <th>5</th>\n",
       "      <td>two</td>\n",
       "      <td>C</td>\n",
       "      <td>foo</td>\n",
       "      <td>0.202673</td>\n",
       "      <td>0.266618</td>\n",
       "    </tr>\n",
       "    <tr>\n",
       "      <th>6</th>\n",
       "      <td>one</td>\n",
       "      <td>A</td>\n",
       "      <td>boo</td>\n",
       "      <td>2.014468</td>\n",
       "      <td>-1.655244</td>\n",
       "    </tr>\n",
       "    <tr>\n",
       "      <th>7</th>\n",
       "      <td>three</td>\n",
       "      <td>B</td>\n",
       "      <td>boo</td>\n",
       "      <td>-1.314995</td>\n",
       "      <td>0.511549</td>\n",
       "    </tr>\n",
       "    <tr>\n",
       "      <th>8</th>\n",
       "      <td>one</td>\n",
       "      <td>C</td>\n",
       "      <td>boo</td>\n",
       "      <td>1.177817</td>\n",
       "      <td>1.132551</td>\n",
       "    </tr>\n",
       "    <tr>\n",
       "      <th>9</th>\n",
       "      <td>two</td>\n",
       "      <td>A</td>\n",
       "      <td>foo</td>\n",
       "      <td>1.177508</td>\n",
       "      <td>0.435704</td>\n",
       "    </tr>\n",
       "    <tr>\n",
       "      <th>10</th>\n",
       "      <td>one</td>\n",
       "      <td>B</td>\n",
       "      <td>foo</td>\n",
       "      <td>0.509991</td>\n",
       "      <td>0.025440</td>\n",
       "    </tr>\n",
       "    <tr>\n",
       "      <th>11</th>\n",
       "      <td>three</td>\n",
       "      <td>C</td>\n",
       "      <td>foo</td>\n",
       "      <td>-0.077920</td>\n",
       "      <td>1.137039</td>\n",
       "    </tr>\n",
       "  </tbody>\n",
       "</table>\n",
       "</div>"
      ],
      "text/plain": [
       "        A  B    C         D         E\n",
       "0     one  A  boo  0.295416 -1.811073\n",
       "1     two  B  boo  0.356355  1.412387\n",
       "2     one  C  boo -0.455339 -2.771932\n",
       "3   three  A  foo  0.094014 -0.172346\n",
       "4     one  B  foo -0.052552 -0.509048\n",
       "5     two  C  foo  0.202673  0.266618\n",
       "6     one  A  boo  2.014468 -1.655244\n",
       "7   three  B  boo -1.314995  0.511549\n",
       "8     one  C  boo  1.177817  1.132551\n",
       "9     two  A  foo  1.177508  0.435704\n",
       "10    one  B  foo  0.509991  0.025440\n",
       "11  three  C  foo -0.077920  1.137039"
      ]
     },
     "execution_count": 97,
     "metadata": {},
     "output_type": "execute_result"
    }
   ],
   "source": [
    "df"
   ]
  },
  {
   "cell_type": "code",
   "execution_count": 98,
   "metadata": {
    "collapsed": true
   },
   "outputs": [],
   "source": [
    "df1 = df.copy()"
   ]
  },
  {
   "cell_type": "code",
   "execution_count": 101,
   "metadata": {},
   "outputs": [
    {
     "data": {
      "text/plain": [
       "0   A          one\n",
       "    B            A\n",
       "    C          boo\n",
       "    D     0.295416\n",
       "    E     -1.81107\n",
       "1   A          two\n",
       "    B            B\n",
       "    C          boo\n",
       "    D     0.356355\n",
       "    E      1.41239\n",
       "2   A          one\n",
       "    B            C\n",
       "    C          boo\n",
       "    D    -0.455339\n",
       "    E     -2.77193\n",
       "3   A        three\n",
       "    B            A\n",
       "    C          foo\n",
       "    D    0.0940143\n",
       "    E    -0.172346\n",
       "4   A          one\n",
       "    B            B\n",
       "    C          foo\n",
       "    D   -0.0525525\n",
       "    E    -0.509048\n",
       "5   A          two\n",
       "    B            C\n",
       "    C          foo\n",
       "    D     0.202673\n",
       "    E     0.266618\n",
       "6   A          one\n",
       "    B            A\n",
       "    C          boo\n",
       "    D      2.01447\n",
       "    E     -1.65524\n",
       "7   A        three\n",
       "    B            B\n",
       "    C          boo\n",
       "    D     -1.31499\n",
       "    E     0.511549\n",
       "8   A          one\n",
       "    B            C\n",
       "    C          boo\n",
       "    D      1.17782\n",
       "    E      1.13255\n",
       "9   A          two\n",
       "    B            A\n",
       "    C          foo\n",
       "    D      1.17751\n",
       "    E     0.435704\n",
       "10  A          one\n",
       "    B            B\n",
       "    C          foo\n",
       "    D     0.509991\n",
       "    E      0.02544\n",
       "11  A        three\n",
       "    B            C\n",
       "    C          foo\n",
       "    D   -0.0779203\n",
       "    E      1.13704\n",
       "dtype: object"
      ]
     },
     "execution_count": 101,
     "metadata": {},
     "output_type": "execute_result"
    }
   ],
   "source": [
    "df1.stack()"
   ]
  },
  {
   "cell_type": "code",
   "execution_count": 112,
   "metadata": {
    "scrolled": true
   },
   "outputs": [
    {
     "data": {
      "text/html": [
       "<div>\n",
       "<style>\n",
       "    .dataframe thead tr:only-child th {\n",
       "        text-align: right;\n",
       "    }\n",
       "\n",
       "    .dataframe thead th {\n",
       "        text-align: left;\n",
       "    }\n",
       "\n",
       "    .dataframe tbody tr th {\n",
       "        vertical-align: top;\n",
       "    }\n",
       "</style>\n",
       "<table border=\"1\" class=\"dataframe\">\n",
       "  <thead>\n",
       "    <tr style=\"text-align: right;\">\n",
       "      <th></th>\n",
       "      <th>C</th>\n",
       "      <th>boo</th>\n",
       "      <th>foo</th>\n",
       "    </tr>\n",
       "    <tr>\n",
       "      <th>A</th>\n",
       "      <th>B</th>\n",
       "      <th></th>\n",
       "      <th></th>\n",
       "    </tr>\n",
       "  </thead>\n",
       "  <tbody>\n",
       "    <tr>\n",
       "      <th rowspan=\"3\" valign=\"top\">one</th>\n",
       "      <th>A</th>\n",
       "      <td>1.154942</td>\n",
       "      <td>NaN</td>\n",
       "    </tr>\n",
       "    <tr>\n",
       "      <th>B</th>\n",
       "      <td>NaN</td>\n",
       "      <td>0.228719</td>\n",
       "    </tr>\n",
       "    <tr>\n",
       "      <th>C</th>\n",
       "      <td>0.361239</td>\n",
       "      <td>NaN</td>\n",
       "    </tr>\n",
       "    <tr>\n",
       "      <th rowspan=\"3\" valign=\"top\">three</th>\n",
       "      <th>A</th>\n",
       "      <td>NaN</td>\n",
       "      <td>0.094014</td>\n",
       "    </tr>\n",
       "    <tr>\n",
       "      <th>B</th>\n",
       "      <td>-1.314995</td>\n",
       "      <td>NaN</td>\n",
       "    </tr>\n",
       "    <tr>\n",
       "      <th>C</th>\n",
       "      <td>NaN</td>\n",
       "      <td>-0.077920</td>\n",
       "    </tr>\n",
       "    <tr>\n",
       "      <th rowspan=\"3\" valign=\"top\">two</th>\n",
       "      <th>A</th>\n",
       "      <td>NaN</td>\n",
       "      <td>1.177508</td>\n",
       "    </tr>\n",
       "    <tr>\n",
       "      <th>B</th>\n",
       "      <td>0.356355</td>\n",
       "      <td>NaN</td>\n",
       "    </tr>\n",
       "    <tr>\n",
       "      <th>C</th>\n",
       "      <td>NaN</td>\n",
       "      <td>0.202673</td>\n",
       "    </tr>\n",
       "  </tbody>\n",
       "</table>\n",
       "</div>"
      ],
      "text/plain": [
       "C             boo       foo\n",
       "A     B                    \n",
       "one   A  1.154942       NaN\n",
       "      B       NaN  0.228719\n",
       "      C  0.361239       NaN\n",
       "three A       NaN  0.094014\n",
       "      B -1.314995       NaN\n",
       "      C       NaN -0.077920\n",
       "two   A       NaN  1.177508\n",
       "      B  0.356355       NaN\n",
       "      C       NaN  0.202673"
      ]
     },
     "execution_count": 112,
     "metadata": {},
     "output_type": "execute_result"
    }
   ],
   "source": [
    "pd.pivot_table(df,values='D',index=['A','B'],columns='C')"
   ]
  },
  {
   "cell_type": "code",
   "execution_count": 120,
   "metadata": {},
   "outputs": [
    {
     "data": {
      "text/plain": [
       "DatetimeIndex(['2017-07-13 00:00:00', '2017-07-13 00:00:01',\n",
       "               '2017-07-13 00:00:02', '2017-07-13 00:00:03',\n",
       "               '2017-07-13 00:00:04', '2017-07-13 00:00:05',\n",
       "               '2017-07-13 00:00:06', '2017-07-13 00:00:07',\n",
       "               '2017-07-13 00:00:08', '2017-07-13 00:00:09',\n",
       "               '2017-07-13 00:00:10', '2017-07-13 00:00:11',\n",
       "               '2017-07-13 00:00:12', '2017-07-13 00:00:13',\n",
       "               '2017-07-13 00:00:14', '2017-07-13 00:00:15',\n",
       "               '2017-07-13 00:00:16', '2017-07-13 00:00:17',\n",
       "               '2017-07-13 00:00:18', '2017-07-13 00:00:19',\n",
       "               '2017-07-13 00:00:20', '2017-07-13 00:00:21',\n",
       "               '2017-07-13 00:00:22', '2017-07-13 00:00:23',\n",
       "               '2017-07-13 00:00:24', '2017-07-13 00:00:25',\n",
       "               '2017-07-13 00:00:26', '2017-07-13 00:00:27',\n",
       "               '2017-07-13 00:00:28', '2017-07-13 00:00:29',\n",
       "               '2017-07-13 00:00:30', '2017-07-13 00:00:31',\n",
       "               '2017-07-13 00:00:32', '2017-07-13 00:00:33',\n",
       "               '2017-07-13 00:00:34', '2017-07-13 00:00:35',\n",
       "               '2017-07-13 00:00:36', '2017-07-13 00:00:37',\n",
       "               '2017-07-13 00:00:38', '2017-07-13 00:00:39',\n",
       "               '2017-07-13 00:00:40', '2017-07-13 00:00:41',\n",
       "               '2017-07-13 00:00:42', '2017-07-13 00:00:43',\n",
       "               '2017-07-13 00:00:44', '2017-07-13 00:00:45',\n",
       "               '2017-07-13 00:00:46', '2017-07-13 00:00:47',\n",
       "               '2017-07-13 00:00:48', '2017-07-13 00:00:49',\n",
       "               '2017-07-13 00:00:50', '2017-07-13 00:00:51',\n",
       "               '2017-07-13 00:00:52', '2017-07-13 00:00:53',\n",
       "               '2017-07-13 00:00:54', '2017-07-13 00:00:55',\n",
       "               '2017-07-13 00:00:56', '2017-07-13 00:00:57',\n",
       "               '2017-07-13 00:00:58', '2017-07-13 00:00:59',\n",
       "               '2017-07-13 00:01:00', '2017-07-13 00:01:01',\n",
       "               '2017-07-13 00:01:02', '2017-07-13 00:01:03',\n",
       "               '2017-07-13 00:01:04', '2017-07-13 00:01:05',\n",
       "               '2017-07-13 00:01:06', '2017-07-13 00:01:07',\n",
       "               '2017-07-13 00:01:08', '2017-07-13 00:01:09',\n",
       "               '2017-07-13 00:01:10', '2017-07-13 00:01:11',\n",
       "               '2017-07-13 00:01:12', '2017-07-13 00:01:13',\n",
       "               '2017-07-13 00:01:14', '2017-07-13 00:01:15',\n",
       "               '2017-07-13 00:01:16', '2017-07-13 00:01:17',\n",
       "               '2017-07-13 00:01:18', '2017-07-13 00:01:19',\n",
       "               '2017-07-13 00:01:20', '2017-07-13 00:01:21',\n",
       "               '2017-07-13 00:01:22', '2017-07-13 00:01:23',\n",
       "               '2017-07-13 00:01:24', '2017-07-13 00:01:25',\n",
       "               '2017-07-13 00:01:26', '2017-07-13 00:01:27',\n",
       "               '2017-07-13 00:01:28', '2017-07-13 00:01:29',\n",
       "               '2017-07-13 00:01:30', '2017-07-13 00:01:31',\n",
       "               '2017-07-13 00:01:32', '2017-07-13 00:01:33',\n",
       "               '2017-07-13 00:01:34', '2017-07-13 00:01:35',\n",
       "               '2017-07-13 00:01:36', '2017-07-13 00:01:37',\n",
       "               '2017-07-13 00:01:38', '2017-07-13 00:01:39'],\n",
       "              dtype='datetime64[ns]', freq='S')"
      ]
     },
     "execution_count": 120,
     "metadata": {},
     "output_type": "execute_result"
    }
   ],
   "source": [
    "rnge = pd.date_range('20170713',periods = 100,freq='s')\n",
    "rnge"
   ]
  },
  {
   "cell_type": "code",
   "execution_count": 122,
   "metadata": {},
   "outputs": [
    {
     "data": {
      "text/plain": [
       "2017-07-13 00:00:00     69\n",
       "2017-07-13 00:00:01    311\n",
       "2017-07-13 00:00:02    307\n",
       "2017-07-13 00:00:03    377\n",
       "2017-07-13 00:00:04    295\n",
       "2017-07-13 00:00:05    322\n",
       "2017-07-13 00:00:06     18\n",
       "2017-07-13 00:00:07    422\n",
       "2017-07-13 00:00:08    249\n",
       "2017-07-13 00:00:09    219\n",
       "2017-07-13 00:00:10    174\n",
       "2017-07-13 00:00:11     24\n",
       "2017-07-13 00:00:12    289\n",
       "2017-07-13 00:00:13    319\n",
       "2017-07-13 00:00:14     69\n",
       "2017-07-13 00:00:15    163\n",
       "2017-07-13 00:00:16    329\n",
       "2017-07-13 00:00:17    103\n",
       "2017-07-13 00:00:18    201\n",
       "2017-07-13 00:00:19    165\n",
       "2017-07-13 00:00:20    362\n",
       "2017-07-13 00:00:21    253\n",
       "2017-07-13 00:00:22    168\n",
       "2017-07-13 00:00:23    174\n",
       "2017-07-13 00:00:24     64\n",
       "2017-07-13 00:00:25    485\n",
       "2017-07-13 00:00:26    402\n",
       "2017-07-13 00:00:27    495\n",
       "2017-07-13 00:00:28    144\n",
       "2017-07-13 00:00:29     52\n",
       "                      ... \n",
       "2017-07-13 00:01:10      6\n",
       "2017-07-13 00:01:11    301\n",
       "2017-07-13 00:01:12    178\n",
       "2017-07-13 00:01:13    387\n",
       "2017-07-13 00:01:14    212\n",
       "2017-07-13 00:01:15     86\n",
       "2017-07-13 00:01:16    457\n",
       "2017-07-13 00:01:17     97\n",
       "2017-07-13 00:01:18     10\n",
       "2017-07-13 00:01:19    461\n",
       "2017-07-13 00:01:20    283\n",
       "2017-07-13 00:01:21    489\n",
       "2017-07-13 00:01:22    267\n",
       "2017-07-13 00:01:23    466\n",
       "2017-07-13 00:01:24    225\n",
       "2017-07-13 00:01:25    322\n",
       "2017-07-13 00:01:26     86\n",
       "2017-07-13 00:01:27    455\n",
       "2017-07-13 00:01:28    216\n",
       "2017-07-13 00:01:29    199\n",
       "2017-07-13 00:01:30    481\n",
       "2017-07-13 00:01:31    157\n",
       "2017-07-13 00:01:32     44\n",
       "2017-07-13 00:01:33    215\n",
       "2017-07-13 00:01:34     35\n",
       "2017-07-13 00:01:35    364\n",
       "2017-07-13 00:01:36    147\n",
       "2017-07-13 00:01:37    113\n",
       "2017-07-13 00:01:38    305\n",
       "2017-07-13 00:01:39    218\n",
       "Freq: S, Length: 100, dtype: int32"
      ]
     },
     "execution_count": 122,
     "metadata": {},
     "output_type": "execute_result"
    }
   ],
   "source": [
    "ts = pd.Series(np.random.randint(0,500,len(rnge)),index=rnge)\n",
    "ts"
   ]
  },
  {
   "cell_type": "code",
   "execution_count": 127,
   "metadata": {},
   "outputs": [
    {
     "data": {
      "text/plain": [
       "2017-07-13 00:00:00    4425\n",
       "2017-07-13 00:00:20    5320\n",
       "2017-07-13 00:00:40    4579\n",
       "2017-07-13 00:01:00    4561\n",
       "2017-07-13 00:01:20    5087\n",
       "Freq: 20S, dtype: int32"
      ]
     },
     "execution_count": 127,
     "metadata": {},
     "output_type": "execute_result"
    }
   ],
   "source": [
    "ts.resample('20s').sum()"
   ]
  },
  {
   "cell_type": "code",
   "execution_count": 140,
   "metadata": {},
   "outputs": [
    {
     "data": {
      "text/plain": [
       "DatetimeIndex(['2017-07-13', '2017-07-14', '2017-07-15', '2017-07-16',\n",
       "               '2017-07-17'],\n",
       "              dtype='datetime64[ns]', freq='D')"
      ]
     },
     "execution_count": 140,
     "metadata": {},
     "output_type": "execute_result"
    }
   ],
   "source": [
    "rng = pd.date_range('13-07-2017',periods=5,freq='D')\n",
    "rng"
   ]
  },
  {
   "cell_type": "code",
   "execution_count": 141,
   "metadata": {
    "collapsed": true
   },
   "outputs": [],
   "source": [
    "s = pd.Series(np.random.randint(0,20,len(rng)),index=rng)"
   ]
  },
  {
   "cell_type": "code",
   "execution_count": 142,
   "metadata": {},
   "outputs": [
    {
     "data": {
      "text/plain": [
       "2017-07-13    12\n",
       "2017-07-14     3\n",
       "2017-07-15     5\n",
       "2017-07-16    14\n",
       "2017-07-17     5\n",
       "Freq: D, dtype: int32"
      ]
     },
     "execution_count": 142,
     "metadata": {},
     "output_type": "execute_result"
    }
   ],
   "source": [
    "s"
   ]
  },
  {
   "cell_type": "code",
   "execution_count": 144,
   "metadata": {},
   "outputs": [
    {
     "data": {
      "text/plain": [
       "2017-07-13 00:00:00    12.0\n",
       "2017-07-13 15:00:00     3.0\n",
       "2017-07-14 06:00:00     NaN\n",
       "2017-07-14 21:00:00     5.0\n",
       "2017-07-15 12:00:00    14.0\n",
       "2017-07-16 03:00:00     NaN\n",
       "2017-07-16 18:00:00     5.0\n",
       "Freq: 900T, dtype: float64"
      ]
     },
     "execution_count": 144,
     "metadata": {},
     "output_type": "execute_result"
    }
   ],
   "source": [
    "s.resample('900min').sum()"
   ]
  },
  {
   "cell_type": "code",
   "execution_count": 148,
   "metadata": {},
   "outputs": [],
   "source": [
    "s_utc=s.tz_localize('UTC')"
   ]
  },
  {
   "cell_type": "code",
   "execution_count": 149,
   "metadata": {},
   "outputs": [
    {
     "data": {
      "text/plain": [
       "2017-07-12 20:00:00-04:00    12\n",
       "2017-07-13 20:00:00-04:00     3\n",
       "2017-07-14 20:00:00-04:00     5\n",
       "2017-07-15 20:00:00-04:00    14\n",
       "2017-07-16 20:00:00-04:00     5\n",
       "Freq: D, dtype: int32"
      ]
     },
     "execution_count": 149,
     "metadata": {},
     "output_type": "execute_result"
    }
   ],
   "source": [
    "s_utc.tz_convert('US/Eastern')"
   ]
  },
  {
   "cell_type": "code",
   "execution_count": 152,
   "metadata": {},
   "outputs": [],
   "source": [
    "s = pd.date_range('2017-07-13',periods=5,freq='M')"
   ]
  },
  {
   "cell_type": "code",
   "execution_count": 155,
   "metadata": {},
   "outputs": [
    {
     "data": {
      "text/plain": [
       "2017-07-31    10\n",
       "2017-08-31     6\n",
       "2017-09-30     6\n",
       "2017-10-31    10\n",
       "2017-11-30    10\n",
       "Freq: M, dtype: int32"
      ]
     },
     "execution_count": 155,
     "metadata": {},
     "output_type": "execute_result"
    }
   ],
   "source": [
    "sr = pd.Series(np.random.randint(1,15,len(s)),s)\n",
    "sr"
   ]
  },
  {
   "cell_type": "code",
   "execution_count": 156,
   "metadata": {},
   "outputs": [
    {
     "data": {
      "text/plain": [
       "2017-07    10\n",
       "2017-08     6\n",
       "2017-09     6\n",
       "2017-10    10\n",
       "2017-11    10\n",
       "Freq: M, dtype: int32"
      ]
     },
     "execution_count": 156,
     "metadata": {},
     "output_type": "execute_result"
    }
   ],
   "source": [
    "sr.to_period()"
   ]
  },
  {
   "cell_type": "code",
   "execution_count": 161,
   "metadata": {},
   "outputs": [
    {
     "data": {
      "text/plain": [
       "2017-07-01    10\n",
       "2017-08-01     6\n",
       "2017-09-01     6\n",
       "2017-10-01    10\n",
       "2017-11-01    10\n",
       "Freq: MS, dtype: int32"
      ]
     },
     "execution_count": 161,
     "metadata": {},
     "output_type": "execute_result"
    }
   ],
   "source": [
    "#first to_period option should be done to implement timestamp function\n",
    "sr.to_period().to_timestamp()"
   ]
  },
  {
   "cell_type": "code",
   "execution_count": 176,
   "metadata": {},
   "outputs": [
    {
     "data": {
      "text/plain": [
       "PeriodIndex(['1990Q1', '1990Q2', '1990Q3', '1990Q4', '1991Q1', '1991Q2',\n",
       "             '1991Q3', '1991Q4', '1992Q1', '1992Q2', '1992Q3', '1992Q4',\n",
       "             '1993Q1', '1993Q2', '1993Q3', '1993Q4', '1994Q1', '1994Q2',\n",
       "             '1994Q3', '1994Q4', '1995Q1', '1995Q2', '1995Q3', '1995Q4',\n",
       "             '1996Q1', '1996Q2', '1996Q3', '1996Q4', '1997Q1', '1997Q2',\n",
       "             '1997Q3', '1997Q4', '1998Q1', '1998Q2', '1998Q3', '1998Q4',\n",
       "             '1999Q1', '1999Q2', '1999Q3', '1999Q4', '2000Q1', '2000Q2',\n",
       "             '2000Q3', '2000Q4'],\n",
       "            dtype='period[Q-NOV]', freq='Q-NOV')"
      ]
     },
     "execution_count": 176,
     "metadata": {},
     "output_type": "execute_result"
    }
   ],
   "source": [
    "prng = pd.period_range('1990Q1','2000Q4',freq='Q-Nov')\n",
    "prng"
   ]
  },
  {
   "cell_type": "code",
   "execution_count": 177,
   "metadata": {
    "collapsed": true
   },
   "outputs": [],
   "source": [
    "s = pd.Series(np.random.randint(1,200,len(prng)),index=prng)"
   ]
  },
  {
   "cell_type": "code",
   "execution_count": 180,
   "metadata": {},
   "outputs": [
    {
     "ename": "NameError",
     "evalue": "name 'asfreq' is not defined",
     "output_type": "error",
     "traceback": [
      "\u001b[1;31m---------------------------------------------------------------------------\u001b[0m",
      "\u001b[1;31mNameError\u001b[0m                                 Traceback (most recent call last)",
      "\u001b[1;32m<ipython-input-180-cef0476969a0>\u001b[0m in \u001b[0;36m<module>\u001b[1;34m()\u001b[0m\n\u001b[1;32m----> 1\u001b[1;33m \u001b[0ms\u001b[0m\u001b[1;33m.\u001b[0m\u001b[0mindex\u001b[0m \u001b[1;33m=\u001b[0m \u001b[0mprng\u001b[0m\u001b[1;33m(\u001b[0m\u001b[0masfreq\u001b[0m\u001b[1;33m(\u001b[0m\u001b[1;34m'M'\u001b[0m\u001b[1;33m,\u001b[0m\u001b[1;34m'e'\u001b[0m\u001b[1;33m)\u001b[0m\u001b[1;33m+\u001b[0m\u001b[1;36m1\u001b[0m\u001b[1;33m)\u001b[0m\u001b[1;33m.\u001b[0m\u001b[0masfreq\u001b[0m\u001b[1;33m(\u001b[0m\u001b[1;34m'H'\u001b[0m\u001b[1;33m,\u001b[0m\u001b[1;34m'S'\u001b[0m\u001b[1;33m)\u001b[0m\u001b[1;33m+\u001b[0m\u001b[1;36m9\u001b[0m\u001b[1;33m\u001b[0m\u001b[0m\n\u001b[0m",
      "\u001b[1;31mNameError\u001b[0m: name 'asfreq' is not defined"
     ]
    }
   ],
   "source": [
    "s.index = prng(asfreq('M','e')+1).asfreq('H','S')+9"
   ]
  },
  {
   "cell_type": "code",
   "execution_count": 183,
   "metadata": {},
   "outputs": [],
   "source": [
    "s.index = (prng.asfreq('M', 'e') + 1).asfreq('H', 's') + 9"
   ]
  },
  {
   "cell_type": "code",
   "execution_count": 184,
   "metadata": {},
   "outputs": [
    {
     "data": {
      "text/plain": [
       "PeriodIndex(['1990-03-01 09:00', '1990-06-01 09:00', '1990-09-01 09:00',\n",
       "             '1990-12-01 09:00', '1991-03-01 09:00', '1991-06-01 09:00',\n",
       "             '1991-09-01 09:00', '1991-12-01 09:00', '1992-03-01 09:00',\n",
       "             '1992-06-01 09:00', '1992-09-01 09:00', '1992-12-01 09:00',\n",
       "             '1993-03-01 09:00', '1993-06-01 09:00', '1993-09-01 09:00',\n",
       "             '1993-12-01 09:00', '1994-03-01 09:00', '1994-06-01 09:00',\n",
       "             '1994-09-01 09:00', '1994-12-01 09:00', '1995-03-01 09:00',\n",
       "             '1995-06-01 09:00', '1995-09-01 09:00', '1995-12-01 09:00',\n",
       "             '1996-03-01 09:00', '1996-06-01 09:00', '1996-09-01 09:00',\n",
       "             '1996-12-01 09:00', '1997-03-01 09:00', '1997-06-01 09:00',\n",
       "             '1997-09-01 09:00', '1997-12-01 09:00', '1998-03-01 09:00',\n",
       "             '1998-06-01 09:00', '1998-09-01 09:00', '1998-12-01 09:00',\n",
       "             '1999-03-01 09:00', '1999-06-01 09:00', '1999-09-01 09:00',\n",
       "             '1999-12-01 09:00', '2000-03-01 09:00', '2000-06-01 09:00',\n",
       "             '2000-09-01 09:00', '2000-12-01 09:00'],\n",
       "            dtype='period[H]', freq='H')"
      ]
     },
     "execution_count": 184,
     "metadata": {},
     "output_type": "execute_result"
    }
   ],
   "source": [
    "s.index"
   ]
  },
  {
   "cell_type": "code",
   "execution_count": 197,
   "metadata": {},
   "outputs": [
    {
     "data": {
      "text/plain": [
       "PeriodIndex(['1990-03-01 09:00', '1990-06-01 09:00', '1990-09-01 09:00',\n",
       "             '1990-12-01 09:00', '1991-03-01 09:00', '1991-06-01 09:00',\n",
       "             '1991-09-01 09:00', '1991-12-01 09:00', '1992-03-01 09:00',\n",
       "             '1992-06-01 09:00', '1992-09-01 09:00', '1992-12-01 09:00',\n",
       "             '1993-03-01 09:00', '1993-06-01 09:00', '1993-09-01 09:00',\n",
       "             '1993-12-01 09:00', '1994-03-01 09:00', '1994-06-01 09:00',\n",
       "             '1994-09-01 09:00', '1994-12-01 09:00', '1995-03-01 09:00',\n",
       "             '1995-06-01 09:00', '1995-09-01 09:00', '1995-12-01 09:00',\n",
       "             '1996-03-01 09:00', '1996-06-01 09:00', '1996-09-01 09:00',\n",
       "             '1996-12-01 09:00', '1997-03-01 09:00', '1997-06-01 09:00',\n",
       "             '1997-09-01 09:00', '1997-12-01 09:00', '1998-03-01 09:00',\n",
       "             '1998-06-01 09:00', '1998-09-01 09:00', '1998-12-01 09:00',\n",
       "             '1999-03-01 09:00', '1999-06-01 09:00', '1999-09-01 09:00',\n",
       "             '1999-12-01 09:00', '2000-03-01 09:00', '2000-06-01 09:00',\n",
       "             '2000-09-01 09:00', '2000-12-01 09:00'],\n",
       "            dtype='period[H]', freq='H')"
      ]
     },
     "execution_count": 197,
     "metadata": {},
     "output_type": "execute_result"
    }
   ],
   "source": [
    "s.index = (prng.asfreq('M')+1).asfreq('H','S')+9\n",
    "s.index"
   ]
  },
  {
   "cell_type": "code",
   "execution_count": 198,
   "metadata": {},
   "outputs": [
    {
     "data": {
      "text/plain": [
       "1990-03-01 09:00    152\n",
       "1990-06-01 09:00    141\n",
       "1990-09-01 09:00     61\n",
       "1990-12-01 09:00     70\n",
       "1991-03-01 09:00    181\n",
       "1991-06-01 09:00     25\n",
       "1991-09-01 09:00    199\n",
       "1991-12-01 09:00    174\n",
       "1992-03-01 09:00    110\n",
       "1992-06-01 09:00     76\n",
       "1992-09-01 09:00    140\n",
       "1992-12-01 09:00     42\n",
       "1993-03-01 09:00    110\n",
       "1993-06-01 09:00    134\n",
       "1993-09-01 09:00     53\n",
       "1993-12-01 09:00     58\n",
       "1994-03-01 09:00    115\n",
       "1994-06-01 09:00     79\n",
       "1994-09-01 09:00    127\n",
       "1994-12-01 09:00      9\n",
       "1995-03-01 09:00     19\n",
       "1995-06-01 09:00    107\n",
       "1995-09-01 09:00     68\n",
       "1995-12-01 09:00    149\n",
       "1996-03-01 09:00     60\n",
       "1996-06-01 09:00     27\n",
       "1996-09-01 09:00     44\n",
       "1996-12-01 09:00    196\n",
       "1997-03-01 09:00    107\n",
       "1997-06-01 09:00    144\n",
       "1997-09-01 09:00     53\n",
       "1997-12-01 09:00    148\n",
       "1998-03-01 09:00    153\n",
       "1998-06-01 09:00     32\n",
       "1998-09-01 09:00    166\n",
       "1998-12-01 09:00    115\n",
       "1999-03-01 09:00     64\n",
       "1999-06-01 09:00    143\n",
       "1999-09-01 09:00      9\n",
       "1999-12-01 09:00    135\n",
       "2000-03-01 09:00    101\n",
       "2000-06-01 09:00     57\n",
       "2000-09-01 09:00    141\n",
       "2000-12-01 09:00     88\n",
       "Freq: H, dtype: int32"
      ]
     },
     "execution_count": 198,
     "metadata": {},
     "output_type": "execute_result"
    }
   ],
   "source": [
    "s"
   ]
  },
  {
   "cell_type": "code",
   "execution_count": 199,
   "metadata": {},
   "outputs": [
    {
     "data": {
      "text/plain": [
       "1990-03-01 09:00    152\n",
       "1990-06-01 09:00    141\n",
       "1990-09-01 09:00     61\n",
       "1990-12-01 09:00     70\n",
       "1991-03-01 09:00    181\n",
       "Freq: H, dtype: int32"
      ]
     },
     "execution_count": 199,
     "metadata": {},
     "output_type": "execute_result"
    }
   ],
   "source": [
    "s.head()"
   ]
  },
  {
   "cell_type": "code",
   "execution_count": 200,
   "metadata": {},
   "outputs": [
    {
     "data": {
      "text/plain": [
       "1999-12-01 09:00    135\n",
       "2000-03-01 09:00    101\n",
       "2000-06-01 09:00     57\n",
       "2000-09-01 09:00    141\n",
       "2000-12-01 09:00     88\n",
       "Freq: H, dtype: int32"
      ]
     },
     "execution_count": 200,
     "metadata": {},
     "output_type": "execute_result"
    }
   ],
   "source": [
    "s.tail()"
   ]
  },
  {
   "cell_type": "code",
   "execution_count": 219,
   "metadata": {},
   "outputs": [],
   "source": [
    "a = pd.Series(np.random.randn(200),index=pd.date_range(('2017-07-13'),periods=200))"
   ]
  },
  {
   "cell_type": "code",
   "execution_count": 220,
   "metadata": {},
   "outputs": [
    {
     "name": "stdout",
     "output_type": "stream",
     "text": [
      "2017-07-13    0.132901\n",
      "2017-07-14    0.810307\n",
      "2017-07-15   -3.313788\n",
      "2017-07-16   -0.933971\n",
      "2017-07-17   -0.099978\n",
      "2017-07-18   -0.259175\n",
      "2017-07-19    0.794622\n",
      "2017-07-20   -1.112795\n",
      "2017-07-21   -0.095767\n",
      "2017-07-22   -0.666194\n",
      "2017-07-23    0.308429\n",
      "2017-07-24   -0.304887\n",
      "2017-07-25    0.163220\n",
      "2017-07-26   -0.671181\n",
      "2017-07-27    0.234054\n",
      "2017-07-28    1.299012\n",
      "2017-07-29    0.738633\n",
      "2017-07-30   -0.312139\n",
      "2017-07-31    1.396910\n",
      "2017-08-01    1.706714\n",
      "2017-08-02    2.068555\n",
      "2017-08-03   -0.043116\n",
      "2017-08-04   -0.417069\n",
      "2017-08-05   -0.145512\n",
      "2017-08-06   -0.737350\n",
      "2017-08-07    1.031109\n",
      "2017-08-08    0.171005\n",
      "2017-08-09   -1.091763\n",
      "2017-08-10    0.219841\n",
      "2017-08-11    0.516987\n",
      "                ...   \n",
      "2017-12-30   -0.779454\n",
      "2017-12-31   -0.586722\n",
      "2018-01-01    0.038084\n",
      "2018-01-02    0.400442\n",
      "2018-01-03    0.535668\n",
      "2018-01-04   -1.440034\n",
      "2018-01-05   -0.497702\n",
      "2018-01-06   -1.232488\n",
      "2018-01-07    0.580690\n",
      "2018-01-08   -0.196845\n",
      "2018-01-09   -1.980030\n",
      "2018-01-10    0.766607\n",
      "2018-01-11   -0.162482\n",
      "2018-01-12    2.404567\n",
      "2018-01-13   -1.035492\n",
      "2018-01-14   -1.013650\n",
      "2018-01-15    0.011352\n",
      "2018-01-16    0.586851\n",
      "2018-01-17    0.150585\n",
      "2018-01-18   -0.663105\n",
      "2018-01-19   -1.572438\n",
      "2018-01-20    1.381971\n",
      "2018-01-21   -0.071171\n",
      "2018-01-22    0.868166\n",
      "2018-01-23   -1.683388\n",
      "2018-01-24    0.105012\n",
      "2018-01-25    1.338318\n",
      "2018-01-26   -1.020308\n",
      "2018-01-27    0.309694\n",
      "2018-01-28   -0.152261\n",
      "Freq: D, Length: 200, dtype: float64\n"
     ]
    }
   ],
   "source": [
    "print (a)"
   ]
  },
  {
   "cell_type": "code",
   "execution_count": 221,
   "metadata": {},
   "outputs": [
    {
     "data": {
      "text/plain": [
       "2017-07-13     0.132901\n",
       "2017-07-14     0.943208\n",
       "2017-07-15    -2.370580\n",
       "2017-07-16    -3.304551\n",
       "2017-07-17    -3.404529\n",
       "2017-07-18    -3.663704\n",
       "2017-07-19    -2.869082\n",
       "2017-07-20    -3.981877\n",
       "2017-07-21    -4.077645\n",
       "2017-07-22    -4.743839\n",
       "2017-07-23    -4.435410\n",
       "2017-07-24    -4.740296\n",
       "2017-07-25    -4.577076\n",
       "2017-07-26    -5.248257\n",
       "2017-07-27    -5.014203\n",
       "2017-07-28    -3.715191\n",
       "2017-07-29    -2.976558\n",
       "2017-07-30    -3.288698\n",
       "2017-07-31    -1.891788\n",
       "2017-08-01    -0.185074\n",
       "2017-08-02     1.883481\n",
       "2017-08-03     1.840366\n",
       "2017-08-04     1.423297\n",
       "2017-08-05     1.277785\n",
       "2017-08-06     0.540435\n",
       "2017-08-07     1.571544\n",
       "2017-08-08     1.742549\n",
       "2017-08-09     0.650786\n",
       "2017-08-10     0.870627\n",
       "2017-08-11     1.387615\n",
       "                ...    \n",
       "2017-12-30    14.104517\n",
       "2017-12-31    13.517795\n",
       "2018-01-01    13.555879\n",
       "2018-01-02    13.956321\n",
       "2018-01-03    14.491989\n",
       "2018-01-04    13.051955\n",
       "2018-01-05    12.554253\n",
       "2018-01-06    11.321765\n",
       "2018-01-07    11.902454\n",
       "2018-01-08    11.705609\n",
       "2018-01-09     9.725579\n",
       "2018-01-10    10.492186\n",
       "2018-01-11    10.329703\n",
       "2018-01-12    12.734270\n",
       "2018-01-13    11.698778\n",
       "2018-01-14    10.685128\n",
       "2018-01-15    10.696480\n",
       "2018-01-16    11.283331\n",
       "2018-01-17    11.433916\n",
       "2018-01-18    10.770811\n",
       "2018-01-19     9.198373\n",
       "2018-01-20    10.580344\n",
       "2018-01-21    10.509173\n",
       "2018-01-22    11.377339\n",
       "2018-01-23     9.693951\n",
       "2018-01-24     9.798963\n",
       "2018-01-25    11.137281\n",
       "2018-01-26    10.116973\n",
       "2018-01-27    10.426668\n",
       "2018-01-28    10.274407\n",
       "Freq: D, Length: 200, dtype: float64"
      ]
     },
     "execution_count": 221,
     "metadata": {},
     "output_type": "execute_result"
    }
   ],
   "source": [
    "a.cumsum()"
   ]
  },
  {
   "cell_type": "code",
   "execution_count": 222,
   "metadata": {},
   "outputs": [
    {
     "data": {
      "text/plain": [
       "<matplotlib.axes._subplots.AxesSubplot at 0x2292e003da0>"
      ]
     },
     "execution_count": 222,
     "metadata": {},
     "output_type": "execute_result"
    },
    {
     "data": {
      "image/png": "[encoded data removed]",
      "text/plain": [
       "<matplotlib.figure.Figure at 0x2292e82a588>"
      ]
     },
     "metadata": {},
     "output_type": "display_data"
    }
   ],
   "source": [
    "import matplotlib.pyplot as plt\n",
    "%matplotlib inline\n",
    "a.plot()"
   ]
  },
  {
   "cell_type": "code",
   "execution_count": 223,
   "metadata": {},
   "outputs": [
    {
     "data": {
      "text/plain": [
       "<matplotlib.axes._subplots.AxesSubplot at 0x2292e936ac8>"
      ]
     },
     "execution_count": 223,
     "metadata": {},
     "output_type": "execute_result"
    },
    {
     "data": {
      "image/png": "[encoded data removed]",
      "text/plain": [
       "<matplotlib.figure.Figure at 0x2292e950b70>"
      ]
     },
     "metadata": {},
     "output_type": "display_data"
    }
   ],
   "source": [
    "a.plot()"
   ]
  },
  {
   "cell_type": "code",
   "execution_count": 226,
   "metadata": {
    "collapsed": true
   },
   "outputs": [],
   "source": [
    "adf = pd.DataFrame(np.random.randn(200,4),index=a.index,columns=['A','B','C','D'])"
   ]
  },
  {
   "cell_type": "code",
   "execution_count": 227,
   "metadata": {},
   "outputs": [
    {
     "data": {
      "text/html": [
       "<div>\n",
       "<style>\n",
       "    .dataframe thead tr:only-child th {\n",
       "        text-align: right;\n",
       "    }\n",
       "\n",
       "    .dataframe thead th {\n",
       "        text-align: left;\n",
       "    }\n",
       "\n",
       "    .dataframe tbody tr th {\n",
       "        vertical-align: top;\n",
       "    }\n",
       "</style>\n",
       "<table border=\"1\" class=\"dataframe\">\n",
       "  <thead>\n",
       "    <tr style=\"text-align: right;\">\n",
       "      <th></th>\n",
       "      <th>A</th>\n",
       "      <th>B</th>\n",
       "      <th>C</th>\n",
       "      <th>D</th>\n",
       "    </tr>\n",
       "  </thead>\n",
       "  <tbody>\n",
       "    <tr>\n",
       "      <th>2017-07-13</th>\n",
       "      <td>1.001819</td>\n",
       "      <td>0.703026</td>\n",
       "      <td>1.070541</td>\n",
       "      <td>0.409040</td>\n",
       "    </tr>\n",
       "    <tr>\n",
       "      <th>2017-07-14</th>\n",
       "      <td>0.479988</td>\n",
       "      <td>1.617552</td>\n",
       "      <td>0.640004</td>\n",
       "      <td>-0.384459</td>\n",
       "    </tr>\n",
       "    <tr>\n",
       "      <th>2017-07-15</th>\n",
       "      <td>0.134799</td>\n",
       "      <td>1.276298</td>\n",
       "      <td>0.020595</td>\n",
       "      <td>0.867478</td>\n",
       "    </tr>\n",
       "    <tr>\n",
       "      <th>2017-07-16</th>\n",
       "      <td>1.556637</td>\n",
       "      <td>-1.024432</td>\n",
       "      <td>-0.043996</td>\n",
       "      <td>1.321846</td>\n",
       "    </tr>\n",
       "    <tr>\n",
       "      <th>2017-07-17</th>\n",
       "      <td>0.091054</td>\n",
       "      <td>-0.082490</td>\n",
       "      <td>1.336374</td>\n",
       "      <td>1.832704</td>\n",
       "    </tr>\n",
       "    <tr>\n",
       "      <th>2017-07-18</th>\n",
       "      <td>1.342423</td>\n",
       "      <td>-0.981187</td>\n",
       "      <td>-0.159615</td>\n",
       "      <td>2.883339</td>\n",
       "    </tr>\n",
       "    <tr>\n",
       "      <th>2017-07-19</th>\n",
       "      <td>2.360701</td>\n",
       "      <td>-1.317337</td>\n",
       "      <td>0.488142</td>\n",
       "      <td>3.729138</td>\n",
       "    </tr>\n",
       "    <tr>\n",
       "      <th>2017-07-20</th>\n",
       "      <td>1.116161</td>\n",
       "      <td>-1.640233</td>\n",
       "      <td>-0.260447</td>\n",
       "      <td>4.534681</td>\n",
       "    </tr>\n",
       "    <tr>\n",
       "      <th>2017-07-21</th>\n",
       "      <td>2.635173</td>\n",
       "      <td>-1.960626</td>\n",
       "      <td>0.101341</td>\n",
       "      <td>3.753210</td>\n",
       "    </tr>\n",
       "    <tr>\n",
       "      <th>2017-07-22</th>\n",
       "      <td>3.001712</td>\n",
       "      <td>-0.378192</td>\n",
       "      <td>1.037241</td>\n",
       "      <td>3.444338</td>\n",
       "    </tr>\n",
       "    <tr>\n",
       "      <th>2017-07-23</th>\n",
       "      <td>3.653936</td>\n",
       "      <td>0.296253</td>\n",
       "      <td>1.039847</td>\n",
       "      <td>1.953391</td>\n",
       "    </tr>\n",
       "    <tr>\n",
       "      <th>2017-07-24</th>\n",
       "      <td>2.248052</td>\n",
       "      <td>0.671525</td>\n",
       "      <td>2.921815</td>\n",
       "      <td>2.052489</td>\n",
       "    </tr>\n",
       "    <tr>\n",
       "      <th>2017-07-25</th>\n",
       "      <td>2.698566</td>\n",
       "      <td>2.452508</td>\n",
       "      <td>3.006210</td>\n",
       "      <td>1.620545</td>\n",
       "    </tr>\n",
       "    <tr>\n",
       "      <th>2017-07-26</th>\n",
       "      <td>1.454803</td>\n",
       "      <td>2.123664</td>\n",
       "      <td>3.363572</td>\n",
       "      <td>2.057786</td>\n",
       "    </tr>\n",
       "    <tr>\n",
       "      <th>2017-07-27</th>\n",
       "      <td>3.130522</td>\n",
       "      <td>1.884110</td>\n",
       "      <td>3.747332</td>\n",
       "      <td>2.246696</td>\n",
       "    </tr>\n",
       "    <tr>\n",
       "      <th>2017-07-28</th>\n",
       "      <td>2.859545</td>\n",
       "      <td>3.193449</td>\n",
       "      <td>4.221335</td>\n",
       "      <td>4.172482</td>\n",
       "    </tr>\n",
       "    <tr>\n",
       "      <th>2017-07-29</th>\n",
       "      <td>3.590822</td>\n",
       "      <td>2.793295</td>\n",
       "      <td>3.212652</td>\n",
       "      <td>5.436699</td>\n",
       "    </tr>\n",
       "    <tr>\n",
       "      <th>2017-07-30</th>\n",
       "      <td>3.516791</td>\n",
       "      <td>2.224600</td>\n",
       "      <td>1.834345</td>\n",
       "      <td>2.629527</td>\n",
       "    </tr>\n",
       "    <tr>\n",
       "      <th>2017-07-31</th>\n",
       "      <td>2.792017</td>\n",
       "      <td>1.822758</td>\n",
       "      <td>3.808886</td>\n",
       "      <td>4.362558</td>\n",
       "    </tr>\n",
       "    <tr>\n",
       "      <th>2017-08-01</th>\n",
       "      <td>3.343277</td>\n",
       "      <td>1.026897</td>\n",
       "      <td>3.263866</td>\n",
       "      <td>3.654806</td>\n",
       "    </tr>\n",
       "    <tr>\n",
       "      <th>2017-08-02</th>\n",
       "      <td>2.378827</td>\n",
       "      <td>0.864257</td>\n",
       "      <td>3.218993</td>\n",
       "      <td>3.964214</td>\n",
       "    </tr>\n",
       "    <tr>\n",
       "      <th>2017-08-03</th>\n",
       "      <td>0.558244</td>\n",
       "      <td>0.225756</td>\n",
       "      <td>4.422326</td>\n",
       "      <td>3.809936</td>\n",
       "    </tr>\n",
       "    <tr>\n",
       "      <th>2017-08-04</th>\n",
       "      <td>-0.771955</td>\n",
       "      <td>2.147658</td>\n",
       "      <td>3.837216</td>\n",
       "      <td>2.945920</td>\n",
       "    </tr>\n",
       "    <tr>\n",
       "      <th>2017-08-05</th>\n",
       "      <td>-0.445000</td>\n",
       "      <td>1.153552</td>\n",
       "      <td>1.976097</td>\n",
       "      <td>3.367589</td>\n",
       "    </tr>\n",
       "    <tr>\n",
       "      <th>2017-08-06</th>\n",
       "      <td>0.224171</td>\n",
       "      <td>0.737306</td>\n",
       "      <td>1.001753</td>\n",
       "      <td>2.908632</td>\n",
       "    </tr>\n",
       "    <tr>\n",
       "      <th>2017-08-07</th>\n",
       "      <td>0.305027</td>\n",
       "      <td>0.671240</td>\n",
       "      <td>0.412055</td>\n",
       "      <td>2.946496</td>\n",
       "    </tr>\n",
       "    <tr>\n",
       "      <th>2017-08-08</th>\n",
       "      <td>1.182735</td>\n",
       "      <td>0.118436</td>\n",
       "      <td>-1.054939</td>\n",
       "      <td>3.084740</td>\n",
       "    </tr>\n",
       "    <tr>\n",
       "      <th>2017-08-09</th>\n",
       "      <td>2.355118</td>\n",
       "      <td>-0.481382</td>\n",
       "      <td>-0.589251</td>\n",
       "      <td>2.597722</td>\n",
       "    </tr>\n",
       "    <tr>\n",
       "      <th>2017-08-10</th>\n",
       "      <td>2.849472</td>\n",
       "      <td>-0.542294</td>\n",
       "      <td>0.204832</td>\n",
       "      <td>2.433379</td>\n",
       "    </tr>\n",
       "    <tr>\n",
       "      <th>2017-08-11</th>\n",
       "      <td>2.612118</td>\n",
       "      <td>-0.889888</td>\n",
       "      <td>0.299168</td>\n",
       "      <td>1.009931</td>\n",
       "    </tr>\n",
       "    <tr>\n",
       "      <th>...</th>\n",
       "      <td>...</td>\n",
       "      <td>...</td>\n",
       "      <td>...</td>\n",
       "      <td>...</td>\n",
       "    </tr>\n",
       "    <tr>\n",
       "      <th>2017-12-30</th>\n",
       "      <td>16.997287</td>\n",
       "      <td>5.388346</td>\n",
       "      <td>9.599621</td>\n",
       "      <td>12.725871</td>\n",
       "    </tr>\n",
       "    <tr>\n",
       "      <th>2017-12-31</th>\n",
       "      <td>17.073408</td>\n",
       "      <td>5.712078</td>\n",
       "      <td>9.618009</td>\n",
       "      <td>12.024611</td>\n",
       "    </tr>\n",
       "    <tr>\n",
       "      <th>2018-01-01</th>\n",
       "      <td>17.235698</td>\n",
       "      <td>6.853264</td>\n",
       "      <td>11.257642</td>\n",
       "      <td>11.511466</td>\n",
       "    </tr>\n",
       "    <tr>\n",
       "      <th>2018-01-02</th>\n",
       "      <td>17.306810</td>\n",
       "      <td>6.999281</td>\n",
       "      <td>10.171571</td>\n",
       "      <td>12.863393</td>\n",
       "    </tr>\n",
       "    <tr>\n",
       "      <th>2018-01-03</th>\n",
       "      <td>15.330434</td>\n",
       "      <td>9.298823</td>\n",
       "      <td>8.301428</td>\n",
       "      <td>11.494830</td>\n",
       "    </tr>\n",
       "    <tr>\n",
       "      <th>2018-01-04</th>\n",
       "      <td>15.765249</td>\n",
       "      <td>9.237112</td>\n",
       "      <td>7.745408</td>\n",
       "      <td>10.410658</td>\n",
       "    </tr>\n",
       "    <tr>\n",
       "      <th>2018-01-05</th>\n",
       "      <td>16.330734</td>\n",
       "      <td>8.398776</td>\n",
       "      <td>7.079651</td>\n",
       "      <td>10.712925</td>\n",
       "    </tr>\n",
       "    <tr>\n",
       "      <th>2018-01-06</th>\n",
       "      <td>17.385600</td>\n",
       "      <td>9.613349</td>\n",
       "      <td>6.552885</td>\n",
       "      <td>10.640713</td>\n",
       "    </tr>\n",
       "    <tr>\n",
       "      <th>2018-01-07</th>\n",
       "      <td>17.435777</td>\n",
       "      <td>9.712147</td>\n",
       "      <td>7.964866</td>\n",
       "      <td>10.998281</td>\n",
       "    </tr>\n",
       "    <tr>\n",
       "      <th>2018-01-08</th>\n",
       "      <td>18.266876</td>\n",
       "      <td>10.205531</td>\n",
       "      <td>9.036471</td>\n",
       "      <td>11.702723</td>\n",
       "    </tr>\n",
       "    <tr>\n",
       "      <th>2018-01-09</th>\n",
       "      <td>18.621408</td>\n",
       "      <td>8.766498</td>\n",
       "      <td>7.703894</td>\n",
       "      <td>11.242072</td>\n",
       "    </tr>\n",
       "    <tr>\n",
       "      <th>2018-01-10</th>\n",
       "      <td>20.759053</td>\n",
       "      <td>8.800446</td>\n",
       "      <td>9.382610</td>\n",
       "      <td>10.658293</td>\n",
       "    </tr>\n",
       "    <tr>\n",
       "      <th>2018-01-11</th>\n",
       "      <td>19.854094</td>\n",
       "      <td>11.702550</td>\n",
       "      <td>7.417700</td>\n",
       "      <td>10.522424</td>\n",
       "    </tr>\n",
       "    <tr>\n",
       "      <th>2018-01-12</th>\n",
       "      <td>17.990116</td>\n",
       "      <td>11.170916</td>\n",
       "      <td>6.744857</td>\n",
       "      <td>11.205214</td>\n",
       "    </tr>\n",
       "    <tr>\n",
       "      <th>2018-01-13</th>\n",
       "      <td>18.969623</td>\n",
       "      <td>11.177625</td>\n",
       "      <td>8.226528</td>\n",
       "      <td>12.387184</td>\n",
       "    </tr>\n",
       "    <tr>\n",
       "      <th>2018-01-14</th>\n",
       "      <td>20.160045</td>\n",
       "      <td>11.160188</td>\n",
       "      <td>9.758059</td>\n",
       "      <td>12.203761</td>\n",
       "    </tr>\n",
       "    <tr>\n",
       "      <th>2018-01-15</th>\n",
       "      <td>19.981512</td>\n",
       "      <td>10.192021</td>\n",
       "      <td>9.438553</td>\n",
       "      <td>12.076558</td>\n",
       "    </tr>\n",
       "    <tr>\n",
       "      <th>2018-01-16</th>\n",
       "      <td>19.319793</td>\n",
       "      <td>11.033559</td>\n",
       "      <td>9.377489</td>\n",
       "      <td>12.729356</td>\n",
       "    </tr>\n",
       "    <tr>\n",
       "      <th>2018-01-17</th>\n",
       "      <td>20.606615</td>\n",
       "      <td>10.001807</td>\n",
       "      <td>9.335859</td>\n",
       "      <td>12.359706</td>\n",
       "    </tr>\n",
       "    <tr>\n",
       "      <th>2018-01-18</th>\n",
       "      <td>21.563273</td>\n",
       "      <td>9.653316</td>\n",
       "      <td>10.423990</td>\n",
       "      <td>12.826255</td>\n",
       "    </tr>\n",
       "    <tr>\n",
       "      <th>2018-01-19</th>\n",
       "      <td>19.671391</td>\n",
       "      <td>9.456928</td>\n",
       "      <td>11.130788</td>\n",
       "      <td>12.924176</td>\n",
       "    </tr>\n",
       "    <tr>\n",
       "      <th>2018-01-20</th>\n",
       "      <td>19.133074</td>\n",
       "      <td>9.043429</td>\n",
       "      <td>11.907713</td>\n",
       "      <td>12.887086</td>\n",
       "    </tr>\n",
       "    <tr>\n",
       "      <th>2018-01-21</th>\n",
       "      <td>20.231714</td>\n",
       "      <td>7.825041</td>\n",
       "      <td>13.332598</td>\n",
       "      <td>12.765130</td>\n",
       "    </tr>\n",
       "    <tr>\n",
       "      <th>2018-01-22</th>\n",
       "      <td>19.853706</td>\n",
       "      <td>7.969045</td>\n",
       "      <td>11.587872</td>\n",
       "      <td>13.765753</td>\n",
       "    </tr>\n",
       "    <tr>\n",
       "      <th>2018-01-23</th>\n",
       "      <td>20.681540</td>\n",
       "      <td>10.520918</td>\n",
       "      <td>12.315539</td>\n",
       "      <td>12.208158</td>\n",
       "    </tr>\n",
       "    <tr>\n",
       "      <th>2018-01-24</th>\n",
       "      <td>20.458251</td>\n",
       "      <td>9.738604</td>\n",
       "      <td>10.939267</td>\n",
       "      <td>12.375446</td>\n",
       "    </tr>\n",
       "    <tr>\n",
       "      <th>2018-01-25</th>\n",
       "      <td>19.622335</td>\n",
       "      <td>9.771874</td>\n",
       "      <td>11.269187</td>\n",
       "      <td>13.896918</td>\n",
       "    </tr>\n",
       "    <tr>\n",
       "      <th>2018-01-26</th>\n",
       "      <td>20.936315</td>\n",
       "      <td>11.053648</td>\n",
       "      <td>10.194419</td>\n",
       "      <td>14.710061</td>\n",
       "    </tr>\n",
       "    <tr>\n",
       "      <th>2018-01-27</th>\n",
       "      <td>22.276370</td>\n",
       "      <td>9.602857</td>\n",
       "      <td>10.036148</td>\n",
       "      <td>15.795743</td>\n",
       "    </tr>\n",
       "    <tr>\n",
       "      <th>2018-01-28</th>\n",
       "      <td>22.304107</td>\n",
       "      <td>9.666330</td>\n",
       "      <td>10.694084</td>\n",
       "      <td>15.434969</td>\n",
       "    </tr>\n",
       "  </tbody>\n",
       "</table>\n",
       "<p>200 rows × 4 columns</p>\n",
       "</div>"
      ],
      "text/plain": [
       "                    A          B          C          D\n",
       "2017-07-13   1.001819   0.703026   1.070541   0.409040\n",
       "2017-07-14   0.479988   1.617552   0.640004  -0.384459\n",
       "2017-07-15   0.134799   1.276298   0.020595   0.867478\n",
       "2017-07-16   1.556637  -1.024432  -0.043996   1.321846\n",
       "2017-07-17   0.091054  -0.082490   1.336374   1.832704\n",
       "2017-07-18   1.342423  -0.981187  -0.159615   2.883339\n",
       "2017-07-19   2.360701  -1.317337   0.488142   3.729138\n",
       "2017-07-20   1.116161  -1.640233  -0.260447   4.534681\n",
       "2017-07-21   2.635173  -1.960626   0.101341   3.753210\n",
       "2017-07-22   3.001712  -0.378192   1.037241   3.444338\n",
       "2017-07-23   3.653936   0.296253   1.039847   1.953391\n",
       "2017-07-24   2.248052   0.671525   2.921815   2.052489\n",
       "2017-07-25   2.698566   2.452508   3.006210   1.620545\n",
       "2017-07-26   1.454803   2.123664   3.363572   2.057786\n",
       "2017-07-27   3.130522   1.884110   3.747332   2.246696\n",
       "2017-07-28   2.859545   3.193449   4.221335   4.172482\n",
       "2017-07-29   3.590822   2.793295   3.212652   5.436699\n",
       "2017-07-30   3.516791   2.224600   1.834345   2.629527\n",
       "2017-07-31   2.792017   1.822758   3.808886   4.362558\n",
       "2017-08-01   3.343277   1.026897   3.263866   3.654806\n",
       "2017-08-02   2.378827   0.864257   3.218993   3.964214\n",
       "2017-08-03   0.558244   0.225756   4.422326   3.809936\n",
       "2017-08-04  -0.771955   2.147658   3.837216   2.945920\n",
       "2017-08-05  -0.445000   1.153552   1.976097   3.367589\n",
       "2017-08-06   0.224171   0.737306   1.001753   2.908632\n",
       "2017-08-07   0.305027   0.671240   0.412055   2.946496\n",
       "2017-08-08   1.182735   0.118436  -1.054939   3.084740\n",
       "2017-08-09   2.355118  -0.481382  -0.589251   2.597722\n",
       "2017-08-10   2.849472  -0.542294   0.204832   2.433379\n",
       "2017-08-11   2.612118  -0.889888   0.299168   1.009931\n",
       "...               ...        ...        ...        ...\n",
       "2017-12-30  16.997287   5.388346   9.599621  12.725871\n",
       "2017-12-31  17.073408   5.712078   9.618009  12.024611\n",
       "2018-01-01  17.235698   6.853264  11.257642  11.511466\n",
       "2018-01-02  17.306810   6.999281  10.171571  12.863393\n",
       "2018-01-03  15.330434   9.298823   8.301428  11.494830\n",
       "2018-01-04  15.765249   9.237112   7.745408  10.410658\n",
       "2018-01-05  16.330734   8.398776   7.079651  10.712925\n",
       "2018-01-06  17.385600   9.613349   6.552885  10.640713\n",
       "2018-01-07  17.435777   9.712147   7.964866  10.998281\n",
       "2018-01-08  18.266876  10.205531   9.036471  11.702723\n",
       "2018-01-09  18.621408   8.766498   7.703894  11.242072\n",
       "2018-01-10  20.759053   8.800446   9.382610  10.658293\n",
       "2018-01-11  19.854094  11.702550   7.417700  10.522424\n",
       "2018-01-12  17.990116  11.170916   6.744857  11.205214\n",
       "2018-01-13  18.969623  11.177625   8.226528  12.387184\n",
       "2018-01-14  20.160045  11.160188   9.758059  12.203761\n",
       "2018-01-15  19.981512  10.192021   9.438553  12.076558\n",
       "2018-01-16  19.319793  11.033559   9.377489  12.729356\n",
       "2018-01-17  20.606615  10.001807   9.335859  12.359706\n",
       "2018-01-18  21.563273   9.653316  10.423990  12.826255\n",
       "2018-01-19  19.671391   9.456928  11.130788  12.924176\n",
       "2018-01-20  19.133074   9.043429  11.907713  12.887086\n",
       "2018-01-21  20.231714   7.825041  13.332598  12.765130\n",
       "2018-01-22  19.853706   7.969045  11.587872  13.765753\n",
       "2018-01-23  20.681540  10.520918  12.315539  12.208158\n",
       "2018-01-24  20.458251   9.738604  10.939267  12.375446\n",
       "2018-01-25  19.622335   9.771874  11.269187  13.896918\n",
       "2018-01-26  20.936315  11.053648  10.194419  14.710061\n",
       "2018-01-27  22.276370   9.602857  10.036148  15.795743\n",
       "2018-01-28  22.304107   9.666330  10.694084  15.434969\n",
       "\n",
       "[200 rows x 4 columns]"
      ]
     },
     "execution_count": 227,
     "metadata": {},
     "output_type": "execute_result"
    }
   ],
   "source": [
    "adf.cumsum()"
   ]
  },
  {
   "cell_type": "code",
   "execution_count": 231,
   "metadata": {},
   "outputs": [],
   "source": [
    "k = adf[:10]"
   ]
  },
  {
   "cell_type": "code",
   "execution_count": 232,
   "metadata": {},
   "outputs": [
    {
     "data": {
      "text/plain": [
       "<matplotlib.axes._subplots.AxesSubplot at 0x2292fb58780>"
      ]
     },
     "execution_count": 232,
     "metadata": {},
     "output_type": "execute_result"
    },
    {
     "data": {
      "image/png": "[encoded data removed]",
      "text/plain": [
       "<matplotlib.figure.Figure at 0x2292fb780b8>"
      ]
     },
     "metadata": {},
     "output_type": "display_data"
    }
   ],
   "source": [
    "k.plot()"
   ]
  },
  {
   "cell_type": "code",
   "execution_count": 244,
   "metadata": {},
   "outputs": [
    {
     "data": {
      "text/plain": [
       "<matplotlib.figure.Figure at 0x2292fd6d198>"
      ]
     },
     "metadata": {},
     "output_type": "display_data"
    },
    {
     "data": {
      "image/png": "[encoded data removed]",
      "text/plain": [
       "<matplotlib.figure.Figure at 0x2292fd19860>"
      ]
     },
     "metadata": {},
     "output_type": "display_data"
    }
   ],
   "source": [
    "#plt.figure();k.plot();\n",
    "plt.figure(); k.plot();"
   ]
  },
  {
   "cell_type": "code",
   "execution_count": 250,
   "metadata": {},
   "outputs": [
    {
     "data": {
      "text/plain": [
       "<matplotlib.axes._subplots.AxesSubplot at 0x2292ff90240>"
      ]
     },
     "execution_count": 250,
     "metadata": {},
     "output_type": "execute_result"
    },
    {
     "data": {
      "image/png": "[encoded data removed]",
      "text/plain": [
       "<matplotlib.figure.Figure at 0x22930253ef0>"
      ]
     },
     "metadata": {},
     "output_type": "display_data"
    }
   ],
   "source": [
    "a.plot()"
   ]
  },
  {
   "cell_type": "code",
   "execution_count": null,
   "metadata": {
    "collapsed": true
   },
   "outputs": [],
   "source": [
    "#have a clear idea about what each commands do especially plt.figure() and plot.legend(loc='best')"
   ]
  }
 ],
 "metadata": {
  "kernelspec": {
   "display_name": "Python 3",
   "language": "python",
   "name": "python3"
  },
  "language_info": {
   "codemirror_mode": {
    "name": "ipython",
    "version": 3
   },
   "file_extension": ".py",
   "mimetype": "text/x-python",
   "name": "python",
   "nbconvert_exporter": "python",
   "pygments_lexer": "ipython3",
   "version": "3.6.1"
  }
 },
 "nbformat": 4,
 "nbformat_minor": 2
}
